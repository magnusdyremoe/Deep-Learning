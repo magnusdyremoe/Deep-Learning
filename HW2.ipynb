{
 "cells": [
  {
   "cell_type": "markdown",
   "metadata": {
    "id": "QUc9frYnVBI_"
   },
   "source": [
    "#**HW 2: Optimize and train Deep Models**\n",
    "\n",
    "In this homework, we will explore how to develop a simple Deep Neural Network for a classification problem. We will explore two common libraries: TensorFlow and Keras.\n",
    "Then we will explore how to face a well known problem that is common to encounter during the training phase: the Overfitting.\n",
    "Finally, we will study how to perform a fair model selection.\n",
    "Hint: Before starting the exercise take a look at how Tensorflow and Keras are designed.  https://keras.io/"
   ]
  },
  {
   "cell_type": "markdown",
   "metadata": {
    "id": "e-Nc7mFSVEiU"
   },
   "source": [
    "##Exercise 2.1: Image Classficiation with Tensorflow and Keras\n",
    "\n",
    "In this first exercise we will develop a 3 layers Neural Network to perfrom classification.\n",
    "\n",
    "Let's start importing the libraries we will need and setting a couple of environmental variables.\n"
   ]
  },
  {
   "cell_type": "code",
   "execution_count": 4,
   "metadata": {
    "id": "bWn9FzneVqJo"
   },
   "outputs": [],
   "source": [
    "import matplotlib as mpl\n",
    "import matplotlib.pyplot as plt\n",
    "import numpy as np\n",
    "import os\n",
    "import pandas as pd\n",
    "import sklearn\n",
    "import sys\n",
    "import tensorflow as tf\n",
    "from tensorflow import keras  # tf.keras\n",
    "import time\n",
    "\n",
    "import logging\n",
    "logging.disable(logging.WARNING)\n",
    "os.environ[\"TF_CPP_MIN_LOG_LEVEL\"] = \"3\" \n",
    "\n",
    "\n",
    "\n",
    "tf.random.set_seed(42)\n",
    "# os.environ['TF_DETERMINISTIC_OPS']='1'"
   ]
  },
  {
   "cell_type": "markdown",
   "metadata": {
    "id": "LT2HMYDEXcx0"
   },
   "source": [
    "### Load Data: IMDB dataset\n",
    "\n",
    "In this HW, we use the IMDB dataset that can be easily downloaded using Keras. The dataset contains 50,000 movie reviews from IMDB, labeled by sentiment (positive/negative). Reviews have been preprocessed, and each review is encoded as a sequence of word indexes. For convenience, the words are indexed by the overall frequency in the dataset, so that for example the integer \"3\" encodes the 3rd most frequent word in the data. For testing purposes, we will only consider the first 10,000  most common words.\n",
    "By default, the load_data method returns a breakdown of the dataset into training and test sets. Both these sets contain 25,000 samples. To also have a validation set, we split the test set in half.\n",
    "\n"
   ]
  },
  {
   "cell_type": "code",
   "execution_count": 5,
   "metadata": {
    "id": "JZv86gBLXj-D"
   },
   "outputs": [
    {
     "name": "stdout",
     "output_type": "stream",
     "text": [
      "Downloading data from https://storage.googleapis.com/tensorflow/tf-keras-datasets/imdb.npz\n",
      "17465344/17464789 [==============================] - 1s 0us/step\n"
     ]
    }
   ],
   "source": [
    "num_words = 1000\n",
    "(X_train, y_train), (X_test, y_test) = keras.datasets.imdb.load_data(num_words=num_words)\n",
    "(X_valid, X_test) = X_test[:12500], X_test[12500:]\n",
    "(y_valid, y_test) = y_test[:12500], y_test[12500:]"
   ]
  },
  {
   "cell_type": "markdown",
   "metadata": {
    "id": "TEZHVHpuPdQF"
   },
   "source": [
    "In this HW we will consider a Deep Neural Network. The IMDB data consists in reviews, each one composed by a seqeunce of words. In order to encode each review in a single tensor with a fixed number of elements, we will use multi-hot encoding. Multi-hot-encoding our lists means turning them into vectors of 0s and 1s. Concretely, this would mean for instance turning the sequence [3, 5] into a 10,000-dimensional vector that would be all-zeros except for indices 3 and 5, which would be ones. The obtained input representation indicates which words are present (at least one time) in the sentence.\n",
    "\n",
    " "
   ]
  },
  {
   "cell_type": "code",
   "execution_count": 6,
   "metadata": {
    "id": "hxE9DhiFPP0T"
   },
   "outputs": [],
   "source": [
    "def multi_hot_encoder(dataset, num_word):\n",
    "  dataset_multi_hot=[]\n",
    "  for sequence in dataset:\n",
    "    index, _ = tf.unique(sequence)\n",
    "    dataset_multi_hot.append(tf.reduce_max(tf.one_hot(index-1, num_word, dtype=tf.int32), axis=0))\n",
    "  dataset_multi_hot = tf.stack(dataset_multi_hot)\n",
    "  return dataset_multi_hot\n",
    "\n",
    "X_train = multi_hot_encoder(X_train,num_words)\n",
    "X_test = multi_hot_encoder(X_test,num_words)\n",
    "X_valid = multi_hot_encoder(X_valid,num_words)"
   ]
  },
  {
   "cell_type": "markdown",
   "metadata": {
    "id": "jGUg8TexZMNf"
   },
   "source": [
    "### Define the model:\n",
    "\n",
    "Let's build a Sequential model (keras.models.Sequential) and add four layers to it by calling its add() method:\n",
    "\n",
    "\n",
    "*   a input layer (tf.keras.Input) that is the first layer in your model. With this layer you should specify the input_shape argument, leaving out the batch size: (num_words,);\n",
    "*  a Dense layer (keras.layers.Dense) with 16 neurons, and the \"relu\" activation function;\n",
    "* another Dense layer with 16 neurons, also with the \"relu\" activation function;\n",
    "* a final Dense layer with 1 output neurons, and with the \"sigmoid\" activation (since we considering a binary classification task)."
   ]
  },
  {
   "cell_type": "code",
   "execution_count": 7,
   "metadata": {
    "id": "OaoEISyaZL56"
   },
   "outputs": [],
   "source": [
    "model = keras.models.Sequential()\n",
    "model.add(tf.keras.Input(shape=(num_words,)))\n",
    "model.add(keras.layers.Dense(16, activation=\"relu\"))\n",
    "model.add(keras.layers.Dense(16, activation=\"relu\"))\n",
    "model.add(keras.layers.Dense(1, activation=\"sigmoid\"))\n",
    "\n"
   ]
  },
  {
   "cell_type": "markdown",
   "metadata": {
    "id": "fYfxUOQVZljh"
   },
   "source": [
    "Call the model's summary() method to check if the model has been built correctly. Also, try using keras.utils.plot_model() to save an image of your model's architecture."
   ]
  },
  {
   "cell_type": "code",
   "execution_count": 8,
   "metadata": {
    "id": "IpGkQl5dZoWq"
   },
   "outputs": [
    {
     "name": "stdout",
     "output_type": "stream",
     "text": [
      "Model: \"sequential\"\n",
      "_________________________________________________________________\n",
      "Layer (type)                 Output Shape              Param #   \n",
      "=================================================================\n",
      "dense (Dense)                (None, 16)                16016     \n",
      "_________________________________________________________________\n",
      "dense_1 (Dense)              (None, 16)                272       \n",
      "_________________________________________________________________\n",
      "dense_2 (Dense)              (None, 1)                 17        \n",
      "=================================================================\n",
      "Total params: 16,305\n",
      "Trainable params: 16,305\n",
      "Non-trainable params: 0\n",
      "_________________________________________________________________\n"
     ]
    }
   ],
   "source": [
    "model.summary()"
   ]
  },
  {
   "cell_type": "code",
   "execution_count": 14,
   "metadata": {
    "id": "b1NbkrXRZwOA"
   },
   "outputs": [
    {
     "name": "stdout",
     "output_type": "stream",
     "text": [
      "('Failed to import pydot. You must `pip install pydot` and install graphviz (https://graphviz.gitlab.io/download/), ', 'for `pydotprint` to work.')\n"
     ]
    }
   ],
   "source": [
    "keras.utils.plot_model(model, \"my_imdb_model.png\", show_shapes=True)"
   ]
  },
  {
   "cell_type": "markdown",
   "metadata": {
    "id": "Mc3xzuA-33WH"
   },
   "source": [
    "As you can see, the first dimension of each layer is not defined (?), indeed this dimension in each layer is variable and depends on the batch size."
   ]
  },
  {
   "cell_type": "markdown",
   "metadata": {
    "id": "6FAjFixuHSA_"
   },
   "source": [
    "Instaed of using *add()* method it is also possibile to define the model using the following syntax"
   ]
  },
  {
   "cell_type": "code",
   "execution_count": 15,
   "metadata": {
    "id": "yOhr57M9GPHy"
   },
   "outputs": [
    {
     "name": "stdout",
     "output_type": "stream",
     "text": [
      "Model: \"sequential_1\"\n",
      "_________________________________________________________________\n",
      "Layer (type)                 Output Shape              Param #   \n",
      "=================================================================\n",
      "dense_3 (Dense)              (None, 16)                16016     \n",
      "_________________________________________________________________\n",
      "dense_4 (Dense)              (None, 16)                272       \n",
      "_________________________________________________________________\n",
      "dense_5 (Dense)              (None, 1)                 17        \n",
      "=================================================================\n",
      "Total params: 16,305\n",
      "Trainable params: 16,305\n",
      "Non-trainable params: 0\n",
      "_________________________________________________________________\n",
      "('Failed to import pydot. You must `pip install pydot` and install graphviz (https://graphviz.gitlab.io/download/), ', 'for `pydotprint` to work.')\n"
     ]
    }
   ],
   "source": [
    "model = keras.models.Sequential([\n",
    "    tf.keras.Input(shape=(num_words,)),\n",
    "    keras.layers.Dense(16, activation=\"relu\"),\n",
    "    keras.layers.Dense(16, activation=\"relu\"),\n",
    "    keras.layers.Dense(1, activation=\"sigmoid\")\n",
    "])\n",
    "model.summary()\n",
    "keras.utils.plot_model(model, \"my_imdb_model.png\", show_shapes=True)"
   ]
  },
  {
   "cell_type": "markdown",
   "metadata": {
    "id": "2ySdJmzxaSuz"
   },
   "source": [
    "### Optimize the model:\n",
    "\n",
    "After the model has been created, you must call its compile() method to specify the loss function and the optimizer to use.\n",
    "\n",
    "Since the model performs a binary classification task, we use the bynary cross-entropy as loss. As optimizer we use Adam.\n",
    "\n",
    "Moreover, you can optionally specify a list of additional metrics that should be measured during training. In this case we specify metrics=[\"accuracy\"]."
   ]
  },
  {
   "cell_type": "code",
   "execution_count": 16,
   "metadata": {
    "id": "x3bbsY3uaeh5"
   },
   "outputs": [],
   "source": [
    "model.compile(loss=\"binary_crossentropy\",\n",
    "              optimizer=keras.optimizers.Adam(learning_rate=1e-4),\n",
    "              metrics=[\"accuracy\"])"
   ]
  },
  {
   "cell_type": "markdown",
   "metadata": {
    "id": "NB9SV0MpaeTg"
   },
   "source": [
    "Now our model is ready to be trained. Call its fit() method, passing to it the input features (X_train) and the target classes (y_train). Set the number of epochs to 20. \n",
    "In order to validate our model we will also pass the validation data by setting validation_data=(X_valid, y_valid). Keras will compute the loss and the additional metrics (the accuracy in this case) on the validation set at the end of each epoch. If the loss on the training set is much lower than the one on the validation set, your model is probably overfitting the training set. Note: the fit() method will return a History object containing training stats."
   ]
  },
  {
   "cell_type": "code",
   "execution_count": 17,
   "metadata": {
    "id": "5whx-LU3aoKn"
   },
   "outputs": [
    {
     "name": "stdout",
     "output_type": "stream",
     "text": [
      "Epoch 1/20\n",
      "782/782 [==============================] - 3s 3ms/step - loss: 0.6691 - accuracy: 0.5917 - val_loss: 0.5086 - val_accuracy: 0.7899\n",
      "Epoch 2/20\n",
      "782/782 [==============================] - 1s 1ms/step - loss: 0.4609 - accuracy: 0.8105 - val_loss: 0.3856 - val_accuracy: 0.8406\n",
      "Epoch 3/20\n",
      "782/782 [==============================] - 1s 1ms/step - loss: 0.3556 - accuracy: 0.8580 - val_loss: 0.3534 - val_accuracy: 0.8515\n",
      "Epoch 4/20\n",
      "782/782 [==============================] - 1s 1ms/step - loss: 0.3298 - accuracy: 0.8647 - val_loss: 0.3407 - val_accuracy: 0.8543\n",
      "Epoch 5/20\n",
      "782/782 [==============================] - 1s 1ms/step - loss: 0.3148 - accuracy: 0.8714 - val_loss: 0.3377 - val_accuracy: 0.8555\n",
      "Epoch 6/20\n",
      "782/782 [==============================] - 1s 1ms/step - loss: 0.3055 - accuracy: 0.8712 - val_loss: 0.3344 - val_accuracy: 0.8565\n",
      "Epoch 7/20\n",
      "782/782 [==============================] - 1s 1ms/step - loss: 0.2989 - accuracy: 0.8771 - val_loss: 0.3344 - val_accuracy: 0.8562\n",
      "Epoch 8/20\n",
      "782/782 [==============================] - 1s 1ms/step - loss: 0.3030 - accuracy: 0.8742 - val_loss: 0.3344 - val_accuracy: 0.8557\n",
      "Epoch 9/20\n",
      "782/782 [==============================] - 1s 1ms/step - loss: 0.2970 - accuracy: 0.8784 - val_loss: 0.3352 - val_accuracy: 0.8549\n",
      "Epoch 10/20\n",
      "782/782 [==============================] - 1s 1ms/step - loss: 0.2928 - accuracy: 0.8781 - val_loss: 0.3355 - val_accuracy: 0.8552\n",
      "Epoch 11/20\n",
      "782/782 [==============================] - 1s 1ms/step - loss: 0.2966 - accuracy: 0.8797 - val_loss: 0.3366 - val_accuracy: 0.8539\n",
      "Epoch 12/20\n",
      "782/782 [==============================] - 1s 1ms/step - loss: 0.2865 - accuracy: 0.8849 - val_loss: 0.3373 - val_accuracy: 0.8549\n",
      "Epoch 13/20\n",
      "782/782 [==============================] - 1s 1ms/step - loss: 0.2954 - accuracy: 0.8803 - val_loss: 0.3393 - val_accuracy: 0.8543\n",
      "Epoch 14/20\n",
      "782/782 [==============================] - 1s 1ms/step - loss: 0.2856 - accuracy: 0.8837 - val_loss: 0.3387 - val_accuracy: 0.8536\n",
      "Epoch 15/20\n",
      "782/782 [==============================] - 1s 1ms/step - loss: 0.2884 - accuracy: 0.8822 - val_loss: 0.3398 - val_accuracy: 0.8538\n",
      "Epoch 16/20\n",
      "782/782 [==============================] - 1s 1ms/step - loss: 0.2878 - accuracy: 0.8806 - val_loss: 0.3405 - val_accuracy: 0.8534\n",
      "Epoch 17/20\n",
      "782/782 [==============================] - 1s 1ms/step - loss: 0.2871 - accuracy: 0.8821 - val_loss: 0.3418 - val_accuracy: 0.8546\n",
      "Epoch 18/20\n",
      "782/782 [==============================] - 1s 1ms/step - loss: 0.2822 - accuracy: 0.8861 - val_loss: 0.3427 - val_accuracy: 0.8542\n",
      "Epoch 19/20\n",
      "782/782 [==============================] - 1s 1ms/step - loss: 0.2847 - accuracy: 0.8863 - val_loss: 0.3433 - val_accuracy: 0.8526\n",
      "Epoch 20/20\n",
      "782/782 [==============================] - 1s 1ms/step - loss: 0.2792 - accuracy: 0.8863 - val_loss: 0.3445 - val_accuracy: 0.8531\n"
     ]
    }
   ],
   "source": [
    "history = model.fit(X_train, y_train, epochs=20,\n",
    "                    validation_data=(X_valid, y_valid))"
   ]
  },
  {
   "cell_type": "markdown",
   "metadata": {
    "id": "EPxiw8iCADr-"
   },
   "source": [
    "Let's plot the loss and the accuracy trends on both training and validation sets. We define the \"plot_learning_acc_and_loss\" function because we will reuse it in the next steps."
   ]
  },
  {
   "cell_type": "code",
   "execution_count": 18,
   "metadata": {
    "id": "AJg-F7mUa7st"
   },
   "outputs": [
    {
     "data": {
      "image/png": "[encoded data removed]",
      "text/plain": [
       "<Figure size 576x360 with 1 Axes>"
      ]
     },
     "metadata": {
      "needs_background": "light"
     },
     "output_type": "display_data"
    }
   ],
   "source": [
    "def plot_learning_acc_and_loss(history):\n",
    "    pd.DataFrame(history.history).plot(figsize=(8, 5))\n",
    "    plt.grid(True)\n",
    "    plt.show()\n",
    "plot_learning_acc_and_loss(history)"
   ]
  },
  {
   "cell_type": "markdown",
   "metadata": {
    "id": "9O3-sLmxansJ"
   },
   "source": [
    "### [TO COMPLETE] Evaluate the model:\n",
    "\n",
    "Now, our model has been optimized on the training set, and as you can see the performance on the validation set in quite similar (so it does not overfit the training data). Let's now evaluate the performance of our model using the test set."
   ]
  },
  {
   "cell_type": "code",
   "execution_count": 19,
   "metadata": {
    "id": "q-ZvJEcObdyB",
    "scrolled": true
   },
   "outputs": [
    {
     "name": "stdout",
     "output_type": "stream",
     "text": [
      "391/391 [==============================] - 0s 829us/step - loss: 0.3227 - accuracy: 0.8662\n"
     ]
    },
    {
     "data": {
      "text/plain": [
       "[0.32265692949295044, 0.8662400245666504]"
      ]
     },
     "execution_count": 19,
     "metadata": {},
     "output_type": "execute_result"
    }
   ],
   "source": [
    "model.evaluate(X_test, y_test)"
   ]
  },
  {
   "cell_type": "markdown",
   "metadata": {
    "id": "KTSxlnwrII-n"
   },
   "source": [
    "[TO COMPLETE] Explain why it is important to use test and validation, and why it is important to evaluate the model on the test set instead of the validation set. Finally, explain which is the usefulness of the validation set. Insert the discussion in this cell.\n",
    "\n",
    "### Why do we use validation and test data sets when evaluating the model?\n",
    "The fact is that performance based on training data is completely useless as it has no use apart from our particular training set. Ideally the network should be able to function for new examples in real life applications. When using validation and test data we see the networks performance on data previously unknown to the network (unknown in the fact that the model is not fitted for the validation or test data). This gives us a performance metric more accustomed and more realistic to real-world applications. Hence, that is why we want to improve performance for the validation and test data."
   ]
  },
  {
   "cell_type": "markdown",
   "metadata": {
    "id": "aeGlzKe864Gq"
   },
   "source": [
    "## [TO COMPLETE] Exercise 2.2: Overfiting\n",
    "\n",
    "A common problem that occurs when you train a deep neural network is overfittig. Overfitting occurs when you achieve a good fit of your model on the training data, while it does not generalize well on new, unseen data. In other words, the model learned patterns specific to the training data, which are irrelevant in other data.\n",
    "As we have seen in the previous exercise, our model does not overfit the training data. In this exercise, we try to modify the training parameters in order to have a model that overfits.\n",
    "Overfitting can have many causes and usually is a combination of some of them, for instance: too many parameters/ layers, too few training samples, wrong learning rate (usualy too high), etc..\n",
    "\n",
    "[TO COMPLETE] In the next cell define a new model (similar to the previuos one) that overfits the training data; then plot the trend of the loss in training and validation set."
   ]
  },
  {
   "cell_type": "code",
   "execution_count": 21,
   "metadata": {
    "id": "T2B2DFEC8f88"
   },
   "outputs": [
    {
     "name": "stdout",
     "output_type": "stream",
     "text": [
      "Epoch 1/25\n",
      "782/782 [==============================] - 2s 2ms/step - loss: 0.4572 - accuracy: 0.7854 - val_loss: 0.3600 - val_accuracy: 0.8446\n",
      "Epoch 2/25\n",
      "782/782 [==============================] - 1s 1ms/step - loss: 0.3272 - accuracy: 0.8614 - val_loss: 0.3373 - val_accuracy: 0.8537\n",
      "Epoch 3/25\n",
      "782/782 [==============================] - 1s 1ms/step - loss: 0.3041 - accuracy: 0.8730 - val_loss: 0.3451 - val_accuracy: 0.8487\n",
      "Epoch 4/25\n",
      "782/782 [==============================] - 1s 1ms/step - loss: 0.2995 - accuracy: 0.8729 - val_loss: 0.3446 - val_accuracy: 0.8485\n",
      "Epoch 5/25\n",
      "782/782 [==============================] - 1s 1ms/step - loss: 0.2885 - accuracy: 0.8799 - val_loss: 0.3317 - val_accuracy: 0.8540\n",
      "Epoch 6/25\n",
      "782/782 [==============================] - 1s 1ms/step - loss: 0.2739 - accuracy: 0.8858 - val_loss: 0.3324 - val_accuracy: 0.8558\n",
      "Epoch 7/25\n",
      "782/782 [==============================] - 1s 1ms/step - loss: 0.2595 - accuracy: 0.8890 - val_loss: 0.3414 - val_accuracy: 0.8519\n",
      "Epoch 8/25\n",
      "782/782 [==============================] - 1s 2ms/step - loss: 0.2514 - accuracy: 0.8952 - val_loss: 0.3398 - val_accuracy: 0.8526\n",
      "Epoch 9/25\n",
      "782/782 [==============================] - 1s 1ms/step - loss: 0.2359 - accuracy: 0.9072 - val_loss: 0.3465 - val_accuracy: 0.8531\n",
      "Epoch 10/25\n",
      "782/782 [==============================] - 1s 2ms/step - loss: 0.2191 - accuracy: 0.9142 - val_loss: 0.3579 - val_accuracy: 0.8484\n",
      "Epoch 11/25\n",
      "782/782 [==============================] - 1s 2ms/step - loss: 0.2071 - accuracy: 0.9194 - val_loss: 0.3682 - val_accuracy: 0.8485\n",
      "Epoch 12/25\n",
      "782/782 [==============================] - 1s 1ms/step - loss: 0.1852 - accuracy: 0.9333 - val_loss: 0.3801 - val_accuracy: 0.8424\n",
      "Epoch 13/25\n",
      "782/782 [==============================] - 1s 1ms/step - loss: 0.1756 - accuracy: 0.9356 - val_loss: 0.4053 - val_accuracy: 0.8451\n",
      "Epoch 14/25\n",
      "782/782 [==============================] - 1s 1ms/step - loss: 0.1513 - accuracy: 0.9459 - val_loss: 0.4093 - val_accuracy: 0.8408\n",
      "Epoch 15/25\n",
      "782/782 [==============================] - 1s 1ms/step - loss: 0.1389 - accuracy: 0.9532 - val_loss: 0.4382 - val_accuracy: 0.8395\n",
      "Epoch 16/25\n",
      "782/782 [==============================] - 1s 1ms/step - loss: 0.1248 - accuracy: 0.9601 - val_loss: 0.4608 - val_accuracy: 0.8391\n",
      "Epoch 17/25\n",
      "782/782 [==============================] - 1s 1ms/step - loss: 0.1073 - accuracy: 0.9670 - val_loss: 0.4828 - val_accuracy: 0.8402\n",
      "Epoch 18/25\n",
      "782/782 [==============================] - 1s 1ms/step - loss: 0.0904 - accuracy: 0.9737 - val_loss: 0.5069 - val_accuracy: 0.8358\n",
      "Epoch 19/25\n",
      "782/782 [==============================] - 1s 1ms/step - loss: 0.0829 - accuracy: 0.9791 - val_loss: 0.5363 - val_accuracy: 0.8366\n",
      "Epoch 20/25\n",
      "782/782 [==============================] - 1s 1ms/step - loss: 0.0667 - accuracy: 0.9850 - val_loss: 0.5652 - val_accuracy: 0.8301\n",
      "Epoch 21/25\n",
      "782/782 [==============================] - 1s 1ms/step - loss: 0.0635 - accuracy: 0.9856 - val_loss: 0.6044 - val_accuracy: 0.8335\n",
      "Epoch 22/25\n",
      "782/782 [==============================] - 1s 1ms/step - loss: 0.0508 - accuracy: 0.9900 - val_loss: 0.6379 - val_accuracy: 0.8306\n",
      "Epoch 23/25\n",
      "782/782 [==============================] - 1s 1ms/step - loss: 0.0393 - accuracy: 0.9938 - val_loss: 0.6830 - val_accuracy: 0.8269\n",
      "Epoch 24/25\n",
      "782/782 [==============================] - 1s 1ms/step - loss: 0.0361 - accuracy: 0.9941 - val_loss: 0.7032 - val_accuracy: 0.8263\n",
      "Epoch 25/25\n",
      "782/782 [==============================] - 1s 1ms/step - loss: 0.0308 - accuracy: 0.9952 - val_loss: 0.7486 - val_accuracy: 0.8276\n",
      "Model Evaluation\n",
      "391/391 [==============================] - 0s 603us/step - loss: 0.6644 - accuracy: 0.8351\n"
     ]
    },
    {
     "data": {
      "text/plain": [
       "[0.6643878817558289, 0.8351200222969055]"
      ]
     },
     "execution_count": 21,
     "metadata": {},
     "output_type": "execute_result"
    }
   ],
   "source": [
    "model = keras.models.Sequential([\n",
    "    tf.keras.Input(shape=(num_words,)),\n",
    "    keras.layers.Dense(16, activation=\"relu\"),\n",
    "    keras.layers.Dense(1, activation=\"sigmoid\")\n",
    "])\n",
    "#Modify the previuos model in order to obtain a new mdel that overfit the training data\n",
    "#Fewer layers should add less complexity to the model and hence increase the possibility of overfitting\n",
    "\n",
    "model.compile(loss=\"binary_crossentropy\",\n",
    "              optimizer=keras.optimizers.Adam(learning_rate=1e-3),\n",
    "              metrics=[\"accuracy\"])\n",
    "\n",
    "history = model.fit(X_train, y_train, epochs=25,\n",
    "                    validation_data=(X_valid, y_valid))\n",
    "\n",
    "print(\"Model Evaluation\")\n",
    "model.evaluate(X_test, y_test)"
   ]
  },
  {
   "cell_type": "markdown",
   "metadata": {
    "id": "MS0fujEqh_m3"
   },
   "source": [
    "Define the plot_learning_curves function that plots inly the losses (not the accuracy)."
   ]
  },
  {
   "cell_type": "code",
   "execution_count": 22,
   "metadata": {
    "id": "q5EsklC0DZYH"
   },
   "outputs": [
    {
     "data": {
      "image/png": "[encoded data removed]",
      "text/plain": [
       "<Figure size 576x360 with 1 Axes>"
      ]
     },
     "metadata": {
      "needs_background": "light"
     },
     "output_type": "display_data"
    }
   ],
   "source": [
    "def plot_learning_curves(history):\n",
    "    plt.figure(figsize=(8, 5))\n",
    "    plt.plot(history.epoch,history.history['loss'], label='train loss')\n",
    "    plt.plot(history.epoch,history.history['val_loss'], label='valid loss')\n",
    "    plt.legend()\n",
    "    plt.title('loss')\n",
    "    plt.grid(True)\n",
    "    plt.show()\n",
    "plot_learning_curves(history)"
   ]
  },
  {
   "cell_type": "markdown",
   "metadata": {
    "id": "OW4Kf4fgDfOs"
   },
   "source": [
    "### [TO COMPLETE] L1 norm\n",
    "\n",
    "One possible way to solve the overitting issue is by using regularization methods. The two most common regularization methods in Deep Learning are the L1-norm regularization and the L2-norm regularization. Both These techniques are based on limiting the capacity of models, by adding a parameter norm penalty to the objective function $\\mathcal{J}$:\n",
    "$$\n",
    "\\hat{\\mathcal{J}}(\\theta,\\mathbf{X},\\mathbf{y}) = \\mathcal{J}(\\theta,\\mathbf{X},\\mathbf{y}) + \\alpha \\Omega(\\theta)\n",
    "$$\n",
    "where $\\alpha$ is a hyperparameter that weighs the relative contribution of the norm penalty $\\Omega$.\n",
    "Lets start by considering the L1-norm regularization where the regularization term is defined as:\n",
    "$$\n",
    " \\Omega(\\theta)=||\\mathbf{W}||_1=\\sum_i |\\mathbf{w}|\n",
    "$$\n",
    "Let's find the values for the $\\alpha$ parameters that allow to remove the overfitting effect."
   ]
  },
  {
   "cell_type": "code",
   "execution_count": 25,
   "metadata": {
    "id": "QzD8520dDgw3",
    "scrolled": false
   },
   "outputs": [
    {
     "name": "stdout",
     "output_type": "stream",
     "text": [
      "Epoch 1/40\n",
      "782/782 [==============================] - 2s 2ms/step - loss: 0.7974 - accuracy: 0.7847 - val_loss: 0.5153 - val_accuracy: 0.8424\n",
      "Epoch 2/40\n",
      "782/782 [==============================] - 1s 1ms/step - loss: 0.5128 - accuracy: 0.8438 - val_loss: 0.5027 - val_accuracy: 0.8441\n",
      "Epoch 3/40\n",
      "782/782 [==============================] - 1s 1ms/step - loss: 0.4928 - accuracy: 0.8507 - val_loss: 0.4961 - val_accuracy: 0.8439\n",
      "Epoch 4/40\n",
      "782/782 [==============================] - 1s 1ms/step - loss: 0.4878 - accuracy: 0.8480 - val_loss: 0.5014 - val_accuracy: 0.8330\n",
      "Epoch 5/40\n",
      "782/782 [==============================] - 1s 1ms/step - loss: 0.4742 - accuracy: 0.8516 - val_loss: 0.5033 - val_accuracy: 0.8243\n",
      "Epoch 6/40\n",
      "782/782 [==============================] - 1s 1ms/step - loss: 0.4630 - accuracy: 0.8528 - val_loss: 0.4646 - val_accuracy: 0.8474\n",
      "Epoch 7/40\n",
      "782/782 [==============================] - 1s 1ms/step - loss: 0.4449 - accuracy: 0.8582 - val_loss: 0.4505 - val_accuracy: 0.8514\n",
      "Epoch 8/40\n",
      "782/782 [==============================] - 1s 1ms/step - loss: 0.4442 - accuracy: 0.8582 - val_loss: 0.4436 - val_accuracy: 0.8506\n",
      "Epoch 9/40\n",
      "782/782 [==============================] - 1s 1ms/step - loss: 0.4298 - accuracy: 0.8604 - val_loss: 0.4371 - val_accuracy: 0.8537\n",
      "Epoch 10/40\n",
      "782/782 [==============================] - 1s 1ms/step - loss: 0.4226 - accuracy: 0.8600 - val_loss: 0.4374 - val_accuracy: 0.8537\n",
      "Epoch 11/40\n",
      "782/782 [==============================] - 1s 1ms/step - loss: 0.4231 - accuracy: 0.8607 - val_loss: 0.4393 - val_accuracy: 0.8482\n",
      "Epoch 12/40\n",
      "782/782 [==============================] - 1s 1ms/step - loss: 0.4102 - accuracy: 0.8660 - val_loss: 0.4311 - val_accuracy: 0.8532\n",
      "Epoch 13/40\n",
      "782/782 [==============================] - 1s 1ms/step - loss: 0.4168 - accuracy: 0.8615 - val_loss: 0.4247 - val_accuracy: 0.8529\n",
      "Epoch 14/40\n",
      "782/782 [==============================] - 1s 1ms/step - loss: 0.4074 - accuracy: 0.8665 - val_loss: 0.4300 - val_accuracy: 0.8483\n",
      "Epoch 15/40\n",
      "782/782 [==============================] - 1s 1ms/step - loss: 0.4080 - accuracy: 0.8635 - val_loss: 0.4204 - val_accuracy: 0.8540\n",
      "Epoch 16/40\n",
      "782/782 [==============================] - 1s 1ms/step - loss: 0.4045 - accuracy: 0.8637 - val_loss: 0.4215 - val_accuracy: 0.8515\n",
      "Epoch 17/40\n",
      "782/782 [==============================] - 1s 1ms/step - loss: 0.4076 - accuracy: 0.8600 - val_loss: 0.4165 - val_accuracy: 0.8537\n",
      "Epoch 18/40\n",
      "782/782 [==============================] - 1s 1ms/step - loss: 0.4052 - accuracy: 0.8592 - val_loss: 0.4183 - val_accuracy: 0.8525\n",
      "Epoch 19/40\n",
      "782/782 [==============================] - 1s 1ms/step - loss: 0.4046 - accuracy: 0.8619 - val_loss: 0.4128 - val_accuracy: 0.8558\n",
      "Epoch 20/40\n",
      "782/782 [==============================] - 1s 1ms/step - loss: 0.3994 - accuracy: 0.8635 - val_loss: 0.4190 - val_accuracy: 0.8497\n",
      "Epoch 21/40\n",
      "782/782 [==============================] - 1s 1ms/step - loss: 0.4012 - accuracy: 0.8639 - val_loss: 0.4128 - val_accuracy: 0.8539\n",
      "Epoch 22/40\n",
      "782/782 [==============================] - 1s 1ms/step - loss: 0.4020 - accuracy: 0.8604 - val_loss: 0.4119 - val_accuracy: 0.8547\n",
      "Epoch 23/40\n",
      "782/782 [==============================] - 1s 1ms/step - loss: 0.3930 - accuracy: 0.8668 - val_loss: 0.4264 - val_accuracy: 0.8430\n",
      "Epoch 24/40\n",
      "782/782 [==============================] - 1s 1ms/step - loss: 0.3949 - accuracy: 0.8654 - val_loss: 0.4136 - val_accuracy: 0.8514\n",
      "Epoch 25/40\n",
      "782/782 [==============================] - 1s 1ms/step - loss: 0.3913 - accuracy: 0.8654 - val_loss: 0.4120 - val_accuracy: 0.8501\n",
      "Epoch 26/40\n",
      "782/782 [==============================] - 1s 1ms/step - loss: 0.3947 - accuracy: 0.8649 - val_loss: 0.4169 - val_accuracy: 0.8502\n",
      "Epoch 27/40\n",
      "782/782 [==============================] - 1s 1ms/step - loss: 0.3932 - accuracy: 0.8626 - val_loss: 0.4097 - val_accuracy: 0.8532\n",
      "Epoch 28/40\n",
      "782/782 [==============================] - 1s 1ms/step - loss: 0.3883 - accuracy: 0.8676 - val_loss: 0.4135 - val_accuracy: 0.8516\n",
      "Epoch 29/40\n",
      "782/782 [==============================] - 1s 1ms/step - loss: 0.3862 - accuracy: 0.8658 - val_loss: 0.4075 - val_accuracy: 0.8543\n",
      "Epoch 30/40\n",
      "782/782 [==============================] - 1s 1ms/step - loss: 0.3899 - accuracy: 0.8671 - val_loss: 0.4351 - val_accuracy: 0.8426\n",
      "Epoch 31/40\n",
      "782/782 [==============================] - 1s 1ms/step - loss: 0.3878 - accuracy: 0.8675 - val_loss: 0.4076 - val_accuracy: 0.8567\n",
      "Epoch 32/40\n",
      "782/782 [==============================] - 1s 1ms/step - loss: 0.3912 - accuracy: 0.8648 - val_loss: 0.4069 - val_accuracy: 0.8561\n",
      "Epoch 33/40\n",
      "782/782 [==============================] - 1s 1ms/step - loss: 0.3869 - accuracy: 0.8678 - val_loss: 0.4120 - val_accuracy: 0.8535\n",
      "Epoch 34/40\n",
      "782/782 [==============================] - 1s 1ms/step - loss: 0.3904 - accuracy: 0.8648 - val_loss: 0.4155 - val_accuracy: 0.8478\n",
      "Epoch 35/40\n",
      "782/782 [==============================] - 1s 1ms/step - loss: 0.3822 - accuracy: 0.8686 - val_loss: 0.4106 - val_accuracy: 0.8518\n",
      "Epoch 36/40\n",
      "782/782 [==============================] - 1s 1ms/step - loss: 0.3941 - accuracy: 0.8652 - val_loss: 0.4131 - val_accuracy: 0.8522\n",
      "Epoch 37/40\n",
      "782/782 [==============================] - 1s 1ms/step - loss: 0.3866 - accuracy: 0.8666 - val_loss: 0.4168 - val_accuracy: 0.8478\n",
      "Epoch 38/40\n",
      "782/782 [==============================] - 1s 1ms/step - loss: 0.3816 - accuracy: 0.8678 - val_loss: 0.4078 - val_accuracy: 0.8554\n",
      "Epoch 39/40\n",
      "782/782 [==============================] - 1s 1ms/step - loss: 0.3881 - accuracy: 0.8662 - val_loss: 0.4095 - val_accuracy: 0.8542\n",
      "Epoch 40/40\n",
      "782/782 [==============================] - 1s 1ms/step - loss: 0.3874 - accuracy: 0.8669 - val_loss: 0.4159 - val_accuracy: 0.8507\n",
      "Model Evaluation\n",
      "391/391 [==============================] - 0s 604us/step - loss: 0.3964 - accuracy: 0.8622\n"
     ]
    },
    {
     "data": {
      "image/png": "[encoded data removed]",
      "text/plain": [
       "<Figure size 576x360 with 1 Axes>"
      ]
     },
     "metadata": {
      "needs_background": "light"
     },
     "output_type": "display_data"
    }
   ],
   "source": [
    "#In Keras is neccesary to add the regularizer by using the attribute kernel_regularizer\n",
    "#to each layer whose weights will be considered in the Omega function.\n",
    "#is it also possibile to consider the bias by using the attribute bias_regularizer \n",
    "#tf.keras.regularizers.l1(alpha) perfroms the L1-norm regularization\n",
    "\n",
    "#[TO COMPLETE] copy the model that you previously defined that overfits the \n",
    "#trainnig data, and add the L1-norm regularization. Use a proper value for the\n",
    "#alpha hyper-parameter, that prevents the model from overfitting. The results  \n",
    "#reached by the model in terms of loss and accuracy (in all data sets) should be\n",
    "#comparable with the ones obtained by the initial model defined in Exercise 2.1 \n",
    "\n",
    "#In general, a layer that exploits L1-norm regularization is defined as follows:\n",
    "\n",
    "#model.add(keras.layers.Dense(units=[TO COMPLETE], activation=[TO COMPLETE], kernel_regularizer=tf.keras.regularizers.l1([TO COMPLETE]))) \n",
    "\n",
    "model = keras.models.Sequential([\n",
    "    tf.keras.Input(shape=(num_words,)),\n",
    "    keras.layers.Dense(16, activation=\"relu\", kernel_regularizer=tf.keras.regularizers.l1(1e-3)),\n",
    "    keras.layers.Dense(1, activation=\"sigmoid\", kernel_regularizer=tf.keras.regularizers.l1(1e-3))\n",
    "])\n",
    "\n",
    "\n",
    "model.compile(loss=\"binary_crossentropy\",\n",
    "              optimizer=keras.optimizers.Adam(learning_rate=1e-3),\n",
    "              metrics=[\"accuracy\"])\n",
    "\n",
    "history = model.fit(X_train, y_train, epochs=40,\n",
    "                    validation_data=(X_valid, y_valid))\n",
    "\n",
    "print(\"Model Evaluation\")\n",
    "model.evaluate(X_test, y_test)\n",
    "plot_learning_curves(history)"
   ]
  },
  {
   "cell_type": "markdown",
   "metadata": {
    "id": "CgnCGYUvDqbC"
   },
   "source": [
    "### [TO COMPLETE] L2-norm\n",
    "\n",
    "L2-norm regularization is also known as weight decay. This strategy drives the weights closer to the origin by adding the regularization term omega which is defined as:\n",
    "$$\n",
    " \\Omega(\\theta)=\\frac{1}{2}||\\mathbf{W}||_2^2\n",
    "$$\n",
    "\n",
    "Let's find the values for the $\\alpha$ parameters that allow removing remove the overfitting effect with L2-norm."
   ]
  },
  {
   "cell_type": "code",
   "execution_count": 35,
   "metadata": {
    "id": "qqNhu350DtJo",
    "scrolled": false
   },
   "outputs": [
    {
     "name": "stdout",
     "output_type": "stream",
     "text": [
      "Epoch 1/40\n",
      "782/782 [==============================] - 2s 1ms/step - loss: 0.6303 - accuracy: 0.7825 - val_loss: 0.4759 - val_accuracy: 0.8445\n",
      "Epoch 2/40\n",
      "782/782 [==============================] - 1s 1ms/step - loss: 0.4700 - accuracy: 0.8471 - val_loss: 0.4701 - val_accuracy: 0.8437\n",
      "Epoch 3/40\n",
      "782/782 [==============================] - 1s 1ms/step - loss: 0.4578 - accuracy: 0.8543 - val_loss: 0.4737 - val_accuracy: 0.8382\n",
      "Epoch 4/40\n",
      "782/782 [==============================] - 1s 1ms/step - loss: 0.4589 - accuracy: 0.8521 - val_loss: 0.4830 - val_accuracy: 0.8333\n",
      "Epoch 5/40\n",
      "782/782 [==============================] - 1s 1ms/step - loss: 0.4581 - accuracy: 0.8502 - val_loss: 0.4787 - val_accuracy: 0.8354\n",
      "Epoch 6/40\n",
      "782/782 [==============================] - 1s 1ms/step - loss: 0.4576 - accuracy: 0.8521 - val_loss: 0.4640 - val_accuracy: 0.8459\n",
      "Epoch 7/40\n",
      "782/782 [==============================] - 1s 1ms/step - loss: 0.4525 - accuracy: 0.8550 - val_loss: 0.4636 - val_accuracy: 0.8482\n",
      "Epoch 8/40\n",
      "782/782 [==============================] - 1s 1ms/step - loss: 0.4591 - accuracy: 0.8525 - val_loss: 0.4630 - val_accuracy: 0.8444\n",
      "Epoch 9/40\n",
      "782/782 [==============================] - 1s 1ms/step - loss: 0.4539 - accuracy: 0.8536 - val_loss: 0.4614 - val_accuracy: 0.8484\n",
      "Epoch 10/40\n",
      "782/782 [==============================] - 1s 1ms/step - loss: 0.4530 - accuracy: 0.8541 - val_loss: 0.4641 - val_accuracy: 0.8426\n",
      "Epoch 11/40\n",
      "782/782 [==============================] - 1s 1ms/step - loss: 0.4554 - accuracy: 0.8530 - val_loss: 0.4692 - val_accuracy: 0.8420\n",
      "Epoch 12/40\n",
      "782/782 [==============================] - 1s 1ms/step - loss: 0.4505 - accuracy: 0.8545 - val_loss: 0.4664 - val_accuracy: 0.8456\n",
      "Epoch 13/40\n",
      "782/782 [==============================] - 1s 1ms/step - loss: 0.4570 - accuracy: 0.8532 - val_loss: 0.4631 - val_accuracy: 0.8470\n",
      "Epoch 14/40\n",
      "782/782 [==============================] - 1s 1ms/step - loss: 0.4507 - accuracy: 0.8586 - val_loss: 0.4664 - val_accuracy: 0.8454\n",
      "Epoch 15/40\n",
      "782/782 [==============================] - 1s 1ms/step - loss: 0.4520 - accuracy: 0.8550 - val_loss: 0.4599 - val_accuracy: 0.8479\n",
      "Epoch 16/40\n",
      "782/782 [==============================] - 1s 1ms/step - loss: 0.4508 - accuracy: 0.8524 - val_loss: 0.4614 - val_accuracy: 0.8465\n",
      "Epoch 17/40\n",
      "782/782 [==============================] - 1s 1ms/step - loss: 0.4546 - accuracy: 0.8538 - val_loss: 0.4607 - val_accuracy: 0.8475\n",
      "Epoch 18/40\n",
      "782/782 [==============================] - 1s 1ms/step - loss: 0.4531 - accuracy: 0.8527 - val_loss: 0.4658 - val_accuracy: 0.8449\n",
      "Epoch 19/40\n",
      "782/782 [==============================] - 1s 1ms/step - loss: 0.4552 - accuracy: 0.8543 - val_loss: 0.4574 - val_accuracy: 0.8505\n",
      "Epoch 20/40\n",
      "782/782 [==============================] - 1s 1ms/step - loss: 0.4505 - accuracy: 0.8535 - val_loss: 0.4641 - val_accuracy: 0.8456\n",
      "Epoch 21/40\n",
      "782/782 [==============================] - 1s 1ms/step - loss: 0.4538 - accuracy: 0.8558 - val_loss: 0.4578 - val_accuracy: 0.8499\n",
      "Epoch 22/40\n",
      "782/782 [==============================] - 1s 1ms/step - loss: 0.4532 - accuracy: 0.8517 - val_loss: 0.4585 - val_accuracy: 0.8502\n",
      "Epoch 23/40\n",
      "782/782 [==============================] - 1s 1ms/step - loss: 0.4460 - accuracy: 0.8584 - val_loss: 0.4619 - val_accuracy: 0.8464\n",
      "Epoch 24/40\n",
      "782/782 [==============================] - 1s 1ms/step - loss: 0.4490 - accuracy: 0.8561 - val_loss: 0.4602 - val_accuracy: 0.8461\n",
      "Epoch 25/40\n",
      "782/782 [==============================] - 1s 1ms/step - loss: 0.4469 - accuracy: 0.8571 - val_loss: 0.4589 - val_accuracy: 0.8499\n",
      "Epoch 26/40\n",
      "782/782 [==============================] - 1s 1ms/step - loss: 0.4503 - accuracy: 0.8565 - val_loss: 0.4659 - val_accuracy: 0.8450\n",
      "Epoch 27/40\n",
      "782/782 [==============================] - 1s 1ms/step - loss: 0.4515 - accuracy: 0.8546 - val_loss: 0.4571 - val_accuracy: 0.8479\n",
      "Epoch 28/40\n",
      "782/782 [==============================] - 1s 1ms/step - loss: 0.4478 - accuracy: 0.8573 - val_loss: 0.4611 - val_accuracy: 0.8482\n",
      "Epoch 29/40\n",
      "782/782 [==============================] - 1s 1ms/step - loss: 0.4458 - accuracy: 0.8552 - val_loss: 0.4564 - val_accuracy: 0.8519\n",
      "Epoch 30/40\n",
      "782/782 [==============================] - 1s 1ms/step - loss: 0.4486 - accuracy: 0.8581 - val_loss: 0.4701 - val_accuracy: 0.8390\n",
      "Epoch 31/40\n",
      "782/782 [==============================] - 1s 1ms/step - loss: 0.4467 - accuracy: 0.8578 - val_loss: 0.4566 - val_accuracy: 0.8514\n",
      "Epoch 32/40\n",
      "782/782 [==============================] - 1s 1ms/step - loss: 0.4519 - accuracy: 0.8548 - val_loss: 0.4552 - val_accuracy: 0.8524\n",
      "Epoch 33/40\n",
      "782/782 [==============================] - 1s 1ms/step - loss: 0.4475 - accuracy: 0.8578 - val_loss: 0.4580 - val_accuracy: 0.8508\n",
      "Epoch 34/40\n",
      "782/782 [==============================] - 1s 1ms/step - loss: 0.4513 - accuracy: 0.8544 - val_loss: 0.4651 - val_accuracy: 0.8447\n",
      "Epoch 35/40\n",
      "782/782 [==============================] - 1s 1ms/step - loss: 0.4451 - accuracy: 0.8595 - val_loss: 0.4590 - val_accuracy: 0.8485\n",
      "Epoch 36/40\n",
      "782/782 [==============================] - 1s 1ms/step - loss: 0.4540 - accuracy: 0.8539 - val_loss: 0.4577 - val_accuracy: 0.8502\n",
      "Epoch 37/40\n",
      "782/782 [==============================] - 1s 1ms/step - loss: 0.4470 - accuracy: 0.8562 - val_loss: 0.4651 - val_accuracy: 0.8445\n",
      "Epoch 38/40\n",
      "782/782 [==============================] - 1s 1ms/step - loss: 0.4469 - accuracy: 0.8562 - val_loss: 0.4563 - val_accuracy: 0.8512\n",
      "Epoch 39/40\n",
      "782/782 [==============================] - 1s 1ms/step - loss: 0.4529 - accuracy: 0.8549 - val_loss: 0.4571 - val_accuracy: 0.8508\n",
      "Epoch 40/40\n",
      "782/782 [==============================] - 1s 1ms/step - loss: 0.4489 - accuracy: 0.8558 - val_loss: 0.4605 - val_accuracy: 0.8468\n",
      "Model Evaluation\n",
      "391/391 [==============================] - 0s 667us/step - loss: 0.4468 - accuracy: 0.8577\n"
     ]
    },
    {
     "data": {
      "image/png": "[encoded data removed]",
      "text/plain": [
       "<Figure size 576x360 with 1 Axes>"
      ]
     },
     "metadata": {
      "needs_background": "light"
     },
     "output_type": "display_data"
    }
   ],
   "source": [
    "#[TO COMPLETE] insert the model that you previously defined that overfit the \n",
    "#trainig data, and add the L2-norm regularization. Use proper values for the\n",
    "#alpha hyper-parameters, that prevents the model from overfitting. The results  \n",
    "#reached by the model in terms of loss and accuracy (in all data sets) should be\n",
    "#comparable with the ones obtained by the initial model defined in Exercise 2.1\n",
    "\n",
    "#In general, a layer that exploits L2-norm regularization is defined as follow:\n",
    "\n",
    "#model.add(keras.layers.Dense(units=[TO COMPLETE], activation=[TO COMPLETE],kernel_regularizer=tf.keras.regularizers.l2([TO COMPLETE]))) \n",
    "\n",
    "model = keras.models.Sequential([\n",
    "    tf.keras.Input(shape=(num_words,)),\n",
    "    keras.layers.Dense(16, activation=\"relu\", kernel_regularizer=tf.keras.regularizers.l2(1e-2)),\n",
    "    keras.layers.Dense(1, activation=\"sigmoid\", kernel_regularizer=tf.keras.regularizers.l2(1e-2))\n",
    "])\n",
    "\n",
    "model.compile(loss=\"binary_crossentropy\",\n",
    "              optimizer=keras.optimizers.Adam(learning_rate=1e-3),\n",
    "              metrics=[\"accuracy\"])\n",
    "\n",
    "history = model.fit(X_train, y_train, epochs=40,\n",
    "                    validation_data=(X_valid, y_valid))\n",
    "\n",
    "print(\"Model Evaluation\")\n",
    "model.evaluate(X_test, y_test)\n",
    "plot_learning_curves(history)"
   ]
  },
  {
   "cell_type": "markdown",
   "metadata": {
    "id": "xvyKPb4DD25G"
   },
   "source": [
    "###[TO COMPLETE] Early stopping\n",
    "\n",
    "Early Stopping is a form of regularization used to avoid overfitting. It is designed to monitor the generalization error of one model and stop training when generalization error begins to degrade. In order to evaluate the generalization error, early stopping requires that a validation dataset is evaluated during training. Then, when the validation error does not improve for a specific number of epochs (patience hyper-parameter), it stops the training phase."
   ]
  },
  {
   "cell_type": "code",
   "execution_count": 42,
   "metadata": {
    "id": "MqNOOZ11D7cq"
   },
   "outputs": [
    {
     "name": "stdout",
     "output_type": "stream",
     "text": [
      "Epoch 1/20\n",
      "782/782 [==============================] - 2s 3ms/step - loss: 0.4687 - accuracy: 0.7880 - val_loss: 0.3584 - val_accuracy: 0.8442\n",
      "Epoch 2/20\n",
      "782/782 [==============================] - 1s 1ms/step - loss: 0.3231 - accuracy: 0.8622 - val_loss: 0.3363 - val_accuracy: 0.8531\n",
      "Epoch 3/20\n",
      "782/782 [==============================] - 1s 1ms/step - loss: 0.2994 - accuracy: 0.8757 - val_loss: 0.3474 - val_accuracy: 0.8480\n",
      "Epoch 4/20\n",
      "782/782 [==============================] - 1s 1ms/step - loss: 0.2981 - accuracy: 0.8762 - val_loss: 0.3526 - val_accuracy: 0.8444\n",
      "Epoch 5/20\n",
      "782/782 [==============================] - 1s 1ms/step - loss: 0.2907 - accuracy: 0.8814 - val_loss: 0.3458 - val_accuracy: 0.8486\n",
      "Epoch 6/20\n",
      "782/782 [==============================] - 1s 1ms/step - loss: 0.2792 - accuracy: 0.8827 - val_loss: 0.3432 - val_accuracy: 0.8475\n",
      "Epoch 7/20\n",
      "782/782 [==============================] - 1s 1ms/step - loss: 0.2706 - accuracy: 0.8854 - val_loss: 0.3560 - val_accuracy: 0.8447\n",
      "Model Evaluation\n",
      "391/391 [==============================] - 0s 637us/step - loss: 0.3176 - accuracy: 0.8659\n"
     ]
    },
    {
     "data": {
      "image/png": "[encoded data removed]",
      "text/plain": [
       "<Figure size 576x360 with 1 Axes>"
      ]
     },
     "metadata": {
      "needs_background": "light"
     },
     "output_type": "display_data"
    }
   ],
   "source": [
    "#[TO COMPLETE] insert the model that you previously defined that overfit the \n",
    "#trainnig data\n",
    "model = keras.models.Sequential([\n",
    "    tf.keras.Input(shape=(num_words,)),\n",
    "    keras.layers.Dense(16, activation=\"relu\"),\n",
    "    keras.layers.Dense(1, activation=\"sigmoid\")\n",
    "])\n",
    "\n",
    "model.compile(loss=\"binary_crossentropy\",\n",
    "              optimizer=keras.optimizers.Adam(learning_rate=1e-3),#[TO COMPLETE] learning rate\n",
    "              metrics=[\"accuracy\"])\n",
    "\n",
    "#Let's define a log dir in order to save the checkpoint file\n",
    "logdir = os.path.join(os.curdir, \"my_logs\", \"run_{}\".format(time.time()))\n",
    "\n",
    "#In Keras the Eraly stopping is manage by using the callbacks argument.\n",
    "callbacks = [\n",
    "    keras.callbacks.TensorBoard(logdir),\n",
    "    keras.callbacks.EarlyStopping(patience=5),#[TO COMPLETE] play with patience and find the value that prevents the model from overfitting.\n",
    "\n",
    "\n",
    "    #Saving the checkpoints file allows to load the \"best\" model when the Early \n",
    "    #stopping detect that the generalization error degrade (after 'patience' epochs)\n",
    "    keras.callbacks.ModelCheckpoint(\"my_mnist_model.h5\", save_best_only=True),\n",
    "]\n",
    "\n",
    "history = model.fit(X_train, y_train, epochs=20,#[TO COMPLETE] epochs\n",
    "                    validation_data=(X_valid, y_valid),\n",
    "                    callbacks=callbacks)\n",
    "\n",
    "print(\"Model Evaluation\")\n",
    "#The early stopping stopped training after few epochs without progress, so your\n",
    "#model may already have started to overfit the training set. Since the \n",
    "#ModelCheckpoint callback only saved the best models (on the validation set) the\n",
    "#last saved model is the best on the validation set.\n",
    "model = keras.models.load_model(\"my_mnist_model.h5\")\n",
    "model.evaluate(X_test, y_test)\n",
    "plot_learning_curves(history)"
   ]
  },
  {
   "cell_type": "markdown",
   "metadata": {
    "id": "DCV8pwVzl9GK"
   },
   "source": [
    "## Exercise 2.3: Model Selection\n",
    "\n",
    "Hyperparameters are the parameters of the learning method itself which we have to specify a priori, i.e., before model fitting. In contrast, model parameters are parameters which arise as a result of the fit (the network weights). The aim of model selection is selecting the best hyperparameters for our deep network. Finding the right hyperparameters for a model can be crucial for the model performance on given data. For istance lets consider our model trained by using different values for the learning rate: "
   ]
  },
  {
   "cell_type": "code",
   "execution_count": 43,
   "metadata": {
    "id": "Fw8Hs-AEmLKh"
   },
   "outputs": [],
   "source": [
    "learning_rates = [1e-4, 1e-2, 1e-1]"
   ]
  },
  {
   "cell_type": "code",
   "execution_count": 44,
   "metadata": {
    "id": "mym4GOgUmWqD"
   },
   "outputs": [
    {
     "name": "stdout",
     "output_type": "stream",
     "text": [
      "Epoch 1/10\n",
      "782/782 [==============================] - 2s 2ms/step - loss: 0.6754 - accuracy: 0.5558 - val_loss: 0.5421 - val_accuracy: 0.7772\n",
      "Epoch 2/10\n",
      "782/782 [==============================] - 1s 1ms/step - loss: 0.4978 - accuracy: 0.8095 - val_loss: 0.4112 - val_accuracy: 0.8382\n",
      "Epoch 3/10\n",
      "782/782 [==============================] - 1s 1ms/step - loss: 0.3814 - accuracy: 0.8530 - val_loss: 0.3659 - val_accuracy: 0.8503\n",
      "Epoch 4/10\n",
      "782/782 [==============================] - 1s 1ms/step - loss: 0.3441 - accuracy: 0.8620 - val_loss: 0.3460 - val_accuracy: 0.8556\n",
      "Epoch 5/10\n",
      "782/782 [==============================] - 1s 1ms/step - loss: 0.3249 - accuracy: 0.8664 - val_loss: 0.3399 - val_accuracy: 0.8583\n",
      "Epoch 6/10\n",
      "782/782 [==============================] - 1s 1ms/step - loss: 0.3120 - accuracy: 0.8718 - val_loss: 0.3350 - val_accuracy: 0.8608\n",
      "Epoch 7/10\n",
      "782/782 [==============================] - 1s 1ms/step - loss: 0.3036 - accuracy: 0.8755 - val_loss: 0.3337 - val_accuracy: 0.8605\n",
      "Epoch 8/10\n",
      "782/782 [==============================] - 1s 1ms/step - loss: 0.3065 - accuracy: 0.8749 - val_loss: 0.3334 - val_accuracy: 0.8591\n",
      "Epoch 9/10\n",
      "782/782 [==============================] - 1s 1ms/step - loss: 0.2990 - accuracy: 0.8785 - val_loss: 0.3338 - val_accuracy: 0.8582\n",
      "Epoch 10/10\n",
      "782/782 [==============================] - 1s 1ms/step - loss: 0.2944 - accuracy: 0.8790 - val_loss: 0.3342 - val_accuracy: 0.8575\n",
      "evaluation on test set\n",
      "391/391 [==============================] - 0s 683us/step - loss: 0.3151 - accuracy: 0.8673\n",
      "Epoch 1/10\n",
      "782/782 [==============================] - 2s 1ms/step - loss: 0.4097 - accuracy: 0.8115 - val_loss: 0.3398 - val_accuracy: 0.8511\n",
      "Epoch 2/10\n",
      "782/782 [==============================] - 1s 1ms/step - loss: 0.3196 - accuracy: 0.8635 - val_loss: 0.3402 - val_accuracy: 0.8552\n",
      "Epoch 3/10\n",
      "782/782 [==============================] - 1s 1ms/step - loss: 0.2875 - accuracy: 0.8764 - val_loss: 0.3541 - val_accuracy: 0.8458\n",
      "evaluation on test set\n",
      "391/391 [==============================] - 0s 703us/step - loss: 0.3301 - accuracy: 0.8580\n",
      "Epoch 1/10\n",
      "782/782 [==============================] - 1s 1ms/step - loss: 0.7242 - accuracy: 0.4975 - val_loss: 0.6932 - val_accuracy: 0.5053\n",
      "Epoch 2/10\n",
      "782/782 [==============================] - 1s 1ms/step - loss: 0.7041 - accuracy: 0.5048 - val_loss: 0.6936 - val_accuracy: 0.5052\n",
      "Epoch 3/10\n",
      "782/782 [==============================] - 1s 1ms/step - loss: 0.6972 - accuracy: 0.4926 - val_loss: 0.7052 - val_accuracy: 0.4947\n",
      "evaluation on test set\n",
      "391/391 [==============================] - 0s 662us/step - loss: 0.7019 - accuracy: 0.5053\n"
     ]
    }
   ],
   "source": [
    "histories = []\n",
    "for learning_rate in learning_rates:\n",
    "    model = keras.models.Sequential([\n",
    "                                    tf.keras.Input(shape=(num_words,)),\n",
    "                                    keras.layers.Dense(16, activation=\"relu\"),\n",
    "                                    keras.layers.Dense(16, activation=\"relu\"),\n",
    "                                    keras.layers.Dense(1, activation=\"sigmoid\")\n",
    "                                     ])\n",
    "    model.compile(loss=\"binary_crossentropy\",\n",
    "              optimizer=keras.optimizers.Adam(learning_rate=learning_rate),\n",
    "              metrics=[\"accuracy\"])\n",
    "              \n",
    "    callbacks = [keras.callbacks.EarlyStopping(patience=2)]\n",
    "\n",
    "    history = model.fit(X_train, y_train,\n",
    "                        validation_data=(X_valid, y_valid), epochs=10,\n",
    "                        callbacks=callbacks)\n",
    "    histories.append(history)\n",
    "    print(\"evaluation on test set\")\n",
    "    model.evaluate(X_test, y_test)"
   ]
  },
  {
   "cell_type": "markdown",
   "metadata": {
    "id": "RzTSjfwptkHJ"
   },
   "source": [
    "Let's plot the results"
   ]
  },
  {
   "cell_type": "code",
   "execution_count": 45,
   "metadata": {
    "id": "cIlN1vlioIYh"
   },
   "outputs": [
    {
     "name": "stdout",
     "output_type": "stream",
     "text": [
      "Learning rate: 0.0001\n"
     ]
    },
    {
     "data": {
      "image/png": "[encoded data removed]",
      "text/plain": [
       "<Figure size 576x360 with 1 Axes>"
      ]
     },
     "metadata": {
      "needs_background": "light"
     },
     "output_type": "display_data"
    },
    {
     "name": "stdout",
     "output_type": "stream",
     "text": [
      "Learning rate: 0.01\n"
     ]
    },
    {
     "data": {
      "image/png": "[encoded data removed]",
      "text/plain": [
       "<Figure size 576x360 with 1 Axes>"
      ]
     },
     "metadata": {
      "needs_background": "light"
     },
     "output_type": "display_data"
    },
    {
     "name": "stdout",
     "output_type": "stream",
     "text": [
      "Learning rate: 0.1\n"
     ]
    },
    {
     "data": {
      "image/png": "[encoded data removed]",
      "text/plain": [
       "<Figure size 576x360 with 1 Axes>"
      ]
     },
     "metadata": {
      "needs_background": "light"
     },
     "output_type": "display_data"
    }
   ],
   "source": [
    "for learning_rate, history in zip(learning_rates, histories):\n",
    "    print(\"Learning rate:\", learning_rate)\n",
    "    plot_learning_acc_and_loss(history)"
   ]
  },
  {
   "cell_type": "markdown",
   "metadata": {
    "id": "_JntujSWq3e5"
   },
   "source": [
    "### [TO COMPLETE] GRID Search:\n",
    "\n",
    "Since a deep net has many hyperparameters, in order to find the best ones, we have to consider all the possible combinations of all of the possible values. One common method to perform this complex task is Grid-Search.\n",
    "Given a set of values for each hyper-parameter, Grid-Search will build a model on each parameter combination possible. It iterates through every parameter combination and stores a model for each combination. Finally, the model that obtained the best result on the validation set will be select.\n",
    "\n",
    "In order to perfrom Grid-Search we will use the GridSearchCV method from scikit-learn."
   ]
  },
  {
   "cell_type": "markdown",
   "metadata": {
    "id": "CPz629YSrDhN"
   },
   "source": [
    "Let's Create a build_model() function that takes two arguments, n_neurons, learning_rate, and builds, compiles and returns a model with the given number of of neurons and the given learning rate.\n",
    "In order to limit the time requirements of the process we will consider only these two hyper-paramters.\n",
    "\n",
    "[TO COMPLETE] in the following code cell define the build_model function."
   ]
  },
  {
   "cell_type": "code",
   "execution_count": 46,
   "metadata": {
    "id": "oGSKWTTtqxZ4"
   },
   "outputs": [],
   "source": [
    "def build_model(n_units=30, learning_rate=1e-3):\n",
    "    # The function has to build a model similar to the ones we used in previuous execises:\n",
    "    #- a input layer \n",
    "    #- one or two Dense layers composed of n_units and that exploit Relu activation function \n",
    "    #- the output layer that uses the sigmoid activation function\n",
    "    # Then, the model has to be compiled.\n",
    "    model = keras.models.Sequential([\n",
    "                                tf.keras.Input(shape=(num_words,)),\n",
    "                                keras.layers.Dense(n_units, activation=\"relu\"),\n",
    "                                keras.layers.Dense(n_units, activation=\"relu\"),\n",
    "                                keras.layers.Dense(1, activation=\"sigmoid\")\n",
    "                                 ])\n",
    "    model.compile(loss=\"binary_crossentropy\",\n",
    "              optimizer=keras.optimizers.Adam(learning_rate=learning_rate),\n",
    "              metrics=[\"accuracy\"])\n",
    "    \n",
    "    \n",
    "    return model\n",
    "\n",
    "    \n",
    "#Create a keras.wrappers.scikit_learn.KerasRegressor and pass the build_model \n",
    "#function to the constructor. This gives you a Scikit-Learn compatible predictor\n",
    "keras_reg = keras.wrappers.scikit_learn.KerasRegressor(build_model)"
   ]
  },
  {
   "cell_type": "markdown",
   "metadata": {
    "id": "PS6W3A2LxDg5"
   },
   "source": [
    "Let's define the lists of hyper-parameters' values. Also in this case, we use a very limited size lists, but in a real-world scenario a reasonable amount of possible values should be considered (try to add some values and check how much the time required to perform the Grid-Search increases)"
   ]
  },
  {
   "cell_type": "code",
   "execution_count": 47,
   "metadata": {
    "id": "y-uldCW3ru24"
   },
   "outputs": [],
   "source": [
    "param_distribs = {\n",
    "    \"n_units\": [16, 32, 64],# [TO COMPLETE] insert a list that contains few (2 or 3) reasonable value\n",
    "    \"learning_rate\": [1e-4, 1e-3, 1e-2] #[TO COMPLETE] insert a list that contains few (2 or 3) reasonable values\n",
    "    #Check how the time required to perform GRID search increases when increasing the number of values for each hyper-parameter.\n",
    "}"
   ]
  },
  {
   "cell_type": "markdown",
   "metadata": {
    "id": "bEiBxVYtx_sK"
   },
   "source": [
    "Use a sklearn.model_selection.GridSearchCV to search the hyperparameter space of your KerasRegressor"
   ]
  },
  {
   "cell_type": "code",
   "execution_count": 48,
   "metadata": {
    "id": "iobF2Bvdr9ER"
   },
   "outputs": [],
   "source": [
    "from sklearn.model_selection import GridSearchCV\n",
    "\n",
    "grid_search = GridSearchCV(keras_reg, param_distribs)"
   ]
  },
  {
   "cell_type": "markdown",
   "metadata": {
    "id": "LVGMcZz_yKSX"
   },
   "source": [
    "Run the Grid-Search"
   ]
  },
  {
   "cell_type": "code",
   "execution_count": 49,
   "metadata": {
    "id": "-BA3vgTjr-hw",
    "scrolled": false
   },
   "outputs": [
    {
     "name": "stdout",
     "output_type": "stream",
     "text": [
      "Epoch 1/5\n",
      "625/625 [==============================] - 2s 2ms/step - loss: 0.6644 - accuracy: 0.5969 - val_loss: 0.5114 - val_accuracy: 0.7810\n",
      "Epoch 2/5\n",
      "625/625 [==============================] - 1s 1ms/step - loss: 0.4612 - accuracy: 0.8141 - val_loss: 0.3991 - val_accuracy: 0.8335\n",
      "Epoch 3/5\n",
      "625/625 [==============================] - 1s 1ms/step - loss: 0.3701 - accuracy: 0.8517 - val_loss: 0.3623 - val_accuracy: 0.8464\n",
      "Epoch 4/5\n",
      "625/625 [==============================] - 1s 1ms/step - loss: 0.3374 - accuracy: 0.8623 - val_loss: 0.3477 - val_accuracy: 0.8527\n",
      "Epoch 5/5\n",
      "625/625 [==============================] - 1s 1ms/step - loss: 0.3131 - accuracy: 0.8715 - val_loss: 0.3418 - val_accuracy: 0.8551\n",
      "157/157 [==============================] - 0s 701us/step - loss: 0.3391 - accuracy: 0.8562\n",
      "Epoch 1/5\n",
      "625/625 [==============================] - 1s 2ms/step - loss: 0.6747 - accuracy: 0.5746 - val_loss: 0.5360 - val_accuracy: 0.7746\n",
      "Epoch 2/5\n",
      "625/625 [==============================] - 1s 1ms/step - loss: 0.4796 - accuracy: 0.8048 - val_loss: 0.4081 - val_accuracy: 0.8278\n",
      "Epoch 3/5\n",
      "625/625 [==============================] - 1s 1ms/step - loss: 0.3788 - accuracy: 0.8468 - val_loss: 0.3672 - val_accuracy: 0.8442\n",
      "Epoch 4/5\n",
      "625/625 [==============================] - 1s 1ms/step - loss: 0.3408 - accuracy: 0.8594 - val_loss: 0.3508 - val_accuracy: 0.8506\n",
      "Epoch 5/5\n",
      "625/625 [==============================] - 1s 1ms/step - loss: 0.3172 - accuracy: 0.8712 - val_loss: 0.3433 - val_accuracy: 0.8548\n",
      "157/157 [==============================] - 0s 633us/step - loss: 0.3306 - accuracy: 0.8612\n",
      "Epoch 1/5\n",
      "625/625 [==============================] - 1s 2ms/step - loss: 0.6753 - accuracy: 0.5744 - val_loss: 0.5495 - val_accuracy: 0.7697\n",
      "Epoch 2/5\n",
      "625/625 [==============================] - 1s 1ms/step - loss: 0.4952 - accuracy: 0.8074 - val_loss: 0.4099 - val_accuracy: 0.8302\n",
      "Epoch 3/5\n",
      "625/625 [==============================] - 1s 1ms/step - loss: 0.3824 - accuracy: 0.8458 - val_loss: 0.3655 - val_accuracy: 0.8460\n",
      "Epoch 4/5\n",
      "625/625 [==============================] - 1s 1ms/step - loss: 0.3369 - accuracy: 0.8617 - val_loss: 0.3479 - val_accuracy: 0.8513\n",
      "Epoch 5/5\n",
      "625/625 [==============================] - 1s 1ms/step - loss: 0.3157 - accuracy: 0.8717 - val_loss: 0.3402 - val_accuracy: 0.8544\n",
      "157/157 [==============================] - 0s 670us/step - loss: 0.3408 - accuracy: 0.8596\n",
      "Epoch 1/5\n",
      "625/625 [==============================] - 1s 2ms/step - loss: 0.6671 - accuracy: 0.5839 - val_loss: 0.5309 - val_accuracy: 0.7659\n",
      "Epoch 2/5\n",
      "625/625 [==============================] - 1s 1ms/step - loss: 0.4784 - accuracy: 0.8010 - val_loss: 0.4154 - val_accuracy: 0.8241\n",
      "Epoch 3/5\n",
      "625/625 [==============================] - 1s 1ms/step - loss: 0.3843 - accuracy: 0.8418 - val_loss: 0.3713 - val_accuracy: 0.8427\n",
      "Epoch 4/5\n",
      "625/625 [==============================] - 1s 1ms/step - loss: 0.3435 - accuracy: 0.8574 - val_loss: 0.3521 - val_accuracy: 0.8499\n",
      "Epoch 5/5\n",
      "625/625 [==============================] - 1s 1ms/step - loss: 0.3177 - accuracy: 0.8721 - val_loss: 0.3439 - val_accuracy: 0.8533\n",
      "157/157 [==============================] - 0s 658us/step - loss: 0.3432 - accuracy: 0.8550\n",
      "Epoch 1/5\n",
      "625/625 [==============================] - 2s 2ms/step - loss: 0.6646 - accuracy: 0.6016 - val_loss: 0.5135 - val_accuracy: 0.7839\n",
      "Epoch 2/5\n",
      "625/625 [==============================] - 1s 1ms/step - loss: 0.4610 - accuracy: 0.8111 - val_loss: 0.3950 - val_accuracy: 0.8359\n",
      "Epoch 3/5\n",
      "625/625 [==============================] - 1s 1ms/step - loss: 0.3682 - accuracy: 0.8468 - val_loss: 0.3593 - val_accuracy: 0.8501\n",
      "Epoch 4/5\n",
      "625/625 [==============================] - 1s 1ms/step - loss: 0.3333 - accuracy: 0.8607 - val_loss: 0.3460 - val_accuracy: 0.8537\n",
      "Epoch 5/5\n",
      "625/625 [==============================] - 1s 1ms/step - loss: 0.3149 - accuracy: 0.8700 - val_loss: 0.3411 - val_accuracy: 0.8544\n",
      "157/157 [==============================] - 0s 737us/step - loss: 0.3280 - accuracy: 0.8642\n",
      "Epoch 1/5\n",
      "625/625 [==============================] - 1s 2ms/step - loss: 0.6691 - accuracy: 0.6005 - val_loss: 0.4884 - val_accuracy: 0.7962\n",
      "Epoch 2/5\n",
      "625/625 [==============================] - 1s 1ms/step - loss: 0.4293 - accuracy: 0.8275 - val_loss: 0.3750 - val_accuracy: 0.8398\n",
      "Epoch 3/5\n",
      "625/625 [==============================] - 1s 1ms/step - loss: 0.3463 - accuracy: 0.8569 - val_loss: 0.3500 - val_accuracy: 0.8497\n",
      "Epoch 4/5\n",
      "625/625 [==============================] - 1s 1ms/step - loss: 0.3160 - accuracy: 0.8680 - val_loss: 0.3448 - val_accuracy: 0.8518\n",
      "Epoch 5/5\n",
      "625/625 [==============================] - 1s 1ms/step - loss: 0.2971 - accuracy: 0.8760 - val_loss: 0.3430 - val_accuracy: 0.8529\n",
      "157/157 [==============================] - 0s 639us/step - loss: 0.3385 - accuracy: 0.8598\n",
      "Epoch 1/5\n",
      "625/625 [==============================] - 1s 2ms/step - loss: 0.6414 - accuracy: 0.6381 - val_loss: 0.4427 - val_accuracy: 0.8121\n",
      "Epoch 2/5\n",
      "625/625 [==============================] - 1s 1ms/step - loss: 0.3964 - accuracy: 0.8450 - val_loss: 0.3657 - val_accuracy: 0.8405\n",
      "Epoch 3/5\n",
      "625/625 [==============================] - 1s 1ms/step - loss: 0.3423 - accuracy: 0.8616 - val_loss: 0.3465 - val_accuracy: 0.8516\n",
      "Epoch 4/5\n",
      "625/625 [==============================] - 1s 1ms/step - loss: 0.3163 - accuracy: 0.8708 - val_loss: 0.3402 - val_accuracy: 0.8547\n",
      "Epoch 5/5\n",
      "625/625 [==============================] - 1s 1ms/step - loss: 0.2991 - accuracy: 0.8787 - val_loss: 0.3382 - val_accuracy: 0.8559\n",
      "157/157 [==============================] - 0s 627us/step - loss: 0.3263 - accuracy: 0.8600\n",
      "Epoch 1/5\n",
      "625/625 [==============================] - 1s 2ms/step - loss: 0.6442 - accuracy: 0.6305 - val_loss: 0.4567 - val_accuracy: 0.8060\n",
      "Epoch 2/5\n",
      "625/625 [==============================] - 1s 1ms/step - loss: 0.4069 - accuracy: 0.8341 - val_loss: 0.3677 - val_accuracy: 0.8426\n",
      "Epoch 3/5\n",
      "625/625 [==============================] - 1s 1ms/step - loss: 0.3401 - accuracy: 0.8618 - val_loss: 0.3457 - val_accuracy: 0.8509\n",
      "Epoch 4/5\n",
      "625/625 [==============================] - 1s 1ms/step - loss: 0.3140 - accuracy: 0.8729 - val_loss: 0.3400 - val_accuracy: 0.8541\n",
      "Epoch 5/5\n",
      "625/625 [==============================] - 1s 1ms/step - loss: 0.2993 - accuracy: 0.8736 - val_loss: 0.3364 - val_accuracy: 0.8545\n",
      "157/157 [==============================] - 0s 646us/step - loss: 0.3436 - accuracy: 0.8550\n",
      "Epoch 1/5\n",
      "625/625 [==============================] - 1s 2ms/step - loss: 0.6421 - accuracy: 0.6322 - val_loss: 0.4483 - val_accuracy: 0.8122\n",
      "Epoch 2/5\n",
      "625/625 [==============================] - 1s 1ms/step - loss: 0.4011 - accuracy: 0.8340 - val_loss: 0.3675 - val_accuracy: 0.8443\n",
      "Epoch 3/5\n",
      "625/625 [==============================] - 1s 1ms/step - loss: 0.3399 - accuracy: 0.8555 - val_loss: 0.3444 - val_accuracy: 0.8534\n",
      "Epoch 4/5\n",
      "625/625 [==============================] - 1s 1ms/step - loss: 0.3153 - accuracy: 0.8697 - val_loss: 0.3398 - val_accuracy: 0.8573\n",
      "Epoch 5/5\n",
      "625/625 [==============================] - 1s 1ms/step - loss: 0.2954 - accuracy: 0.8791 - val_loss: 0.3373 - val_accuracy: 0.8566\n",
      "157/157 [==============================] - 0s 659us/step - loss: 0.3367 - accuracy: 0.8600\n",
      "Epoch 1/5\n",
      "625/625 [==============================] - 1s 2ms/step - loss: 0.6698 - accuracy: 0.5736 - val_loss: 0.4878 - val_accuracy: 0.8002\n",
      "Epoch 2/5\n",
      "625/625 [==============================] - 1s 1ms/step - loss: 0.4343 - accuracy: 0.8215 - val_loss: 0.3762 - val_accuracy: 0.8422\n",
      "Epoch 3/5\n",
      "625/625 [==============================] - 1s 1ms/step - loss: 0.3492 - accuracy: 0.8525 - val_loss: 0.3504 - val_accuracy: 0.8510\n",
      "Epoch 4/5\n",
      "625/625 [==============================] - 1s 1ms/step - loss: 0.3212 - accuracy: 0.8676 - val_loss: 0.3427 - val_accuracy: 0.8534\n",
      "Epoch 5/5\n",
      "625/625 [==============================] - 1s 1ms/step - loss: 0.3045 - accuracy: 0.8770 - val_loss: 0.3420 - val_accuracy: 0.8554\n",
      "157/157 [==============================] - 0s 620us/step - loss: 0.3329 - accuracy: 0.8624\n",
      "Epoch 1/5\n",
      "625/625 [==============================] - 1s 2ms/step - loss: 0.6325 - accuracy: 0.6465 - val_loss: 0.4140 - val_accuracy: 0.8237\n",
      "Epoch 2/5\n"
     ]
    },
    {
     "name": "stdout",
     "output_type": "stream",
     "text": [
      "625/625 [==============================] - 1s 1ms/step - loss: 0.3645 - accuracy: 0.8501 - val_loss: 0.3543 - val_accuracy: 0.8466\n",
      "Epoch 3/5\n",
      "625/625 [==============================] - 1s 1ms/step - loss: 0.3184 - accuracy: 0.8704 - val_loss: 0.3433 - val_accuracy: 0.8524\n",
      "Epoch 4/5\n",
      "625/625 [==============================] - 1s 1ms/step - loss: 0.2994 - accuracy: 0.8748 - val_loss: 0.3433 - val_accuracy: 0.8530\n",
      "Epoch 5/5\n",
      "625/625 [==============================] - 1s 1ms/step - loss: 0.2823 - accuracy: 0.8836 - val_loss: 0.3488 - val_accuracy: 0.8522\n",
      "157/157 [==============================] - 0s 722us/step - loss: 0.3458 - accuracy: 0.8550\n",
      "Epoch 1/5\n",
      "625/625 [==============================] - 1s 2ms/step - loss: 0.6374 - accuracy: 0.6347 - val_loss: 0.4065 - val_accuracy: 0.8311\n",
      "Epoch 2/5\n",
      "625/625 [==============================] - 1s 2ms/step - loss: 0.3646 - accuracy: 0.8521 - val_loss: 0.3478 - val_accuracy: 0.8520\n",
      "Epoch 3/5\n",
      "625/625 [==============================] - 1s 2ms/step - loss: 0.3231 - accuracy: 0.8656 - val_loss: 0.3379 - val_accuracy: 0.8557\n",
      "Epoch 4/5\n",
      "625/625 [==============================] - 1s 1ms/step - loss: 0.3038 - accuracy: 0.8761 - val_loss: 0.3383 - val_accuracy: 0.8539\n",
      "Epoch 5/5\n",
      "625/625 [==============================] - 1s 2ms/step - loss: 0.2858 - accuracy: 0.8831 - val_loss: 0.3384 - val_accuracy: 0.8553\n",
      "157/157 [==============================] - 0s 703us/step - loss: 0.3302 - accuracy: 0.8624\n",
      "Epoch 1/5\n",
      "625/625 [==============================] - 1s 2ms/step - loss: 0.6362 - accuracy: 0.6358 - val_loss: 0.4083 - val_accuracy: 0.8314\n",
      "Epoch 2/5\n",
      "625/625 [==============================] - 1s 2ms/step - loss: 0.3616 - accuracy: 0.8511 - val_loss: 0.3491 - val_accuracy: 0.8518\n",
      "Epoch 3/5\n",
      "625/625 [==============================] - 1s 2ms/step - loss: 0.3178 - accuracy: 0.8662 - val_loss: 0.3411 - val_accuracy: 0.8547\n",
      "Epoch 4/5\n",
      "625/625 [==============================] - 1s 2ms/step - loss: 0.2985 - accuracy: 0.8768 - val_loss: 0.3429 - val_accuracy: 0.8553\n",
      "Epoch 5/5\n",
      "625/625 [==============================] - 1s 2ms/step - loss: 0.2844 - accuracy: 0.8812 - val_loss: 0.3392 - val_accuracy: 0.8551\n",
      "157/157 [==============================] - 0s 769us/step - loss: 0.3405 - accuracy: 0.8528\n",
      "Epoch 1/5\n",
      "625/625 [==============================] - 2s 2ms/step - loss: 0.6313 - accuracy: 0.6515 - val_loss: 0.4101 - val_accuracy: 0.8245\n",
      "Epoch 2/5\n",
      "625/625 [==============================] - 1s 2ms/step - loss: 0.3635 - accuracy: 0.8522 - val_loss: 0.3529 - val_accuracy: 0.8474\n",
      "Epoch 3/5\n",
      "625/625 [==============================] - 1s 1ms/step - loss: 0.3189 - accuracy: 0.8654 - val_loss: 0.3414 - val_accuracy: 0.8537\n",
      "Epoch 4/5\n",
      "625/625 [==============================] - 1s 1ms/step - loss: 0.3011 - accuracy: 0.8775 - val_loss: 0.3423 - val_accuracy: 0.8542\n",
      "Epoch 5/5\n",
      "625/625 [==============================] - 1s 1ms/step - loss: 0.2841 - accuracy: 0.8854 - val_loss: 0.3414 - val_accuracy: 0.8526\n",
      "157/157 [==============================] - 0s 748us/step - loss: 0.3367 - accuracy: 0.8578\n",
      "Epoch 1/5\n",
      "625/625 [==============================] - 1s 2ms/step - loss: 0.6281 - accuracy: 0.6547 - val_loss: 0.4101 - val_accuracy: 0.8308\n",
      "Epoch 2/5\n",
      "625/625 [==============================] - 1s 2ms/step - loss: 0.3669 - accuracy: 0.8511 - val_loss: 0.3530 - val_accuracy: 0.8516\n",
      "Epoch 3/5\n",
      "625/625 [==============================] - 1s 2ms/step - loss: 0.3206 - accuracy: 0.8661 - val_loss: 0.3425 - val_accuracy: 0.8562\n",
      "Epoch 4/5\n",
      "625/625 [==============================] - 1s 2ms/step - loss: 0.3048 - accuracy: 0.8752 - val_loss: 0.3406 - val_accuracy: 0.8553\n",
      "Epoch 5/5\n",
      "625/625 [==============================] - 1s 2ms/step - loss: 0.2923 - accuracy: 0.8802 - val_loss: 0.3452 - val_accuracy: 0.8535\n",
      "157/157 [==============================] - 0s 748us/step - loss: 0.3350 - accuracy: 0.8604\n",
      "Epoch 1/5\n",
      "625/625 [==============================] - 1s 1ms/step - loss: 0.5017 - accuracy: 0.7454 - val_loss: 0.3423 - val_accuracy: 0.8531\n",
      "Epoch 2/5\n",
      "625/625 [==============================] - 1s 1ms/step - loss: 0.3098 - accuracy: 0.8715 - val_loss: 0.3408 - val_accuracy: 0.8530\n",
      "Epoch 3/5\n",
      "625/625 [==============================] - 1s 1ms/step - loss: 0.2972 - accuracy: 0.8758 - val_loss: 0.3510 - val_accuracy: 0.8489\n",
      "Epoch 4/5\n",
      "625/625 [==============================] - 1s 1ms/step - loss: 0.2852 - accuracy: 0.8796 - val_loss: 0.3416 - val_accuracy: 0.8499\n",
      "Epoch 5/5\n",
      "625/625 [==============================] - 1s 1ms/step - loss: 0.2559 - accuracy: 0.8932 - val_loss: 0.3547 - val_accuracy: 0.8469\n",
      "157/157 [==============================] - 0s 620us/step - loss: 0.3484 - accuracy: 0.8570\n",
      "Epoch 1/5\n",
      "625/625 [==============================] - 1s 1ms/step - loss: 0.4863 - accuracy: 0.7594 - val_loss: 0.3384 - val_accuracy: 0.8565\n",
      "Epoch 2/5\n",
      "625/625 [==============================] - 1s 1ms/step - loss: 0.3106 - accuracy: 0.8729 - val_loss: 0.3379 - val_accuracy: 0.8530\n",
      "Epoch 3/5\n",
      "625/625 [==============================] - 1s 1ms/step - loss: 0.3016 - accuracy: 0.8757 - val_loss: 0.3507 - val_accuracy: 0.8475\n",
      "Epoch 4/5\n",
      "625/625 [==============================] - 1s 1ms/step - loss: 0.2842 - accuracy: 0.8806 - val_loss: 0.3395 - val_accuracy: 0.8527\n",
      "Epoch 5/5\n",
      "625/625 [==============================] - 1s 1ms/step - loss: 0.2510 - accuracy: 0.8980 - val_loss: 0.3475 - val_accuracy: 0.8501\n",
      "157/157 [==============================] - 0s 690us/step - loss: 0.3377 - accuracy: 0.8518\n",
      "Epoch 1/5\n",
      "625/625 [==============================] - 2s 2ms/step - loss: 0.4869 - accuracy: 0.7598 - val_loss: 0.3403 - val_accuracy: 0.8522\n",
      "Epoch 2/5\n",
      "625/625 [==============================] - 1s 1ms/step - loss: 0.3126 - accuracy: 0.8704 - val_loss: 0.3372 - val_accuracy: 0.8527\n",
      "Epoch 3/5\n",
      "625/625 [==============================] - 1s 1ms/step - loss: 0.2999 - accuracy: 0.8743 - val_loss: 0.3501 - val_accuracy: 0.8481\n",
      "Epoch 4/5\n",
      "625/625 [==============================] - 1s 1ms/step - loss: 0.2847 - accuracy: 0.8799 - val_loss: 0.3401 - val_accuracy: 0.8495\n",
      "Epoch 5/5\n",
      "625/625 [==============================] - 1s 1ms/step - loss: 0.2614 - accuracy: 0.8910 - val_loss: 0.3425 - val_accuracy: 0.8454\n",
      "157/157 [==============================] - 0s 627us/step - loss: 0.3432 - accuracy: 0.8494\n",
      "Epoch 1/5\n",
      "625/625 [==============================] - 1s 2ms/step - loss: 0.4881 - accuracy: 0.7569 - val_loss: 0.3515 - val_accuracy: 0.8495\n",
      "Epoch 2/5\n",
      "625/625 [==============================] - 1s 1ms/step - loss: 0.3118 - accuracy: 0.8702 - val_loss: 0.3388 - val_accuracy: 0.8543\n",
      "Epoch 3/5\n",
      "625/625 [==============================] - 1s 1ms/step - loss: 0.2980 - accuracy: 0.8753 - val_loss: 0.3490 - val_accuracy: 0.8484\n",
      "Epoch 4/5\n",
      "625/625 [==============================] - 1s 1ms/step - loss: 0.2828 - accuracy: 0.8832 - val_loss: 0.3397 - val_accuracy: 0.8519\n",
      "Epoch 5/5\n",
      "625/625 [==============================] - 1s 1ms/step - loss: 0.2522 - accuracy: 0.8970 - val_loss: 0.3514 - val_accuracy: 0.8514: 0s - loss: 0.2482 - accuracy\n",
      "157/157 [==============================] - 0s 639us/step - loss: 0.3487 - accuracy: 0.8516\n",
      "Epoch 1/5\n",
      "625/625 [==============================] - 1s 2ms/step - loss: 0.4914 - accuracy: 0.7520 - val_loss: 0.3526 - val_accuracy: 0.8469\n",
      "Epoch 2/5\n",
      "625/625 [==============================] - 1s 1ms/step - loss: 0.3164 - accuracy: 0.8678 - val_loss: 0.3413 - val_accuracy: 0.8518\n",
      "Epoch 3/5\n",
      "625/625 [==============================] - 1s 1ms/step - loss: 0.2909 - accuracy: 0.8768 - val_loss: 0.3602 - val_accuracy: 0.8443\n",
      "Epoch 4/5\n",
      "625/625 [==============================] - 1s 1ms/step - loss: 0.2725 - accuracy: 0.8889 - val_loss: 0.3506 - val_accuracy: 0.8469\n",
      "Epoch 5/5\n",
      "625/625 [==============================] - 1s 1ms/step - loss: 0.2353 - accuracy: 0.9081 - val_loss: 0.3627 - val_accuracy: 0.8467\n",
      "157/157 [==============================] - 0s 633us/step - loss: 0.3582 - accuracy: 0.8506\n",
      "Epoch 1/5\n",
      "625/625 [==============================] - 1s 2ms/step - loss: 0.4737 - accuracy: 0.7690 - val_loss: 0.3379 - val_accuracy: 0.8541\n",
      "Epoch 2/5\n",
      "625/625 [==============================] - 1s 1ms/step - loss: 0.3047 - accuracy: 0.8716 - val_loss: 0.3368 - val_accuracy: 0.8518\n",
      "Epoch 3/5\n"
     ]
    },
    {
     "name": "stdout",
     "output_type": "stream",
     "text": [
      "625/625 [==============================] - 1s 1ms/step - loss: 0.2776 - accuracy: 0.8836 - val_loss: 0.3583 - val_accuracy: 0.8431\n",
      "Epoch 4/5\n",
      "625/625 [==============================] - 1s 1ms/step - loss: 0.2482 - accuracy: 0.8966 - val_loss: 0.3652 - val_accuracy: 0.8433\n",
      "Epoch 5/5\n",
      "625/625 [==============================] - 1s 1ms/step - loss: 0.1909 - accuracy: 0.9222 - val_loss: 0.4026 - val_accuracy: 0.8354\n",
      "157/157 [==============================] - 0s 633us/step - loss: 0.3946 - accuracy: 0.8462\n",
      "Epoch 1/5\n",
      "625/625 [==============================] - 2s 2ms/step - loss: 0.4689 - accuracy: 0.7704 - val_loss: 0.3390 - val_accuracy: 0.8527\n",
      "Epoch 2/5\n",
      "625/625 [==============================] - 1s 1ms/step - loss: 0.3050 - accuracy: 0.8762 - val_loss: 0.3330 - val_accuracy: 0.8553\n",
      "Epoch 3/5\n",
      "625/625 [==============================] - 1s 1ms/step - loss: 0.2840 - accuracy: 0.8782 - val_loss: 0.3654 - val_accuracy: 0.8394\n",
      "Epoch 4/5\n",
      "625/625 [==============================] - 1s 1ms/step - loss: 0.2539 - accuracy: 0.8917 - val_loss: 0.3630 - val_accuracy: 0.8446\n",
      "Epoch 5/5\n",
      "625/625 [==============================] - 1s 1ms/step - loss: 0.1961 - accuracy: 0.9199 - val_loss: 0.3948 - val_accuracy: 0.8403\n",
      "157/157 [==============================] - 0s 633us/step - loss: 0.3820 - accuracy: 0.8428\n",
      "Epoch 1/5\n",
      "625/625 [==============================] - 1s 2ms/step - loss: 0.4792 - accuracy: 0.7694 - val_loss: 0.3396 - val_accuracy: 0.8501\n",
      "Epoch 2/5\n",
      "625/625 [==============================] - 1s 1ms/step - loss: 0.3069 - accuracy: 0.8708 - val_loss: 0.3322 - val_accuracy: 0.8534\n",
      "Epoch 3/5\n",
      "625/625 [==============================] - 1s 1ms/step - loss: 0.2821 - accuracy: 0.8808 - val_loss: 0.3537 - val_accuracy: 0.8461: 0s - loss: 0.2818 - accuracy: 0.88\n",
      "Epoch 4/5\n",
      "625/625 [==============================] - 1s 1ms/step - loss: 0.2498 - accuracy: 0.8958 - val_loss: 0.3502 - val_accuracy: 0.8465\n",
      "Epoch 5/5\n",
      "625/625 [==============================] - 1s 1ms/step - loss: 0.1974 - accuracy: 0.9220 - val_loss: 0.3883 - val_accuracy: 0.8398\n",
      "157/157 [==============================] - 0s 639us/step - loss: 0.3942 - accuracy: 0.8360\n",
      "Epoch 1/5\n",
      "625/625 [==============================] - 1s 2ms/step - loss: 0.4704 - accuracy: 0.7705 - val_loss: 0.3504 - val_accuracy: 0.8469\n",
      "Epoch 2/5\n",
      "625/625 [==============================] - 1s 1ms/step - loss: 0.3040 - accuracy: 0.8721 - val_loss: 0.3353 - val_accuracy: 0.8526\n",
      "Epoch 3/5\n",
      "625/625 [==============================] - 1s 1ms/step - loss: 0.2766 - accuracy: 0.8808 - val_loss: 0.3481 - val_accuracy: 0.8482\n",
      "Epoch 4/5\n",
      "625/625 [==============================] - 1s 1ms/step - loss: 0.2366 - accuracy: 0.9059 - val_loss: 0.3724 - val_accuracy: 0.8428\n",
      "Epoch 5/5\n",
      "625/625 [==============================] - 1s 1ms/step - loss: 0.1740 - accuracy: 0.9331 - val_loss: 0.4232 - val_accuracy: 0.8360\n",
      "157/157 [==============================] - 0s 655us/step - loss: 0.4171 - accuracy: 0.8390\n",
      "Epoch 1/5\n",
      "625/625 [==============================] - 1s 2ms/step - loss: 0.4662 - accuracy: 0.7760 - val_loss: 0.3568 - val_accuracy: 0.8429\n",
      "Epoch 2/5\n",
      "625/625 [==============================] - 1s 1ms/step - loss: 0.3123 - accuracy: 0.8685 - val_loss: 0.3343 - val_accuracy: 0.8530\n",
      "Epoch 3/5\n",
      "625/625 [==============================] - 1s 1ms/step - loss: 0.2808 - accuracy: 0.8796 - val_loss: 0.3549 - val_accuracy: 0.8438\n",
      "Epoch 4/5\n",
      "625/625 [==============================] - 1s 1ms/step - loss: 0.2504 - accuracy: 0.8961 - val_loss: 0.3539 - val_accuracy: 0.8486\n",
      "Epoch 5/5\n",
      "625/625 [==============================] - 1s 1ms/step - loss: 0.1979 - accuracy: 0.9196 - val_loss: 0.4078 - val_accuracy: 0.8380\n",
      "157/157 [==============================] - 0s 639us/step - loss: 0.3984 - accuracy: 0.8442\n",
      "Epoch 1/5\n",
      "625/625 [==============================] - 1s 2ms/step - loss: 0.4662 - accuracy: 0.7762 - val_loss: 0.3354 - val_accuracy: 0.8525\n",
      "Epoch 2/5\n",
      "625/625 [==============================] - 1s 1ms/step - loss: 0.2956 - accuracy: 0.8763 - val_loss: 0.3394 - val_accuracy: 0.8515\n",
      "Epoch 3/5\n",
      "625/625 [==============================] - 1s 1ms/step - loss: 0.2566 - accuracy: 0.8953 - val_loss: 0.3599 - val_accuracy: 0.8432\n",
      "Epoch 4/5\n",
      "625/625 [==============================] - 1s 2ms/step - loss: 0.1967 - accuracy: 0.9258 - val_loss: 0.4061 - val_accuracy: 0.8382\n",
      "Epoch 5/5\n",
      "625/625 [==============================] - 1s 2ms/step - loss: 0.1070 - accuracy: 0.9630 - val_loss: 0.4903 - val_accuracy: 0.8269\n",
      "157/157 [==============================] - 0s 729us/step - loss: 0.4825 - accuracy: 0.8368\n",
      "Epoch 1/5\n",
      "625/625 [==============================] - 2s 2ms/step - loss: 0.4641 - accuracy: 0.7780 - val_loss: 0.3357 - val_accuracy: 0.8540\n",
      "Epoch 2/5\n",
      "625/625 [==============================] - 1s 2ms/step - loss: 0.2968 - accuracy: 0.8784 - val_loss: 0.3360 - val_accuracy: 0.8544\n",
      "Epoch 3/5\n",
      "625/625 [==============================] - 1s 2ms/step - loss: 0.2591 - accuracy: 0.8911 - val_loss: 0.3582 - val_accuracy: 0.8460\n",
      "Epoch 4/5\n",
      "625/625 [==============================] - 1s 2ms/step - loss: 0.1881 - accuracy: 0.9271 - val_loss: 0.4137 - val_accuracy: 0.8324\n",
      "Epoch 5/5\n",
      "625/625 [==============================] - 1s 2ms/step - loss: 0.0993 - accuracy: 0.9658 - val_loss: 0.5021 - val_accuracy: 0.8311\n",
      "157/157 [==============================] - 0s 767us/step - loss: 0.4669 - accuracy: 0.8396\n",
      "Epoch 1/5\n",
      "625/625 [==============================] - 1s 2ms/step - loss: 0.4555 - accuracy: 0.7812 - val_loss: 0.3423 - val_accuracy: 0.8486\n",
      "Epoch 2/5\n",
      "625/625 [==============================] - 1s 2ms/step - loss: 0.3039 - accuracy: 0.8735 - val_loss: 0.3319 - val_accuracy: 0.8535\n",
      "Epoch 3/5\n",
      "625/625 [==============================] - 1s 2ms/step - loss: 0.2684 - accuracy: 0.8886 - val_loss: 0.3442 - val_accuracy: 0.8494\n",
      "Epoch 4/5\n",
      "625/625 [==============================] - 1s 2ms/step - loss: 0.2071 - accuracy: 0.9178 - val_loss: 0.3798 - val_accuracy: 0.8434\n",
      "Epoch 5/5\n",
      "625/625 [==============================] - 1s 2ms/step - loss: 0.1241 - accuracy: 0.9566 - val_loss: 0.4585 - val_accuracy: 0.8322\n",
      "157/157 [==============================] - 0s 754us/step - loss: 0.4549 - accuracy: 0.8368\n",
      "Epoch 1/5\n",
      "625/625 [==============================] - 1s 2ms/step - loss: 0.4545 - accuracy: 0.7806 - val_loss: 0.3437 - val_accuracy: 0.8486\n",
      "Epoch 2/5\n",
      "625/625 [==============================] - 1s 2ms/step - loss: 0.2950 - accuracy: 0.8751 - val_loss: 0.3339 - val_accuracy: 0.8495\n",
      "Epoch 3/5\n",
      "625/625 [==============================] - 1s 1ms/step - loss: 0.2549 - accuracy: 0.8943 - val_loss: 0.3496 - val_accuracy: 0.8468\n",
      "Epoch 4/5\n",
      "625/625 [==============================] - 1s 1ms/step - loss: 0.1885 - accuracy: 0.9268 - val_loss: 0.4198 - val_accuracy: 0.8363\n",
      "Epoch 5/5\n",
      "625/625 [==============================] - 1s 2ms/step - loss: 0.1018 - accuracy: 0.9648 - val_loss: 0.5231 - val_accuracy: 0.8306\n",
      "157/157 [==============================] - 0s 796us/step - loss: 0.5153 - accuracy: 0.8380\n",
      "Epoch 1/5\n",
      "625/625 [==============================] - 1s 2ms/step - loss: 0.4586 - accuracy: 0.7750 - val_loss: 0.3497 - val_accuracy: 0.8451\n",
      "Epoch 2/5\n",
      "625/625 [==============================] - 1s 2ms/step - loss: 0.3026 - accuracy: 0.8723 - val_loss: 0.3393 - val_accuracy: 0.8478\n",
      "Epoch 3/5\n",
      "625/625 [==============================] - 1s 2ms/step - loss: 0.2525 - accuracy: 0.8946 - val_loss: 0.3754 - val_accuracy: 0.8429\n",
      "Epoch 4/5\n",
      "625/625 [==============================] - 1s 2ms/step - loss: 0.1758 - accuracy: 0.9360 - val_loss: 0.4036 - val_accuracy: 0.8386\n",
      "Epoch 5/5\n",
      "625/625 [==============================] - 1s 2ms/step - loss: 0.0908 - accuracy: 0.9703 - val_loss: 0.5405 - val_accuracy: 0.8344\n",
      "157/157 [==============================] - 0s 748us/step - loss: 0.5212 - accuracy: 0.8388\n",
      "Epoch 1/5\n",
      "625/625 [==============================] - 1s 2ms/step - loss: 0.4303 - accuracy: 0.7996 - val_loss: 0.3377 - val_accuracy: 0.8518\n",
      "Epoch 2/5\n",
      "625/625 [==============================] - 1s 1ms/step - loss: 0.3055 - accuracy: 0.8717 - val_loss: 0.3436 - val_accuracy: 0.8495\n",
      "Epoch 3/5\n",
      "625/625 [==============================] - 1s 1ms/step - loss: 0.2802 - accuracy: 0.8797 - val_loss: 0.3516 - val_accuracy: 0.8477\n",
      "Epoch 4/5\n"
     ]
    },
    {
     "name": "stdout",
     "output_type": "stream",
     "text": [
      "625/625 [==============================] - 1s 1ms/step - loss: 0.2627 - accuracy: 0.8895 - val_loss: 0.3661 - val_accuracy: 0.8413\n",
      "Epoch 5/5\n",
      "625/625 [==============================] - 1s 1ms/step - loss: 0.2352 - accuracy: 0.8996 - val_loss: 0.3854 - val_accuracy: 0.8427\n",
      "157/157 [==============================] - 0s 701us/step - loss: 0.3783 - accuracy: 0.8492\n",
      "Epoch 1/5\n",
      "625/625 [==============================] - 1s 2ms/step - loss: 0.4518 - accuracy: 0.7846 - val_loss: 0.3352 - val_accuracy: 0.8528\n",
      "Epoch 2/5\n",
      "625/625 [==============================] - 1s 1ms/step - loss: 0.3081 - accuracy: 0.8728 - val_loss: 0.3380 - val_accuracy: 0.8522\n",
      "Epoch 3/5\n",
      "625/625 [==============================] - 1s 1ms/step - loss: 0.2981 - accuracy: 0.8735 - val_loss: 0.3530 - val_accuracy: 0.8462\n",
      "Epoch 4/5\n",
      "625/625 [==============================] - 1s 1ms/step - loss: 0.2884 - accuracy: 0.8775 - val_loss: 0.3511 - val_accuracy: 0.8498\n",
      "Epoch 5/5\n",
      "625/625 [==============================] - 1s 1ms/step - loss: 0.2734 - accuracy: 0.8818 - val_loss: 0.3516 - val_accuracy: 0.8477\n",
      "157/157 [==============================] - 0s 633us/step - loss: 0.3420 - accuracy: 0.8516\n",
      "Epoch 1/5\n",
      "625/625 [==============================] - 1s 2ms/step - loss: 0.4465 - accuracy: 0.7767 - val_loss: 0.3488 - val_accuracy: 0.8432\n",
      "Epoch 2/5\n",
      "625/625 [==============================] - 1s 1ms/step - loss: 0.3095 - accuracy: 0.8688 - val_loss: 0.3354 - val_accuracy: 0.8518\n",
      "Epoch 3/5\n",
      "625/625 [==============================] - 1s 1ms/step - loss: 0.2881 - accuracy: 0.8753 - val_loss: 0.3476 - val_accuracy: 0.8487\n",
      "Epoch 4/5\n",
      "625/625 [==============================] - 1s 1ms/step - loss: 0.2661 - accuracy: 0.8885 - val_loss: 0.3602 - val_accuracy: 0.8466\n",
      "Epoch 5/5\n",
      "625/625 [==============================] - 1s 1ms/step - loss: 0.2468 - accuracy: 0.8948 - val_loss: 0.3602 - val_accuracy: 0.8414\n",
      "157/157 [==============================] - 0s 665us/step - loss: 0.3639 - accuracy: 0.8424\n",
      "Epoch 1/5\n",
      "625/625 [==============================] - 1s 2ms/step - loss: 0.4323 - accuracy: 0.7897 - val_loss: 0.3511 - val_accuracy: 0.8426\n",
      "Epoch 2/5\n",
      "625/625 [==============================] - 1s 1ms/step - loss: 0.3067 - accuracy: 0.8681 - val_loss: 0.3343 - val_accuracy: 0.8507\n",
      "Epoch 3/5\n",
      "625/625 [==============================] - 1s 1ms/step - loss: 0.2835 - accuracy: 0.8766 - val_loss: 0.3470 - val_accuracy: 0.8501\n",
      "Epoch 4/5\n",
      "625/625 [==============================] - 1s 1ms/step - loss: 0.2677 - accuracy: 0.8857 - val_loss: 0.3671 - val_accuracy: 0.8457\n",
      "Epoch 5/5\n",
      "625/625 [==============================] - 1s 1ms/step - loss: 0.2410 - accuracy: 0.8987 - val_loss: 0.3723 - val_accuracy: 0.8420\n",
      "157/157 [==============================] - 0s 627us/step - loss: 0.3644 - accuracy: 0.8486\n",
      "Epoch 1/5\n",
      "625/625 [==============================] - 2s 2ms/step - loss: 0.4331 - accuracy: 0.7902 - val_loss: 0.3594 - val_accuracy: 0.8346\n",
      "Epoch 2/5\n",
      "625/625 [==============================] - 1s 1ms/step - loss: 0.3140 - accuracy: 0.8651 - val_loss: 0.3385 - val_accuracy: 0.8504\n",
      "Epoch 3/5\n",
      "625/625 [==============================] - 1s 1ms/step - loss: 0.2938 - accuracy: 0.8705 - val_loss: 0.3557 - val_accuracy: 0.8472\n",
      "Epoch 4/5\n",
      "625/625 [==============================] - 1s 1ms/step - loss: 0.2805 - accuracy: 0.8782 - val_loss: 0.3546 - val_accuracy: 0.8429\n",
      "Epoch 5/5\n",
      "625/625 [==============================] - 1s 1ms/step - loss: 0.2597 - accuracy: 0.8857 - val_loss: 0.3696 - val_accuracy: 0.8410\n",
      "157/157 [==============================] - 0s 639us/step - loss: 0.3524 - accuracy: 0.8534\n",
      "Epoch 1/5\n",
      "625/625 [==============================] - 1s 2ms/step - loss: 0.4380 - accuracy: 0.7955 - val_loss: 0.3379 - val_accuracy: 0.8508\n",
      "Epoch 2/5\n",
      "625/625 [==============================] - 1s 1ms/step - loss: 0.3076 - accuracy: 0.8701 - val_loss: 0.3371 - val_accuracy: 0.8525\n",
      "Epoch 3/5\n",
      "625/625 [==============================] - 1s 1ms/step - loss: 0.2873 - accuracy: 0.8762 - val_loss: 0.3440 - val_accuracy: 0.8516\n",
      "Epoch 4/5\n",
      "625/625 [==============================] - 1s 1ms/step - loss: 0.2741 - accuracy: 0.8821 - val_loss: 0.3647 - val_accuracy: 0.8498\n",
      "Epoch 5/5\n",
      "625/625 [==============================] - 1s 2ms/step - loss: 0.2471 - accuracy: 0.8912 - val_loss: 0.3871 - val_accuracy: 0.8438\n",
      "157/157 [==============================] - 0s 690us/step - loss: 0.3932 - accuracy: 0.8512\n",
      "Epoch 1/5\n",
      "625/625 [==============================] - 1s 2ms/step - loss: 0.4406 - accuracy: 0.7883 - val_loss: 0.3360 - val_accuracy: 0.8520\n",
      "Epoch 2/5\n",
      "625/625 [==============================] - 1s 1ms/step - loss: 0.3056 - accuracy: 0.8706 - val_loss: 0.3411 - val_accuracy: 0.8534\n",
      "Epoch 3/5\n",
      "625/625 [==============================] - 1s 1ms/step - loss: 0.2785 - accuracy: 0.8813 - val_loss: 0.3496 - val_accuracy: 0.8482\n",
      "Epoch 4/5\n",
      "625/625 [==============================] - 1s 1ms/step - loss: 0.2506 - accuracy: 0.8953 - val_loss: 0.3905 - val_accuracy: 0.8306\n",
      "Epoch 5/5\n",
      "625/625 [==============================] - 1s 1ms/step - loss: 0.2221 - accuracy: 0.9114 - val_loss: 0.3931 - val_accuracy: 0.8380\n",
      "157/157 [==============================] - 0s 639us/step - loss: 0.3828 - accuracy: 0.8418\n",
      "Epoch 1/5\n",
      "625/625 [==============================] - 1s 2ms/step - loss: 0.4200 - accuracy: 0.8027 - val_loss: 0.3389 - val_accuracy: 0.8497\n",
      "Epoch 2/5\n",
      "625/625 [==============================] - 1s 2ms/step - loss: 0.3068 - accuracy: 0.8683 - val_loss: 0.3402 - val_accuracy: 0.8517\n",
      "Epoch 3/5\n",
      "625/625 [==============================] - 1s 1ms/step - loss: 0.2831 - accuracy: 0.8772 - val_loss: 0.3539 - val_accuracy: 0.8479\n",
      "Epoch 4/5\n",
      "625/625 [==============================] - 1s 2ms/step - loss: 0.2603 - accuracy: 0.8887 - val_loss: 0.3675 - val_accuracy: 0.8442\n",
      "Epoch 5/5\n",
      "625/625 [==============================] - 1s 2ms/step - loss: 0.2345 - accuracy: 0.9003 - val_loss: 0.3681 - val_accuracy: 0.8461\n",
      "157/157 [==============================] - 0s 738us/step - loss: 0.3698 - accuracy: 0.8372\n",
      "Epoch 1/5\n",
      "625/625 [==============================] - 2s 2ms/step - loss: 0.4164 - accuracy: 0.8056 - val_loss: 0.3543 - val_accuracy: 0.8442\n",
      "Epoch 2/5\n",
      "625/625 [==============================] - 1s 1ms/step - loss: 0.3028 - accuracy: 0.8706 - val_loss: 0.3367 - val_accuracy: 0.8535\n",
      "Epoch 3/5\n",
      "625/625 [==============================] - 1s 1ms/step - loss: 0.2801 - accuracy: 0.8793 - val_loss: 0.3403 - val_accuracy: 0.8502\n",
      "Epoch 4/5\n",
      "625/625 [==============================] - 1s 1ms/step - loss: 0.2538 - accuracy: 0.8941 - val_loss: 0.4084 - val_accuracy: 0.8434\n",
      "Epoch 5/5\n",
      "625/625 [==============================] - 1s 1ms/step - loss: 0.2207 - accuracy: 0.9093 - val_loss: 0.3853 - val_accuracy: 0.8391\n",
      "157/157 [==============================] - 0s 690us/step - loss: 0.3871 - accuracy: 0.8424\n",
      "Epoch 1/5\n",
      "625/625 [==============================] - 2s 2ms/step - loss: 0.4204 - accuracy: 0.8029 - val_loss: 0.3601 - val_accuracy: 0.8374\n",
      "Epoch 2/5\n",
      "625/625 [==============================] - 1s 1ms/step - loss: 0.3111 - accuracy: 0.8658 - val_loss: 0.3422 - val_accuracy: 0.8462\n",
      "Epoch 3/5\n",
      "625/625 [==============================] - 1s 1ms/step - loss: 0.2803 - accuracy: 0.8808 - val_loss: 0.3761 - val_accuracy: 0.8387\n",
      "Epoch 4/5\n",
      "625/625 [==============================] - 1s 1ms/step - loss: 0.2562 - accuracy: 0.8931 - val_loss: 0.3827 - val_accuracy: 0.8406\n",
      "Epoch 5/5\n",
      "625/625 [==============================] - 1s 1ms/step - loss: 0.2130 - accuracy: 0.9128 - val_loss: 0.3797 - val_accuracy: 0.8323\n",
      "157/157 [==============================] - 0s 658us/step - loss: 0.3720 - accuracy: 0.8416\n",
      "Epoch 1/5\n",
      "625/625 [==============================] - 1s 2ms/step - loss: 0.4384 - accuracy: 0.7902 - val_loss: 0.3415 - val_accuracy: 0.8491\n",
      "Epoch 2/5\n",
      "625/625 [==============================] - 1s 2ms/step - loss: 0.3046 - accuracy: 0.8715 - val_loss: 0.3419 - val_accuracy: 0.8506\n",
      "Epoch 3/5\n",
      "625/625 [==============================] - 1s 2ms/step - loss: 0.2736 - accuracy: 0.8844 - val_loss: 0.3474 - val_accuracy: 0.8479\n",
      "Epoch 4/5\n",
      "625/625 [==============================] - 1s 2ms/step - loss: 0.2501 - accuracy: 0.8978 - val_loss: 0.3865 - val_accuracy: 0.8443\n",
      "Epoch 5/5\n",
      "625/625 [==============================] - 1s 2ms/step - loss: 0.2032 - accuracy: 0.9189 - val_loss: 0.3952 - val_accuracy: 0.8406\n"
     ]
    },
    {
     "name": "stdout",
     "output_type": "stream",
     "text": [
      "157/157 [==============================] - 0s 863us/step - loss: 0.4028 - accuracy: 0.8440\n",
      "Epoch 1/5\n",
      "625/625 [==============================] - 1s 2ms/step - loss: 0.4390 - accuracy: 0.7977 - val_loss: 0.3409 - val_accuracy: 0.8505\n",
      "Epoch 2/5\n",
      "625/625 [==============================] - 1s 2ms/step - loss: 0.3046 - accuracy: 0.8724 - val_loss: 0.3444 - val_accuracy: 0.8546\n",
      "Epoch 3/5\n",
      "625/625 [==============================] - 1s 2ms/step - loss: 0.2788 - accuracy: 0.8842 - val_loss: 0.3626 - val_accuracy: 0.8402\n",
      "Epoch 4/5\n",
      "625/625 [==============================] - 1s 2ms/step - loss: 0.2467 - accuracy: 0.8996 - val_loss: 0.3788 - val_accuracy: 0.8366\n",
      "Epoch 5/5\n",
      "625/625 [==============================] - 1s 1ms/step - loss: 0.2104 - accuracy: 0.9176 - val_loss: 0.3779 - val_accuracy: 0.8350\n",
      "157/157 [==============================] - 0s 755us/step - loss: 0.3598 - accuracy: 0.8460\n",
      "Epoch 1/5\n",
      "625/625 [==============================] - 1s 2ms/step - loss: 0.4184 - accuracy: 0.8060 - val_loss: 0.3382 - val_accuracy: 0.8486\n",
      "Epoch 2/5\n",
      "625/625 [==============================] - 1s 2ms/step - loss: 0.3079 - accuracy: 0.8700 - val_loss: 0.3338 - val_accuracy: 0.8533\n",
      "Epoch 3/5\n",
      "625/625 [==============================] - 1s 2ms/step - loss: 0.2750 - accuracy: 0.8831 - val_loss: 0.3450 - val_accuracy: 0.8486\n",
      "Epoch 4/5\n",
      "625/625 [==============================] - 1s 1ms/step - loss: 0.2423 - accuracy: 0.8982 - val_loss: 0.3626 - val_accuracy: 0.8428\n",
      "Epoch 5/5\n",
      "625/625 [==============================] - 1s 2ms/step - loss: 0.1968 - accuracy: 0.9209 - val_loss: 0.4090 - val_accuracy: 0.8255\n",
      "157/157 [==============================] - 0s 812us/step - loss: 0.4188 - accuracy: 0.8296\n",
      "Epoch 1/5\n",
      "625/625 [==============================] - 2s 2ms/step - loss: 0.4184 - accuracy: 0.8096 - val_loss: 0.3699 - val_accuracy: 0.8372\n",
      "Epoch 2/5\n",
      "625/625 [==============================] - 1s 2ms/step - loss: 0.3033 - accuracy: 0.8703 - val_loss: 0.3429 - val_accuracy: 0.8480\n",
      "Epoch 3/5\n",
      "625/625 [==============================] - 1s 2ms/step - loss: 0.2743 - accuracy: 0.8836 - val_loss: 0.3475 - val_accuracy: 0.8490\n",
      "Epoch 4/5\n",
      "625/625 [==============================] - 1s 2ms/step - loss: 0.2370 - accuracy: 0.9034 - val_loss: 0.3950 - val_accuracy: 0.8449\n",
      "Epoch 5/5\n",
      "625/625 [==============================] - 1s 2ms/step - loss: 0.1919 - accuracy: 0.9236 - val_loss: 0.4067 - val_accuracy: 0.8354\n",
      "157/157 [==============================] - 0s 767us/step - loss: 0.4041 - accuracy: 0.8366\n",
      "Epoch 1/5\n",
      "625/625 [==============================] - 2s 2ms/step - loss: 0.4188 - accuracy: 0.8069 - val_loss: 0.3653 - val_accuracy: 0.8374\n",
      "Epoch 2/5\n",
      "625/625 [==============================] - 1s 2ms/step - loss: 0.3118 - accuracy: 0.8668 - val_loss: 0.3491 - val_accuracy: 0.8407\n",
      "Epoch 3/5\n",
      "625/625 [==============================] - 1s 2ms/step - loss: 0.2801 - accuracy: 0.8782 - val_loss: 0.3863 - val_accuracy: 0.8317\n",
      "Epoch 4/5\n",
      "625/625 [==============================] - 1s 2ms/step - loss: 0.2546 - accuracy: 0.8935 - val_loss: 0.3698 - val_accuracy: 0.8454\n",
      "Epoch 5/5\n",
      "625/625 [==============================] - 1s 2ms/step - loss: 0.1899 - accuracy: 0.9223 - val_loss: 0.4273 - val_accuracy: 0.8291\n",
      "157/157 [==============================] - 0s 859us/step - loss: 0.3976 - accuracy: 0.8420\n",
      "Epoch 1/5\n",
      "782/782 [==============================] - 2s 2ms/step - loss: 0.6323 - accuracy: 0.6380 - val_loss: 0.4192 - val_accuracy: 0.8219\n",
      "Epoch 2/5\n",
      "782/782 [==============================] - 1s 1ms/step - loss: 0.3850 - accuracy: 0.8412 - val_loss: 0.3521 - val_accuracy: 0.8516\n",
      "Epoch 3/5\n",
      "782/782 [==============================] - 1s 1ms/step - loss: 0.3219 - accuracy: 0.8657 - val_loss: 0.3407 - val_accuracy: 0.8538\n",
      "Epoch 4/5\n",
      "782/782 [==============================] - 1s 1ms/step - loss: 0.3090 - accuracy: 0.8713 - val_loss: 0.3384 - val_accuracy: 0.8542\n",
      "Epoch 5/5\n",
      "782/782 [==============================] - 1s 1ms/step - loss: 0.3004 - accuracy: 0.8767 - val_loss: 0.3375 - val_accuracy: 0.8556\n"
     ]
    },
    {
     "data": {
      "text/plain": [
       "GridSearchCV(estimator=<tensorflow.python.keras.wrappers.scikit_learn.KerasRegressor object at 0x0000017ECA4B5EB0>,\n",
       "             param_grid={'learning_rate': [0.0001, 0.001, 0.01],\n",
       "                         'n_units': [16, 32, 64]})"
      ]
     },
     "execution_count": 49,
     "metadata": {},
     "output_type": "execute_result"
    }
   ],
   "source": [
    "\n",
    "grid_search.fit(X_train.numpy(), y_train, epochs=5,#The number of epochs can be modified (check what happens by increasing it)\n",
    "                validation_data=(X_valid.numpy(), y_valid))"
   ]
  },
  {
   "cell_type": "markdown",
   "metadata": {
    "id": "aadmkiOoyM94"
   },
   "source": [
    "Print the best hyper-parameters, and evealuate the best model on the test set."
   ]
  },
  {
   "cell_type": "code",
   "execution_count": 50,
   "metadata": {
    "id": "b0nL5OZkylNX"
   },
   "outputs": [
    {
     "name": "stdout",
     "output_type": "stream",
     "text": [
      "{'learning_rate': 0.0001, 'n_units': 32}\n",
      "391/391 [==============================] - 0s 724us/step - loss: 0.3175 - accuracy: 0.8670\n"
     ]
    },
    {
     "data": {
      "text/plain": [
       "[0.3175482153892517, 0.8670399785041809]"
      ]
     },
     "execution_count": 50,
     "metadata": {},
     "output_type": "execute_result"
    }
   ],
   "source": [
    "print(grid_search.best_params_)\n",
    "\n",
    "model = grid_search.best_estimator_.model\n",
    "model.evaluate(X_test, y_test)"
   ]
  }
 ],
 "metadata": {
  "colab": {
   "collapsed_sections": [],
   "name": "HW2.ipynb",
   "provenance": [],
   "toc_visible": true
  },
  "kernelspec": {
   "display_name": "Python 3",
   "language": "python",
   "name": "python3"
  },
  "language_info": {
   "codemirror_mode": {
    "name": "ipython",
    "version": 3
   },
   "file_extension": ".py",
   "mimetype": "text/x-python",
   "name": "python",
   "nbconvert_exporter": "python",
   "pygments_lexer": "ipython3",
   "version": "3.8.3"
  }
 },
 "nbformat": 4,
 "nbformat_minor": 1
}
