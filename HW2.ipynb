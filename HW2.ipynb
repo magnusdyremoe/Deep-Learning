{
 "cells": [
  {
   "cell_type": "markdown",
   "metadata": {
    "id": "QUc9frYnVBI_"
   },
   "source": [
    "#**HW 2: Optimize and train Deep Models**\n",
    "\n",
    "In this homework, we will explore how to develop a simple Deep Neural Network for a classification problem. We will explore two common libraries: TensorFlow and Keras.\n",
    "Then we will explore how to face a well known problem that is common to encounter during the training phase: the Overfitting.\n",
    "Finally, we will study how to perform a fair model selection.\n",
    "Hint: Before starting the exercise take a look at how Tensorflow and Keras are designed.  https://keras.io/"
   ]
  },
  {
   "cell_type": "markdown",
   "metadata": {
    "id": "e-Nc7mFSVEiU"
   },
   "source": [
    "##Exercise 2.1: Image Classficiation with Tensorflow and Keras\n",
    "\n",
    "In this first exercise we will develop a 3 layers Neural Network to perfrom classification.\n",
    "\n",
    "Let's start importing the libraries we will need and setting a couple of environmental variables.\n"
   ]
  },
  {
   "cell_type": "code",
   "execution_count": 1,
   "metadata": {
    "id": "bWn9FzneVqJo"
   },
   "outputs": [],
   "source": [
    "import matplotlib as mpl\n",
    "import matplotlib.pyplot as plt\n",
    "import numpy as np\n",
    "import os\n",
    "import pandas as pd\n",
    "import sklearn\n",
    "import sys\n",
    "import tensorflow as tf\n",
    "from tensorflow import keras  # tf.keras\n",
    "import time\n",
    "\n",
    "import logging\n",
    "logging.disable(logging.WARNING)\n",
    "os.environ[\"TF_CPP_MIN_LOG_LEVEL\"] = \"3\" \n",
    "\n",
    "\n",
    "\n",
    "tf.random.set_seed(42)\n",
    "# os.environ['TF_DETERMINISTIC_OPS']='1'"
   ]
  },
  {
   "cell_type": "markdown",
   "metadata": {
    "id": "LT2HMYDEXcx0"
   },
   "source": [
    "### Load Data: IMDB dataset\n",
    "\n",
    "In this HW, we use the IMDB dataset that can be easily downloaded using Keras. The dataset contains 50,000 movie reviews from IMDB, labeled by sentiment (positive/negative). Reviews have been preprocessed, and each review is encoded as a sequence of word indexes. For convenience, the words are indexed by the overall frequency in the dataset, so that for example the integer \"3\" encodes the 3rd most frequent word in the data. For testing purposes, we will only consider the first 10,000  most common words.\n",
    "By default, the load_data method returns a breakdown of the dataset into training and test sets. Both these sets contain 25,000 samples. To also have a validation set, we split the test set in half.\n",
    "\n"
   ]
  },
  {
   "cell_type": "code",
   "execution_count": 2,
   "metadata": {
    "id": "JZv86gBLXj-D"
   },
   "outputs": [
    {
     "name": "stderr",
     "output_type": "stream",
     "text": [
      "<__array_function__ internals>:5: VisibleDeprecationWarning: Creating an ndarray from ragged nested sequences (which is a list-or-tuple of lists-or-tuples-or ndarrays with different lengths or shapes) is deprecated. If you meant to do this, you must specify 'dtype=object' when creating the ndarray\n",
      "C:\\Anaconda\\lib\\site-packages\\tensorflow\\python\\keras\\datasets\\imdb.py:159: VisibleDeprecationWarning: Creating an ndarray from ragged nested sequences (which is a list-or-tuple of lists-or-tuples-or ndarrays with different lengths or shapes) is deprecated. If you meant to do this, you must specify 'dtype=object' when creating the ndarray\n",
      "  x_train, y_train = np.array(xs[:idx]), np.array(labels[:idx])\n",
      "C:\\Anaconda\\lib\\site-packages\\tensorflow\\python\\keras\\datasets\\imdb.py:160: VisibleDeprecationWarning: Creating an ndarray from ragged nested sequences (which is a list-or-tuple of lists-or-tuples-or ndarrays with different lengths or shapes) is deprecated. If you meant to do this, you must specify 'dtype=object' when creating the ndarray\n",
      "  x_test, y_test = np.array(xs[idx:]), np.array(labels[idx:])\n"
     ]
    }
   ],
   "source": [
    "num_words = 1000\n",
    "(X_train, y_train), (X_test, y_test) = keras.datasets.imdb.load_data(num_words=num_words)\n",
    "(X_valid, X_test) = X_test[:12500], X_test[12500:]\n",
    "(y_valid, y_test) = y_test[:12500], y_test[12500:]"
   ]
  },
  {
   "cell_type": "markdown",
   "metadata": {
    "id": "TEZHVHpuPdQF"
   },
   "source": [
    "In this HW we will consider a Deep Neural Network. The IMDB data consists in reviews, each one composed by a seqeunce of words. In order to encode each review in a single tensor with a fixed number of elements, we will use multi-hot encoding. Multi-hot-encoding our lists means turning them into vectors of 0s and 1s. Concretely, this would mean for instance turning the sequence [3, 5] into a 10,000-dimensional vector that would be all-zeros except for indices 3 and 5, which would be ones. The obtained input representation indicates which words are present (at least one time) in the sentence.\n",
    "\n",
    " "
   ]
  },
  {
   "cell_type": "code",
   "execution_count": 3,
   "metadata": {
    "id": "hxE9DhiFPP0T"
   },
   "outputs": [],
   "source": [
    "def multi_hot_encoder(dataset, num_word):\n",
    "  dataset_multi_hot=[]\n",
    "  for sequence in dataset:\n",
    "    index, _ = tf.unique(sequence)\n",
    "    dataset_multi_hot.append(tf.reduce_max(tf.one_hot(index-1, num_word, dtype=tf.int32), axis=0))\n",
    "  dataset_multi_hot = tf.stack(dataset_multi_hot)\n",
    "  return dataset_multi_hot\n",
    "\n",
    "X_train = multi_hot_encoder(X_train,num_words)\n",
    "X_test = multi_hot_encoder(X_test,num_words)\n",
    "X_valid = multi_hot_encoder(X_valid,num_words)"
   ]
  },
  {
   "cell_type": "markdown",
   "metadata": {
    "id": "jGUg8TexZMNf"
   },
   "source": [
    "### Define the model:\n",
    "\n",
    "Let's build a Sequential model (keras.models.Sequential) and add four layers to it by calling its add() method:\n",
    "\n",
    "\n",
    "*   a input layer (tf.keras.Input) that is the first layer in your model. With this layer you should specify the input_shape argument, leaving out the batch size: (num_words,);\n",
    "*  a Dense layer (keras.layers.Dense) with 16 neurons, and the \"relu\" activation function;\n",
    "* another Dense layer with 16 neurons, also with the \"relu\" activation function;\n",
    "* a final Dense layer with 1 output neurons, and with the \"sigmoid\" activation (since we considering a binary classification task)."
   ]
  },
  {
   "cell_type": "code",
   "execution_count": 4,
   "metadata": {
    "id": "OaoEISyaZL56"
   },
   "outputs": [],
   "source": [
    "model = keras.models.Sequential()\n",
    "model.add(tf.keras.Input(shape=(num_words,)))\n",
    "model.add(keras.layers.Dense(16, activation=\"relu\"))\n",
    "model.add(keras.layers.Dense(16, activation=\"relu\"))\n",
    "model.add(keras.layers.Dense(1, activation=\"sigmoid\"))\n",
    "\n"
   ]
  },
  {
   "cell_type": "markdown",
   "metadata": {
    "id": "fYfxUOQVZljh"
   },
   "source": [
    "Call the model's summary() method to check if the model has been built correctly. Also, try using keras.utils.plot_model() to save an image of your model's architecture."
   ]
  },
  {
   "cell_type": "code",
   "execution_count": 5,
   "metadata": {
    "id": "IpGkQl5dZoWq"
   },
   "outputs": [
    {
     "name": "stdout",
     "output_type": "stream",
     "text": [
      "Model: \"sequential\"\n",
      "_________________________________________________________________\n",
      "Layer (type)                 Output Shape              Param #   \n",
      "=================================================================\n",
      "dense (Dense)                (None, 16)                16016     \n",
      "_________________________________________________________________\n",
      "dense_1 (Dense)              (None, 16)                272       \n",
      "_________________________________________________________________\n",
      "dense_2 (Dense)              (None, 1)                 17        \n",
      "=================================================================\n",
      "Total params: 16,305\n",
      "Trainable params: 16,305\n",
      "Non-trainable params: 0\n",
      "_________________________________________________________________\n"
     ]
    }
   ],
   "source": [
    "model.summary()"
   ]
  },
  {
   "cell_type": "code",
   "execution_count": 6,
   "metadata": {
    "id": "b1NbkrXRZwOA"
   },
   "outputs": [
    {
     "data": {
      "image/png": "[encoded data removed]",
      "text/plain": [
       "<IPython.core.display.Image object>"
      ]
     },
     "execution_count": 6,
     "metadata": {},
     "output_type": "execute_result"
    }
   ],
   "source": [
    "keras.utils.plot_model(model, \"my_imdb_model.png\", show_shapes=True)"
   ]
  },
  {
   "cell_type": "markdown",
   "metadata": {
    "id": "Mc3xzuA-33WH"
   },
   "source": [
    "As you can see, the first dimension of each layer is not defined (?), indeed this dimension in each layer is variable and depends on the batch size."
   ]
  },
  {
   "cell_type": "markdown",
   "metadata": {
    "id": "6FAjFixuHSA_"
   },
   "source": [
    "Instaed of using *add()* method it is also possibile to define the model using the following syntax"
   ]
  },
  {
   "cell_type": "code",
   "execution_count": 7,
   "metadata": {
    "id": "yOhr57M9GPHy"
   },
   "outputs": [
    {
     "name": "stdout",
     "output_type": "stream",
     "text": [
      "Model: \"sequential_1\"\n",
      "_________________________________________________________________\n",
      "Layer (type)                 Output Shape              Param #   \n",
      "=================================================================\n",
      "dense_3 (Dense)              (None, 16)                16016     \n",
      "_________________________________________________________________\n",
      "dense_4 (Dense)              (None, 16)                272       \n",
      "_________________________________________________________________\n",
      "dense_5 (Dense)              (None, 1)                 17        \n",
      "=================================================================\n",
      "Total params: 16,305\n",
      "Trainable params: 16,305\n",
      "Non-trainable params: 0\n",
      "_________________________________________________________________\n"
     ]
    },
    {
     "data": {
      "image/png": "[encoded data removed]",
      "text/plain": [
       "<IPython.core.display.Image object>"
      ]
     },
     "execution_count": 7,
     "metadata": {},
     "output_type": "execute_result"
    }
   ],
   "source": [
    "model = keras.models.Sequential([\n",
    "    tf.keras.Input(shape=(num_words,)),\n",
    "    keras.layers.Dense(16, activation=\"relu\"),\n",
    "    keras.layers.Dense(16, activation=\"relu\"),\n",
    "    keras.layers.Dense(1, activation=\"sigmoid\")\n",
    "])\n",
    "model.summary()\n",
    "keras.utils.plot_model(model, \"my_imdb_model.png\", show_shapes=True)"
   ]
  },
  {
   "cell_type": "markdown",
   "metadata": {
    "id": "2ySdJmzxaSuz"
   },
   "source": [
    "### Optimize the model:\n",
    "\n",
    "After the model has been created, you must call its compile() method to specify the loss function and the optimizer to use.\n",
    "\n",
    "Since the model performs a binary classification task, we use the bynary cross-entropy as loss. As optimizer we use Adam.\n",
    "\n",
    "Moreover, you can optionally specify a list of additional metrics that should be measured during training. In this case we specify metrics=[\"accuracy\"]."
   ]
  },
  {
   "cell_type": "code",
   "execution_count": 8,
   "metadata": {
    "id": "x3bbsY3uaeh5"
   },
   "outputs": [],
   "source": [
    "model.compile(loss=\"binary_crossentropy\",\n",
    "              optimizer=keras.optimizers.Adam(learning_rate=1e-4),\n",
    "              metrics=[\"accuracy\"])"
   ]
  },
  {
   "cell_type": "markdown",
   "metadata": {
    "id": "NB9SV0MpaeTg"
   },
   "source": [
    "Now our model is ready to be trained. Call its fit() method, passing to it the input features (X_train) and the target classes (y_train). Set the number of epochs to 20. \n",
    "In order to validate our model we will also pass the validation data by setting validation_data=(X_valid, y_valid). Keras will compute the loss and the additional metrics (the accuracy in this case) on the validation set at the end of each epoch. If the loss on the training set is much lower than the one on the validation set, your model is probably overfitting the training set. Note: the fit() method will return a History object containing training stats."
   ]
  },
  {
   "cell_type": "code",
   "execution_count": 9,
   "metadata": {
    "id": "5whx-LU3aoKn"
   },
   "outputs": [
    {
     "name": "stdout",
     "output_type": "stream",
     "text": [
      "Epoch 1/20\n",
      "782/782 [==============================] - 2s 2ms/step - loss: 0.6691 - accuracy: 0.5917 - val_loss: 0.5086 - val_accuracy: 0.7899\n",
      "Epoch 2/20\n",
      "782/782 [==============================] - 1s 1ms/step - loss: 0.4609 - accuracy: 0.8105 - val_loss: 0.3856 - val_accuracy: 0.8406\n",
      "Epoch 3/20\n",
      "782/782 [==============================] - 1s 1ms/step - loss: 0.3556 - accuracy: 0.8580 - val_loss: 0.3534 - val_accuracy: 0.8515\n",
      "Epoch 4/20\n",
      "782/782 [==============================] - 1s 1ms/step - loss: 0.3298 - accuracy: 0.8647 - val_loss: 0.3407 - val_accuracy: 0.8543\n",
      "Epoch 5/20\n",
      "782/782 [==============================] - 1s 1ms/step - loss: 0.3148 - accuracy: 0.8714 - val_loss: 0.3377 - val_accuracy: 0.8555\n",
      "Epoch 6/20\n",
      "782/782 [==============================] - 1s 1ms/step - loss: 0.3055 - accuracy: 0.8712 - val_loss: 0.3344 - val_accuracy: 0.8565\n",
      "Epoch 7/20\n",
      "782/782 [==============================] - 1s 1ms/step - loss: 0.2989 - accuracy: 0.8771 - val_loss: 0.3344 - val_accuracy: 0.8562\n",
      "Epoch 8/20\n",
      "782/782 [==============================] - 1s 1ms/step - loss: 0.3030 - accuracy: 0.8742 - val_loss: 0.3344 - val_accuracy: 0.8557\n",
      "Epoch 9/20\n",
      "782/782 [==============================] - 1s 1ms/step - loss: 0.2970 - accuracy: 0.8784 - val_loss: 0.3352 - val_accuracy: 0.8549\n",
      "Epoch 10/20\n",
      "782/782 [==============================] - 1s 1ms/step - loss: 0.2928 - accuracy: 0.8781 - val_loss: 0.3355 - val_accuracy: 0.8552\n",
      "Epoch 11/20\n",
      "782/782 [==============================] - 1s 1ms/step - loss: 0.2966 - accuracy: 0.8797 - val_loss: 0.3366 - val_accuracy: 0.8539\n",
      "Epoch 12/20\n",
      "782/782 [==============================] - 1s 1ms/step - loss: 0.2865 - accuracy: 0.8849 - val_loss: 0.3373 - val_accuracy: 0.8549\n",
      "Epoch 13/20\n",
      "782/782 [==============================] - 1s 1ms/step - loss: 0.2954 - accuracy: 0.8803 - val_loss: 0.3393 - val_accuracy: 0.8543\n",
      "Epoch 14/20\n",
      "782/782 [==============================] - 1s 1ms/step - loss: 0.2856 - accuracy: 0.8837 - val_loss: 0.3387 - val_accuracy: 0.8536\n",
      "Epoch 15/20\n",
      "782/782 [==============================] - 1s 1ms/step - loss: 0.2884 - accuracy: 0.8822 - val_loss: 0.3398 - val_accuracy: 0.8538\n",
      "Epoch 16/20\n",
      "782/782 [==============================] - 1s 1ms/step - loss: 0.2878 - accuracy: 0.8806 - val_loss: 0.3405 - val_accuracy: 0.8534\n",
      "Epoch 17/20\n",
      "782/782 [==============================] - 1s 1ms/step - loss: 0.2871 - accuracy: 0.8821 - val_loss: 0.3418 - val_accuracy: 0.8546\n",
      "Epoch 18/20\n",
      "782/782 [==============================] - 1s 1ms/step - loss: 0.2822 - accuracy: 0.8861 - val_loss: 0.3427 - val_accuracy: 0.8542\n",
      "Epoch 19/20\n",
      "782/782 [==============================] - 1s 1ms/step - loss: 0.2847 - accuracy: 0.8863 - val_loss: 0.3433 - val_accuracy: 0.8526\n",
      "Epoch 20/20\n",
      "782/782 [==============================] - 1s 1ms/step - loss: 0.2792 - accuracy: 0.8863 - val_loss: 0.3445 - val_accuracy: 0.8531\n"
     ]
    }
   ],
   "source": [
    "history = model.fit(X_train, y_train, epochs=20,\n",
    "                    validation_data=(X_valid, y_valid))"
   ]
  },
  {
   "cell_type": "markdown",
   "metadata": {
    "id": "EPxiw8iCADr-"
   },
   "source": [
    "Let's plot the loss and the accuracy trends on both training and validation sets. We define the \"plot_learning_acc_and_loss\" function because we will reuse it in the next steps."
   ]
  },
  {
   "cell_type": "code",
   "execution_count": 10,
   "metadata": {
    "id": "AJg-F7mUa7st"
   },
   "outputs": [
    {
     "data": {
      "image/png": "[encoded data removed]",
      "text/plain": [
       "<Figure size 576x360 with 1 Axes>"
      ]
     },
     "metadata": {
      "needs_background": "light"
     },
     "output_type": "display_data"
    }
   ],
   "source": [
    "def plot_learning_acc_and_loss(history):\n",
    "    pd.DataFrame(history.history).plot(figsize=(8, 5))\n",
    "    plt.grid(True)\n",
    "    plt.show()\n",
    "plot_learning_acc_and_loss(history)"
   ]
  },
  {
   "cell_type": "markdown",
   "metadata": {
    "id": "9O3-sLmxansJ"
   },
   "source": [
    "### Evaluate the model:\n",
    "\n",
    "Now, our model has been optimized on the training set, and as you can see the performance on the validation set in quite similar (so it does not overfit the training data). Let's now evaluate the performance of our model using the test set."
   ]
  },
  {
   "cell_type": "code",
   "execution_count": 11,
   "metadata": {
    "id": "q-ZvJEcObdyB",
    "scrolled": true
   },
   "outputs": [
    {
     "name": "stdout",
     "output_type": "stream",
     "text": [
      "391/391 [==============================] - 0s 729us/step - loss: 0.3227 - accuracy: 0.8662\n"
     ]
    },
    {
     "data": {
      "text/plain": [
       "[0.32265692949295044, 0.8662400245666504]"
      ]
     },
     "execution_count": 11,
     "metadata": {},
     "output_type": "execute_result"
    }
   ],
   "source": [
    "model.evaluate(X_test, y_test)"
   ]
  },
  {
   "cell_type": "markdown",
   "metadata": {
    "id": "KTSxlnwrII-n"
   },
   "source": [
    "\n",
    "\n",
    "### Why do we use validation and test data sets when evaluating the model?\n",
    "The fact is that performance based on training data is completely useless as it has no use apart from our particular training set. Ideally the network should be able to function for new examples in real life applications. When using validation and test data we see the networks performance on data previously unknown to the network (unknown in the fact that the model is not fitted for the validation or test data). More specifically, the validation data is used as a guiding performance metric through the training process while the test data is the final test for the model. This gives us a performance metric more accustomed and more realistic to real-world applications. Hence, that is why we want to improve performance for the validation and test data."
   ]
  },
  {
   "cell_type": "markdown",
   "metadata": {
    "id": "aeGlzKe864Gq"
   },
   "source": [
    "## Exercise 2.2: Overfiting\n",
    "\n",
    "A common problem that occurs when you train a deep neural network is overfittig. Overfitting occurs when you achieve a good fit of your model on the training data, while it does not generalize well on new, unseen data. In other words, the model learned patterns specific to the training data, which are irrelevant in other data.\n",
    "As we have seen in the previous exercise, our model does not overfit the training data. In this exercise, we try to modify the training parameters in order to have a model that overfits.\n",
    "Overfitting can have many causes and usually is a combination of some of them, for instance: too many parameters/ layers, too few training samples, wrong learning rate (usualy too high), etc..\n",
    "\n",
    "In the next cell we define a new model (similar to the previuos one) that overfits the training data; then plot the trend of the loss in training and validation set."
   ]
  },
  {
   "cell_type": "code",
   "execution_count": 12,
   "metadata": {
    "id": "T2B2DFEC8f88"
   },
   "outputs": [
    {
     "name": "stdout",
     "output_type": "stream",
     "text": [
      "Epoch 1/25\n",
      "782/782 [==============================] - 2s 2ms/step - loss: 0.4600 - accuracy: 0.7833 - val_loss: 0.3445 - val_accuracy: 0.8486\n",
      "Epoch 2/25\n",
      "782/782 [==============================] - 1s 2ms/step - loss: 0.3180 - accuracy: 0.8622 - val_loss: 0.3396 - val_accuracy: 0.8532\n",
      "Epoch 3/25\n",
      "782/782 [==============================] - 1s 1ms/step - loss: 0.2839 - accuracy: 0.8793 - val_loss: 0.3494 - val_accuracy: 0.8471\n",
      "Epoch 4/25\n",
      "782/782 [==============================] - 1s 1ms/step - loss: 0.2648 - accuracy: 0.8877 - val_loss: 0.3603 - val_accuracy: 0.8466\n",
      "Epoch 5/25\n",
      "782/782 [==============================] - 1s 1ms/step - loss: 0.2232 - accuracy: 0.9103 - val_loss: 0.3895 - val_accuracy: 0.8441\n",
      "Epoch 6/25\n",
      "782/782 [==============================] - 1s 2ms/step - loss: 0.1714 - accuracy: 0.9360 - val_loss: 0.4185 - val_accuracy: 0.8292\n",
      "Epoch 7/25\n",
      "782/782 [==============================] - 1s 2ms/step - loss: 0.1238 - accuracy: 0.9572 - val_loss: 0.5047 - val_accuracy: 0.8341\n",
      "Epoch 8/25\n",
      "782/782 [==============================] - 1s 2ms/step - loss: 0.0891 - accuracy: 0.9691 - val_loss: 0.5901 - val_accuracy: 0.8280\n",
      "Epoch 9/25\n",
      "782/782 [==============================] - 1s 2ms/step - loss: 0.0656 - accuracy: 0.9786 - val_loss: 0.7074 - val_accuracy: 0.8239\n",
      "Epoch 10/25\n",
      "782/782 [==============================] - 1s 2ms/step - loss: 0.0435 - accuracy: 0.9864 - val_loss: 0.8004 - val_accuracy: 0.8267\n",
      "Epoch 11/25\n",
      "782/782 [==============================] - 1s 2ms/step - loss: 0.0352 - accuracy: 0.9884 - val_loss: 0.9182 - val_accuracy: 0.8227\n",
      "Epoch 12/25\n",
      "782/782 [==============================] - 1s 2ms/step - loss: 0.0247 - accuracy: 0.9925 - val_loss: 0.9854 - val_accuracy: 0.8153\n",
      "Epoch 13/25\n",
      "782/782 [==============================] - 1s 2ms/step - loss: 0.0314 - accuracy: 0.9885 - val_loss: 1.0169 - val_accuracy: 0.8222\n",
      "Epoch 14/25\n",
      "782/782 [==============================] - 1s 2ms/step - loss: 0.0220 - accuracy: 0.9925 - val_loss: 1.1123 - val_accuracy: 0.8187\n",
      "Epoch 15/25\n",
      "782/782 [==============================] - 1s 2ms/step - loss: 0.0237 - accuracy: 0.9917 - val_loss: 1.2310 - val_accuracy: 0.8122\n",
      "Epoch 16/25\n",
      "782/782 [==============================] - 1s 2ms/step - loss: 0.0202 - accuracy: 0.9935 - val_loss: 1.1697 - val_accuracy: 0.8250\n",
      "Epoch 17/25\n",
      "782/782 [==============================] - 1s 1ms/step - loss: 0.0166 - accuracy: 0.9950 - val_loss: 1.1919 - val_accuracy: 0.8269\n",
      "Epoch 18/25\n",
      "782/782 [==============================] - 1s 1ms/step - loss: 0.0184 - accuracy: 0.9941 - val_loss: 1.2629 - val_accuracy: 0.8094\n",
      "Epoch 19/25\n",
      "782/782 [==============================] - 1s 2ms/step - loss: 0.0127 - accuracy: 0.9960 - val_loss: 1.2811 - val_accuracy: 0.8194\n",
      "Epoch 20/25\n",
      "782/782 [==============================] - 1s 1ms/step - loss: 0.0201 - accuracy: 0.9927 - val_loss: 1.3502 - val_accuracy: 0.8195\n",
      "Epoch 21/25\n",
      "782/782 [==============================] - 1s 1ms/step - loss: 0.0101 - accuracy: 0.9968 - val_loss: 1.4066 - val_accuracy: 0.8196\n",
      "Epoch 22/25\n",
      "782/782 [==============================] - 1s 1ms/step - loss: 0.0138 - accuracy: 0.9956 - val_loss: 1.5434 - val_accuracy: 0.8189\n",
      "Epoch 23/25\n",
      "782/782 [==============================] - 1s 2ms/step - loss: 0.0265 - accuracy: 0.9910 - val_loss: 1.4954 - val_accuracy: 0.8218\n",
      "Epoch 24/25\n",
      "782/782 [==============================] - 1s 2ms/step - loss: 0.0118 - accuracy: 0.9968 - val_loss: 1.3663 - val_accuracy: 0.8197\n",
      "Epoch 25/25\n",
      "782/782 [==============================] - 1s 2ms/step - loss: 0.0117 - accuracy: 0.9956 - val_loss: 1.5119 - val_accuracy: 0.8235\n",
      "Model Evaluation\n",
      "391/391 [==============================] - 0s 746us/step - loss: 1.4079 - accuracy: 0.8285\n"
     ]
    },
    {
     "data": {
      "text/plain": [
       "[1.4078909158706665, 0.8284800052642822]"
      ]
     },
     "execution_count": 12,
     "metadata": {},
     "output_type": "execute_result"
    }
   ],
   "source": [
    "model = keras.models.Sequential([\n",
    "    tf.keras.Input(shape=(num_words,)),\n",
    "    keras.layers.Dense(32, activation='relu'),\n",
    "    keras.layers.Dense(16, activation='relu'),\n",
    "    keras.layers.Dense(16, activation=\"relu\"),\n",
    "    keras.layers.Dense(1, activation=\"sigmoid\")\n",
    "])\n",
    "\n",
    "model.compile(loss=\"binary_crossentropy\",\n",
    "              optimizer=keras.optimizers.Adam(learning_rate=1e-3),\n",
    "              metrics=[\"accuracy\"])\n",
    "\n",
    "history = model.fit(X_train, y_train, epochs=25,\n",
    "                    validation_data=(X_valid, y_valid))\n",
    "\n",
    "print(\"Model Evaluation\")\n",
    "model.evaluate(X_test, y_test)"
   ]
  },
  {
   "cell_type": "markdown",
   "metadata": {
    "id": "MS0fujEqh_m3"
   },
   "source": [
    "Define the plot_learning_curves function that plots inly the losses (not the accuracy)."
   ]
  },
  {
   "cell_type": "code",
   "execution_count": 13,
   "metadata": {
    "id": "q5EsklC0DZYH"
   },
   "outputs": [
    {
     "data": {
      "image/png": "[encoded data removed]",
      "text/plain": [
       "<Figure size 576x360 with 1 Axes>"
      ]
     },
     "metadata": {
      "needs_background": "light"
     },
     "output_type": "display_data"
    }
   ],
   "source": [
    "def plot_learning_curves(history):\n",
    "    plt.figure(figsize=(8, 5))\n",
    "    plt.plot(history.epoch,history.history['loss'], label='train loss')\n",
    "    plt.plot(history.epoch,history.history['val_loss'], label='valid loss')\n",
    "    plt.legend()\n",
    "    plt.title('loss')\n",
    "    plt.grid(True)\n",
    "    plt.show()\n",
    "plot_learning_curves(history)"
   ]
  },
  {
   "cell_type": "markdown",
   "metadata": {
    "id": "OW4Kf4fgDfOs"
   },
   "source": [
    "### L1 norm\n",
    "\n",
    "One possible way to solve the overitting issue is by using regularization methods. The two most common regularization methods in Deep Learning are the L1-norm regularization and the L2-norm regularization. Both These techniques are based on limiting the capacity of models, by adding a parameter norm penalty to the objective function $\\mathcal{J}$:\n",
    "$$\n",
    "\\hat{\\mathcal{J}}(\\theta,\\mathbf{X},\\mathbf{y}) = \\mathcal{J}(\\theta,\\mathbf{X},\\mathbf{y}) + \\alpha \\Omega(\\theta)\n",
    "$$\n",
    "where $\\alpha$ is a hyperparameter that weighs the relative contribution of the norm penalty $\\Omega$.\n",
    "Lets start by considering the L1-norm regularization where the regularization term is defined as:\n",
    "$$\n",
    " \\Omega(\\theta)=||\\mathbf{W}||_1=\\sum_i |\\mathbf{w}|\n",
    "$$\n",
    "Let's find the values for the $\\alpha$ parameters that allow to remove the overfitting effect."
   ]
  },
  {
   "cell_type": "code",
   "execution_count": 14,
   "metadata": {
    "id": "QzD8520dDgw3",
    "scrolled": false
   },
   "outputs": [
    {
     "name": "stdout",
     "output_type": "stream",
     "text": [
      "Epoch 1/40\n",
      "782/782 [==============================] - 2s 2ms/step - loss: 0.9524 - accuracy: 0.7646 - val_loss: 0.5321 - val_accuracy: 0.8458\n",
      "Epoch 2/40\n",
      "782/782 [==============================] - 1s 2ms/step - loss: 0.5239 - accuracy: 0.8465 - val_loss: 0.4923 - val_accuracy: 0.8477\n",
      "Epoch 3/40\n",
      "782/782 [==============================] - 1s 2ms/step - loss: 0.4691 - accuracy: 0.8608 - val_loss: 0.4723 - val_accuracy: 0.8464\n",
      "Epoch 4/40\n",
      "782/782 [==============================] - 1s 2ms/step - loss: 0.4458 - accuracy: 0.8590 - val_loss: 0.4649 - val_accuracy: 0.8427\n",
      "Epoch 5/40\n",
      "782/782 [==============================] - 1s 2ms/step - loss: 0.4289 - accuracy: 0.8654 - val_loss: 0.4417 - val_accuracy: 0.8485\n",
      "Epoch 6/40\n",
      "782/782 [==============================] - 1s 2ms/step - loss: 0.4179 - accuracy: 0.8650 - val_loss: 0.4306 - val_accuracy: 0.8542\n",
      "Epoch 7/40\n",
      "782/782 [==============================] - 1s 2ms/step - loss: 0.4066 - accuracy: 0.8695 - val_loss: 0.4277 - val_accuracy: 0.8514\n",
      "Epoch 8/40\n",
      "782/782 [==============================] - 1s 2ms/step - loss: 0.4094 - accuracy: 0.8638 - val_loss: 0.4210 - val_accuracy: 0.8533\n",
      "Epoch 9/40\n",
      "782/782 [==============================] - 1s 2ms/step - loss: 0.3980 - accuracy: 0.8705 - val_loss: 0.4184 - val_accuracy: 0.8545\n",
      "Epoch 10/40\n",
      "782/782 [==============================] - 1s 2ms/step - loss: 0.3953 - accuracy: 0.8689 - val_loss: 0.4208 - val_accuracy: 0.8546\n",
      "Epoch 11/40\n",
      "782/782 [==============================] - 1s 2ms/step - loss: 0.3963 - accuracy: 0.8681 - val_loss: 0.4178 - val_accuracy: 0.8506\n",
      "Epoch 12/40\n",
      "782/782 [==============================] - 1s 2ms/step - loss: 0.3846 - accuracy: 0.8740 - val_loss: 0.4157 - val_accuracy: 0.8517\n",
      "Epoch 13/40\n",
      "782/782 [==============================] - 1s 2ms/step - loss: 0.3923 - accuracy: 0.8684 - val_loss: 0.4104 - val_accuracy: 0.8550\n",
      "Epoch 14/40\n",
      "782/782 [==============================] - 1s 2ms/step - loss: 0.3837 - accuracy: 0.8716 - val_loss: 0.4142 - val_accuracy: 0.8494\n",
      "Epoch 15/40\n",
      "782/782 [==============================] - 1s 2ms/step - loss: 0.3876 - accuracy: 0.8685 - val_loss: 0.4070 - val_accuracy: 0.8535\n",
      "Epoch 16/40\n",
      "782/782 [==============================] - 1s 2ms/step - loss: 0.3848 - accuracy: 0.8697 - val_loss: 0.4073 - val_accuracy: 0.8526\n",
      "Epoch 17/40\n",
      "782/782 [==============================] - 1s 2ms/step - loss: 0.3859 - accuracy: 0.8669 - val_loss: 0.4071 - val_accuracy: 0.8556\n",
      "Epoch 18/40\n",
      "782/782 [==============================] - 1s 2ms/step - loss: 0.3835 - accuracy: 0.8678 - val_loss: 0.4076 - val_accuracy: 0.8520\n",
      "Epoch 19/40\n",
      "782/782 [==============================] - 1s 2ms/step - loss: 0.3850 - accuracy: 0.8674 - val_loss: 0.4021 - val_accuracy: 0.8564\n",
      "Epoch 20/40\n",
      "782/782 [==============================] - 1s 2ms/step - loss: 0.3802 - accuracy: 0.8695 - val_loss: 0.4093 - val_accuracy: 0.8478\n",
      "Epoch 21/40\n",
      "782/782 [==============================] - 1s 2ms/step - loss: 0.3814 - accuracy: 0.8692 - val_loss: 0.4019 - val_accuracy: 0.8535\n",
      "Epoch 22/40\n",
      "782/782 [==============================] - 1s 2ms/step - loss: 0.3823 - accuracy: 0.8652 - val_loss: 0.4019 - val_accuracy: 0.8535\n",
      "Epoch 23/40\n",
      "782/782 [==============================] - 1s 2ms/step - loss: 0.3734 - accuracy: 0.8735 - val_loss: 0.4052 - val_accuracy: 0.8526\n",
      "Epoch 24/40\n",
      "782/782 [==============================] - 1s 2ms/step - loss: 0.3735 - accuracy: 0.8703 - val_loss: 0.3998 - val_accuracy: 0.8549\n",
      "Epoch 25/40\n",
      "782/782 [==============================] - 1s 2ms/step - loss: 0.3713 - accuracy: 0.8717 - val_loss: 0.3985 - val_accuracy: 0.8526\n",
      "Epoch 26/40\n",
      "782/782 [==============================] - 1s 2ms/step - loss: 0.3757 - accuracy: 0.8716 - val_loss: 0.4040 - val_accuracy: 0.8485\n",
      "Epoch 27/40\n",
      "782/782 [==============================] - 1s 2ms/step - loss: 0.3728 - accuracy: 0.8680 - val_loss: 0.3955 - val_accuracy: 0.8542\n",
      "Epoch 28/40\n",
      "782/782 [==============================] - 1s 2ms/step - loss: 0.3670 - accuracy: 0.8726 - val_loss: 0.3986 - val_accuracy: 0.8531\n",
      "Epoch 29/40\n",
      "782/782 [==============================] - 1s 2ms/step - loss: 0.3668 - accuracy: 0.8691 - val_loss: 0.3935 - val_accuracy: 0.8546\n",
      "Epoch 30/40\n",
      "782/782 [==============================] - 1s 2ms/step - loss: 0.3692 - accuracy: 0.8714 - val_loss: 0.4015 - val_accuracy: 0.8501\n",
      "Epoch 31/40\n",
      "782/782 [==============================] - 1s 2ms/step - loss: 0.3664 - accuracy: 0.8718 - val_loss: 0.3927 - val_accuracy: 0.8552\n",
      "Epoch 32/40\n",
      "782/782 [==============================] - 1s 2ms/step - loss: 0.3711 - accuracy: 0.8696 - val_loss: 0.3900 - val_accuracy: 0.8564\n",
      "Epoch 33/40\n",
      "782/782 [==============================] - 1s 1ms/step - loss: 0.3662 - accuracy: 0.8703 - val_loss: 0.3920 - val_accuracy: 0.8539\n",
      "Epoch 34/40\n",
      "782/782 [==============================] - 1s 2ms/step - loss: 0.3711 - accuracy: 0.8673 - val_loss: 0.4008 - val_accuracy: 0.8518\n",
      "Epoch 35/40\n",
      "782/782 [==============================] - 1s 2ms/step - loss: 0.3625 - accuracy: 0.8717 - val_loss: 0.3950 - val_accuracy: 0.8522\n",
      "Epoch 36/40\n",
      "782/782 [==============================] - 1s 2ms/step - loss: 0.3724 - accuracy: 0.8682 - val_loss: 0.3926 - val_accuracy: 0.8533\n",
      "Epoch 37/40\n",
      "782/782 [==============================] - 1s 2ms/step - loss: 0.3661 - accuracy: 0.8698 - val_loss: 0.3988 - val_accuracy: 0.8530\n",
      "Epoch 38/40\n",
      "782/782 [==============================] - 1s 2ms/step - loss: 0.3623 - accuracy: 0.8720 - val_loss: 0.3958 - val_accuracy: 0.8532\n",
      "Epoch 39/40\n",
      "782/782 [==============================] - 1s 2ms/step - loss: 0.3698 - accuracy: 0.8674 - val_loss: 0.3929 - val_accuracy: 0.8540\n",
      "Epoch 40/40\n",
      "782/782 [==============================] - 1s 2ms/step - loss: 0.3654 - accuracy: 0.8722 - val_loss: 0.3914 - val_accuracy: 0.8536\n",
      "Model Evaluation\n",
      "391/391 [==============================] - 0s 750us/step - loss: 0.3722 - accuracy: 0.8653\n"
     ]
    },
    {
     "data": {
      "image/png": "[encoded data removed]",
      "text/plain": [
       "<Figure size 576x360 with 1 Axes>"
      ]
     },
     "metadata": {
      "needs_background": "light"
     },
     "output_type": "display_data"
    }
   ],
   "source": [
    "#In Keras is neccesary to add the regularizer by using the attribute kernel_regularizer\n",
    "#to each layer whose weights will be considered in the Omega function.\n",
    "#is it also possibile to consider the bias by using the attribute bias_regularizer \n",
    "#tf.keras.regularizers.l1(alpha) perfroms the L1-norm regularization\n",
    "\n",
    "#We copy the model that you previously defined that overfits the \n",
    "#trainnig data, and add the L1-norm regularization. Then we use a proper value for the\n",
    "#alpha hyper-parameter, that prevents the model from overfitting. The results  \n",
    "#reached by the model in terms of loss and accuracy (in all data sets) should be\n",
    "#comparable with the ones obtained by the initial model defined in Exercise 2.1 \n",
    "\n",
    "#In general, a layer that exploits L1-norm regularization is defined as follows:\n",
    "\n",
    "#model.add(keras.layers.Dense(units=[TO COMPLETE], activation=[TO COMPLETE], kernel_regularizer=tf.keras.regularizers.l1([TO COMPLETE]))) \n",
    "\n",
    "model = keras.models.Sequential([\n",
    "    tf.keras.Input(shape=(num_words,)),\n",
    "    keras.layers.Dense(32, activation=\"relu\", kernel_regularizer=tf.keras.regularizers.l1(1e-3)),\n",
    "    keras.layers.Dense(16, activation=\"relu\", kernel_regularizer=tf.keras.regularizers.l1(1e-3)),\n",
    "    keras.layers.Dense(16, activation=\"relu\", kernel_regularizer=tf.keras.regularizers.l1(1e-3)),\n",
    "    keras.layers.Dense(1, activation=\"sigmoid\", kernel_regularizer=tf.keras.regularizers.l1(1e-3))\n",
    "])\n",
    "\n",
    "\n",
    "model.compile(loss=\"binary_crossentropy\",\n",
    "              optimizer=keras.optimizers.Adam(learning_rate=1e-3),\n",
    "              metrics=[\"accuracy\"])\n",
    "\n",
    "history = model.fit(X_train, y_train, epochs=40,\n",
    "                    validation_data=(X_valid, y_valid))\n",
    "\n",
    "print(\"Model Evaluation\")\n",
    "model.evaluate(X_test, y_test)\n",
    "plot_learning_curves(history)"
   ]
  },
  {
   "cell_type": "markdown",
   "metadata": {
    "id": "CgnCGYUvDqbC"
   },
   "source": [
    "### L2-norm\n",
    "\n",
    "L2-norm regularization is also known as weight decay. This strategy drives the weights closer to the origin by adding the regularization term omega which is defined as:\n",
    "$$\n",
    " \\Omega(\\theta)=\\frac{1}{2}||\\mathbf{W}||_2^2\n",
    "$$\n",
    "\n",
    "Let's find the values for the $\\alpha$ parameters that allow removing remove the overfitting effect with L2-norm."
   ]
  },
  {
   "cell_type": "code",
   "execution_count": 15,
   "metadata": {
    "id": "qqNhu350DtJo",
    "scrolled": false
   },
   "outputs": [
    {
     "name": "stdout",
     "output_type": "stream",
     "text": [
      "Epoch 1/40\n",
      "782/782 [==============================] - 2s 2ms/step - loss: 0.8951 - accuracy: 0.7724 - val_loss: 0.5189 - val_accuracy: 0.8469\n",
      "Epoch 2/40\n",
      "782/782 [==============================] - 1s 2ms/step - loss: 0.5128 - accuracy: 0.8441 - val_loss: 0.4943 - val_accuracy: 0.8446\n",
      "Epoch 3/40\n",
      "782/782 [==============================] - 1s 2ms/step - loss: 0.4802 - accuracy: 0.8566 - val_loss: 0.4844 - val_accuracy: 0.8458\n",
      "Epoch 4/40\n",
      "782/782 [==============================] - 1s 2ms/step - loss: 0.4746 - accuracy: 0.8531 - val_loss: 0.4924 - val_accuracy: 0.8365\n",
      "Epoch 5/40\n",
      "782/782 [==============================] - 1s 2ms/step - loss: 0.4678 - accuracy: 0.8544 - val_loss: 0.5108 - val_accuracy: 0.8218\n",
      "Epoch 6/40\n",
      "782/782 [==============================] - 1s 2ms/step - loss: 0.4665 - accuracy: 0.8516 - val_loss: 0.4744 - val_accuracy: 0.8466\n",
      "Epoch 7/40\n",
      "782/782 [==============================] - 1s 2ms/step - loss: 0.4561 - accuracy: 0.8569 - val_loss: 0.4705 - val_accuracy: 0.8489\n",
      "Epoch 8/40\n",
      "782/782 [==============================] - 1s 2ms/step - loss: 0.4592 - accuracy: 0.8567 - val_loss: 0.4693 - val_accuracy: 0.8455\n",
      "Epoch 9/40\n",
      "782/782 [==============================] - 1s 2ms/step - loss: 0.4513 - accuracy: 0.8608 - val_loss: 0.4614 - val_accuracy: 0.8517\n",
      "Epoch 10/40\n",
      "782/782 [==============================] - 1s 2ms/step - loss: 0.4471 - accuracy: 0.8593 - val_loss: 0.4577 - val_accuracy: 0.8511\n",
      "Epoch 11/40\n",
      "782/782 [==============================] - 1s 2ms/step - loss: 0.4472 - accuracy: 0.8612 - val_loss: 0.4746 - val_accuracy: 0.8425\n",
      "Epoch 12/40\n",
      "782/782 [==============================] - 1s 2ms/step - loss: 0.4387 - accuracy: 0.8643 - val_loss: 0.4563 - val_accuracy: 0.8530\n",
      "Epoch 13/40\n",
      "782/782 [==============================] - 1s 2ms/step - loss: 0.4452 - accuracy: 0.8606 - val_loss: 0.4559 - val_accuracy: 0.8522\n",
      "Epoch 14/40\n",
      "782/782 [==============================] - 1s 2ms/step - loss: 0.4370 - accuracy: 0.8654 - val_loss: 0.4613 - val_accuracy: 0.8474\n",
      "Epoch 15/40\n",
      "782/782 [==============================] - 1s 1ms/step - loss: 0.4384 - accuracy: 0.8638 - val_loss: 0.4513 - val_accuracy: 0.8536\n",
      "Epoch 16/40\n",
      "782/782 [==============================] - 1s 2ms/step - loss: 0.4368 - accuracy: 0.8619 - val_loss: 0.4537 - val_accuracy: 0.8509\n",
      "Epoch 17/40\n",
      "782/782 [==============================] - 1s 2ms/step - loss: 0.4388 - accuracy: 0.8626 - val_loss: 0.4511 - val_accuracy: 0.8547\n",
      "Epoch 18/40\n",
      "782/782 [==============================] - 1s 1ms/step - loss: 0.4381 - accuracy: 0.8608 - val_loss: 0.4563 - val_accuracy: 0.8511\n",
      "Epoch 19/40\n",
      "782/782 [==============================] - 1s 2ms/step - loss: 0.4394 - accuracy: 0.8621 - val_loss: 0.4485 - val_accuracy: 0.8558\n",
      "Epoch 20/40\n",
      "782/782 [==============================] - 1s 2ms/step - loss: 0.4350 - accuracy: 0.8645 - val_loss: 0.4528 - val_accuracy: 0.8527\n",
      "Epoch 21/40\n",
      "782/782 [==============================] - 1s 1ms/step - loss: 0.4376 - accuracy: 0.8649 - val_loss: 0.4489 - val_accuracy: 0.8550\n",
      "Epoch 22/40\n",
      "782/782 [==============================] - 1s 1ms/step - loss: 0.4382 - accuracy: 0.8614 - val_loss: 0.4490 - val_accuracy: 0.8557\n",
      "Epoch 23/40\n",
      "782/782 [==============================] - 1s 1ms/step - loss: 0.4307 - accuracy: 0.8670 - val_loss: 0.4580 - val_accuracy: 0.8477\n",
      "Epoch 24/40\n",
      "782/782 [==============================] - 1s 1ms/step - loss: 0.4329 - accuracy: 0.8648 - val_loss: 0.4503 - val_accuracy: 0.8524\n",
      "Epoch 25/40\n",
      "782/782 [==============================] - 1s 1ms/step - loss: 0.4300 - accuracy: 0.8657 - val_loss: 0.4494 - val_accuracy: 0.8529\n",
      "Epoch 26/40\n",
      "782/782 [==============================] - 1s 1ms/step - loss: 0.4349 - accuracy: 0.8662 - val_loss: 0.4571 - val_accuracy: 0.8505\n",
      "Epoch 27/40\n",
      "782/782 [==============================] - 1s 1ms/step - loss: 0.4336 - accuracy: 0.8634 - val_loss: 0.4481 - val_accuracy: 0.8535\n",
      "Epoch 28/40\n",
      "782/782 [==============================] - 1s 1ms/step - loss: 0.4301 - accuracy: 0.8674 - val_loss: 0.4510 - val_accuracy: 0.8539\n",
      "Epoch 29/40\n",
      "782/782 [==============================] - 1s 1ms/step - loss: 0.4298 - accuracy: 0.8631 - val_loss: 0.4467 - val_accuracy: 0.8552\n",
      "Epoch 30/40\n",
      "782/782 [==============================] - 1s 1ms/step - loss: 0.4324 - accuracy: 0.8656 - val_loss: 0.4648 - val_accuracy: 0.8429\n",
      "Epoch 31/40\n",
      "782/782 [==============================] - 1s 1ms/step - loss: 0.4294 - accuracy: 0.8661 - val_loss: 0.4472 - val_accuracy: 0.8562\n",
      "Epoch 32/40\n",
      "782/782 [==============================] - 1s 1ms/step - loss: 0.4348 - accuracy: 0.8628 - val_loss: 0.4463 - val_accuracy: 0.8574\n",
      "Epoch 33/40\n",
      "782/782 [==============================] - 1s 1ms/step - loss: 0.4303 - accuracy: 0.8666 - val_loss: 0.4481 - val_accuracy: 0.8553\n",
      "Epoch 34/40\n",
      "782/782 [==============================] - 1s 1ms/step - loss: 0.4352 - accuracy: 0.8623 - val_loss: 0.4558 - val_accuracy: 0.8498\n",
      "Epoch 35/40\n",
      "782/782 [==============================] - 1s 1ms/step - loss: 0.4274 - accuracy: 0.8654 - val_loss: 0.4517 - val_accuracy: 0.8528\n",
      "Epoch 36/40\n",
      "782/782 [==============================] - 1s 1ms/step - loss: 0.4360 - accuracy: 0.8641 - val_loss: 0.4509 - val_accuracy: 0.8528\n",
      "Epoch 37/40\n",
      "782/782 [==============================] - 1s 1ms/step - loss: 0.4302 - accuracy: 0.8658 - val_loss: 0.4550 - val_accuracy: 0.8505\n",
      "Epoch 38/40\n",
      "782/782 [==============================] - 1s 1ms/step - loss: 0.4284 - accuracy: 0.8686 - val_loss: 0.4475 - val_accuracy: 0.8570\n",
      "Epoch 39/40\n",
      "782/782 [==============================] - 1s 1ms/step - loss: 0.4341 - accuracy: 0.8629 - val_loss: 0.4479 - val_accuracy: 0.8551\n",
      "Epoch 40/40\n",
      "782/782 [==============================] - 1s 1ms/step - loss: 0.4309 - accuracy: 0.8658 - val_loss: 0.4493 - val_accuracy: 0.8514\n",
      "Model Evaluation\n",
      "391/391 [==============================] - 0s 780us/step - loss: 0.4331 - accuracy: 0.8630\n"
     ]
    },
    {
     "data": {
      "image/png": "[encoded data removed]",
      "text/plain": [
       "<Figure size 576x360 with 1 Axes>"
      ]
     },
     "metadata": {
      "needs_background": "light"
     },
     "output_type": "display_data"
    }
   ],
   "source": [
    "#We insert the model that you previously defined that overfit the \n",
    "#trainig data, and add the L2-norm regularization. The we use proper values for the\n",
    "#alpha hyper-parameters, that prevents the model from overfitting. The results  \n",
    "#reached by the model in terms of loss and accuracy (in all data sets) should be\n",
    "#comparable with the ones obtained by the initial model defined in Exercise 2.1\n",
    "\n",
    "#In general, a layer that exploits L2-norm regularization is defined as follow:\n",
    "\n",
    "#model.add(keras.layers.Dense(units=[TO COMPLETE], activation=[TO COMPLETE],kernel_regularizer=tf.keras.regularizers.l2([TO COMPLETE]))) \n",
    "\n",
    "model = keras.models.Sequential([\n",
    "    tf.keras.Input(shape=(num_words,)),\n",
    "    keras.layers.Dense(32, activation=\"relu\", kernel_regularizer=tf.keras.regularizers.l2(1e-2)),\n",
    "    keras.layers.Dense(16, activation=\"relu\", kernel_regularizer=tf.keras.regularizers.l2(1e-2)),\n",
    "    keras.layers.Dense(16, activation=\"relu\", kernel_regularizer=tf.keras.regularizers.l2(1e-2)),\n",
    "    keras.layers.Dense(1, activation=\"sigmoid\", kernel_regularizer=tf.keras.regularizers.l2(1e-2))\n",
    "])\n",
    "\n",
    "model.compile(loss=\"binary_crossentropy\",\n",
    "              optimizer=keras.optimizers.Adam(learning_rate=1e-3),\n",
    "              metrics=[\"accuracy\"])\n",
    "\n",
    "history = model.fit(X_train, y_train, epochs=40,\n",
    "                    validation_data=(X_valid, y_valid))\n",
    "\n",
    "print(\"Model Evaluation\")\n",
    "model.evaluate(X_test, y_test)\n",
    "plot_learning_curves(history)"
   ]
  },
  {
   "cell_type": "markdown",
   "metadata": {
    "id": "xvyKPb4DD25G"
   },
   "source": [
    "### Early stopping\n",
    "\n",
    "Early Stopping is a form of regularization used to avoid overfitting. It is designed to monitor the generalization error of one model and stop training when generalization error begins to degrade. In order to evaluate the generalization error, early stopping requires that a validation dataset is evaluated during training. Then, when the validation error does not improve for a specific number of epochs (patience hyper-parameter), it stops the training phase."
   ]
  },
  {
   "cell_type": "code",
   "execution_count": 17,
   "metadata": {
    "id": "MqNOOZ11D7cq"
   },
   "outputs": [
    {
     "name": "stdout",
     "output_type": "stream",
     "text": [
      "Epoch 1/20\n",
      "782/782 [==============================] - 3s 3ms/step - loss: 0.4532 - accuracy: 0.7808 - val_loss: 0.3388 - val_accuracy: 0.8492\n",
      "Epoch 2/20\n",
      "782/782 [==============================] - 1s 1ms/step - loss: 0.3137 - accuracy: 0.8648 - val_loss: 0.3310 - val_accuracy: 0.8533\n",
      "Epoch 3/20\n",
      "782/782 [==============================] - 1s 2ms/step - loss: 0.2750 - accuracy: 0.8835 - val_loss: 0.3510 - val_accuracy: 0.8479\n",
      "Epoch 4/20\n",
      "782/782 [==============================] - 1s 1ms/step - loss: 0.2502 - accuracy: 0.8948 - val_loss: 0.3662 - val_accuracy: 0.8448\n",
      "Epoch 5/20\n",
      "782/782 [==============================] - 1s 1ms/step - loss: 0.2016 - accuracy: 0.9195 - val_loss: 0.4185 - val_accuracy: 0.8357\n",
      "Epoch 6/20\n",
      "782/782 [==============================] - 1s 1ms/step - loss: 0.1509 - accuracy: 0.9442 - val_loss: 0.4733 - val_accuracy: 0.8323\n",
      "Epoch 7/20\n",
      "782/782 [==============================] - 1s 1ms/step - loss: 0.1001 - accuracy: 0.9636 - val_loss: 0.5495 - val_accuracy: 0.8270\n",
      "Model Evaluation\n",
      "391/391 [==============================] - 0s 694us/step - loss: 0.3152 - accuracy: 0.8645\n"
     ]
    },
    {
     "data": {
      "image/png": "[encoded data removed]",
      "text/plain": [
       "<Figure size 576x360 with 1 Axes>"
      ]
     },
     "metadata": {
      "needs_background": "light"
     },
     "output_type": "display_data"
    }
   ],
   "source": [
    "model = keras.models.Sequential([\n",
    "    tf.keras.Input(shape=(num_words,)),\n",
    "    keras.layers.Dense(32, activation=\"relu\"),\n",
    "    keras.layers.Dense(16, activation=\"relu\"),\n",
    "    keras.layers.Dense(16, activation=\"relu\"),\n",
    "    keras.layers.Dense(1, activation=\"sigmoid\")\n",
    "])\n",
    "\n",
    "model.compile(loss=\"binary_crossentropy\",\n",
    "              optimizer=keras.optimizers.Adam(learning_rate=1e-3),\n",
    "              metrics=[\"accuracy\"])\n",
    "\n",
    "#Let's define a log dir in order to save the checkpoint file\n",
    "logdir = os.path.join(os.curdir, \"my_logs\", \"run_{}\".format(time.time()))\n",
    "\n",
    "#In Keras the Eraly stopping is manage by using the callbacks argument.\n",
    "callbacks = [\n",
    "    keras.callbacks.TensorBoard(logdir),\n",
    "    keras.callbacks.EarlyStopping(patience=5),\n",
    "\n",
    "\n",
    "    #Saving the checkpoints file allows to load the \"best\" model when the Early \n",
    "    #stopping detect that the generalization error degrade (after 'patience' epochs)\n",
    "    keras.callbacks.ModelCheckpoint(\"my_mnist_model.h5\", save_best_only=True),\n",
    "]\n",
    "\n",
    "history = model.fit(X_train, y_train, epochs=20,\n",
    "                    validation_data=(X_valid, y_valid),\n",
    "                    callbacks=callbacks)\n",
    "\n",
    "print(\"Model Evaluation\")\n",
    "#The early stopping stopped training after few epochs without progress, so your\n",
    "#model may already have started to overfit the training set. Since the \n",
    "#ModelCheckpoint callback only saved the best models (on the validation set) the\n",
    "#last saved model is the best on the validation set.\n",
    "model = keras.models.load_model(\"my_mnist_model.h5\")\n",
    "model.evaluate(X_test, y_test)\n",
    "plot_learning_curves(history)"
   ]
  },
  {
   "cell_type": "markdown",
   "metadata": {
    "id": "DCV8pwVzl9GK"
   },
   "source": [
    "## Exercise 2.3: Model Selection\n",
    "\n",
    "Hyperparameters are the parameters of the learning method itself which we have to specify a priori, i.e., before model fitting. In contrast, model parameters are parameters which arise as a result of the fit (the network weights). The aim of model selection is selecting the best hyperparameters for our deep network. Finding the right hyperparameters for a model can be crucial for the model performance on given data. For istance lets consider our model trained by using different values for the learning rate: "
   ]
  },
  {
   "cell_type": "code",
   "execution_count": 18,
   "metadata": {
    "id": "Fw8Hs-AEmLKh"
   },
   "outputs": [],
   "source": [
    "learning_rates = [1e-4, 1e-2, 1e-1]"
   ]
  },
  {
   "cell_type": "code",
   "execution_count": 19,
   "metadata": {
    "id": "mym4GOgUmWqD"
   },
   "outputs": [
    {
     "name": "stdout",
     "output_type": "stream",
     "text": [
      "Epoch 1/10\n",
      "782/782 [==============================] - 2s 1ms/step - loss: 0.6627 - accuracy: 0.5891 - val_loss: 0.4692 - val_accuracy: 0.8045\n",
      "Epoch 2/10\n",
      "782/782 [==============================] - 1s 1ms/step - loss: 0.4306 - accuracy: 0.8214 - val_loss: 0.3740 - val_accuracy: 0.8439\n",
      "Epoch 3/10\n",
      "782/782 [==============================] - 1s 1ms/step - loss: 0.3452 - accuracy: 0.8574 - val_loss: 0.3500 - val_accuracy: 0.8537\n",
      "Epoch 4/10\n",
      "782/782 [==============================] - 1s 1ms/step - loss: 0.3214 - accuracy: 0.8676 - val_loss: 0.3398 - val_accuracy: 0.8575\n",
      "Epoch 5/10\n",
      "782/782 [==============================] - 1s 1ms/step - loss: 0.3097 - accuracy: 0.8737 - val_loss: 0.3392 - val_accuracy: 0.8566\n",
      "Epoch 6/10\n",
      "782/782 [==============================] - 1s 1ms/step - loss: 0.3014 - accuracy: 0.8758 - val_loss: 0.3364 - val_accuracy: 0.8560\n",
      "Epoch 7/10\n",
      "782/782 [==============================] - 1s 1ms/step - loss: 0.2932 - accuracy: 0.8797 - val_loss: 0.3369 - val_accuracy: 0.8565\n",
      "Epoch 8/10\n",
      "782/782 [==============================] - 1s 1ms/step - loss: 0.2972 - accuracy: 0.8771 - val_loss: 0.3372 - val_accuracy: 0.8563\n",
      "evaluation on test set\n",
      "391/391 [==============================] - 0s 731us/step - loss: 0.3176 - accuracy: 0.8655\n",
      "Epoch 1/10\n",
      "782/782 [==============================] - 2s 2ms/step - loss: 0.4166 - accuracy: 0.8015 - val_loss: 0.3455 - val_accuracy: 0.8414\n",
      "Epoch 2/10\n",
      "782/782 [==============================] - 1s 1ms/step - loss: 0.3160 - accuracy: 0.8612 - val_loss: 0.3428 - val_accuracy: 0.8522\n",
      "Epoch 3/10\n",
      "782/782 [==============================] - 1s 1ms/step - loss: 0.2814 - accuracy: 0.8763 - val_loss: 0.3391 - val_accuracy: 0.8517\n",
      "Epoch 4/10\n",
      "782/782 [==============================] - 1s 1ms/step - loss: 0.2710 - accuracy: 0.8828 - val_loss: 0.3659 - val_accuracy: 0.8474\n",
      "Epoch 5/10\n",
      "782/782 [==============================] - 1s 1ms/step - loss: 0.2532 - accuracy: 0.8924 - val_loss: 0.3756 - val_accuracy: 0.8400\n",
      "evaluation on test set\n",
      "391/391 [==============================] - 0s 695us/step - loss: 0.3505 - accuracy: 0.8520\n",
      "Epoch 1/10\n",
      "782/782 [==============================] - 2s 2ms/step - loss: 0.5792 - accuracy: 0.7107 - val_loss: 0.3942 - val_accuracy: 0.8329\n",
      "Epoch 2/10\n",
      "782/782 [==============================] - 1s 1ms/step - loss: 0.3867 - accuracy: 0.8365 - val_loss: 0.4177 - val_accuracy: 0.8317\n",
      "Epoch 3/10\n",
      "782/782 [==============================] - 1s 1ms/step - loss: 0.3685 - accuracy: 0.8497 - val_loss: 0.4301 - val_accuracy: 0.8410\n",
      "evaluation on test set\n",
      "391/391 [==============================] - 0s 594us/step - loss: 0.3953 - accuracy: 0.8566\n"
     ]
    }
   ],
   "source": [
    "histories = []\n",
    "for learning_rate in learning_rates:\n",
    "    model = keras.models.Sequential([\n",
    "                                    tf.keras.Input(shape=(num_words,)),\n",
    "                                    keras.layers.Dense(16, activation=\"relu\"),\n",
    "                                    keras.layers.Dense(16, activation=\"relu\"),\n",
    "                                    keras.layers.Dense(1, activation=\"sigmoid\")\n",
    "                                     ])\n",
    "    model.compile(loss=\"binary_crossentropy\",\n",
    "              optimizer=keras.optimizers.Adam(learning_rate=learning_rate),\n",
    "              metrics=[\"accuracy\"])\n",
    "              \n",
    "    callbacks = [keras.callbacks.EarlyStopping(patience=2)]\n",
    "\n",
    "    history = model.fit(X_train, y_train,\n",
    "                        validation_data=(X_valid, y_valid), epochs=10,\n",
    "                        callbacks=callbacks)\n",
    "    histories.append(history)\n",
    "    print(\"evaluation on test set\")\n",
    "    model.evaluate(X_test, y_test)"
   ]
  },
  {
   "cell_type": "markdown",
   "metadata": {
    "id": "RzTSjfwptkHJ"
   },
   "source": [
    "Let's plot the results"
   ]
  },
  {
   "cell_type": "code",
   "execution_count": 20,
   "metadata": {
    "id": "cIlN1vlioIYh"
   },
   "outputs": [
    {
     "name": "stdout",
     "output_type": "stream",
     "text": [
      "Learning rate: 0.0001\n"
     ]
    },
    {
     "data": {
      "image/png": "[encoded data removed]",
      "text/plain": [
       "<Figure size 576x360 with 1 Axes>"
      ]
     },
     "metadata": {
      "needs_background": "light"
     },
     "output_type": "display_data"
    },
    {
     "name": "stdout",
     "output_type": "stream",
     "text": [
      "Learning rate: 0.01\n"
     ]
    },
    {
     "data": {
      "image/png": "[encoded data removed]",
      "text/plain": [
       "<Figure size 576x360 with 1 Axes>"
      ]
     },
     "metadata": {
      "needs_background": "light"
     },
     "output_type": "display_data"
    },
    {
     "name": "stdout",
     "output_type": "stream",
     "text": [
      "Learning rate: 0.1\n"
     ]
    },
    {
     "data": {
      "image/png": "[encoded data removed]",
      "text/plain": [
       "<Figure size 576x360 with 1 Axes>"
      ]
     },
     "metadata": {
      "needs_background": "light"
     },
     "output_type": "display_data"
    }
   ],
   "source": [
    "for learning_rate, history in zip(learning_rates, histories):\n",
    "    print(\"Learning rate:\", learning_rate)\n",
    "    plot_learning_acc_and_loss(history)"
   ]
  },
  {
   "cell_type": "markdown",
   "metadata": {
    "id": "_JntujSWq3e5"
   },
   "source": [
    "### GRID Search:\n",
    "\n",
    "Since a deep net has many hyperparameters, in order to find the best ones, we have to consider all the possible combinations of all of the possible values. One common method to perform this complex task is Grid-Search.\n",
    "Given a set of values for each hyper-parameter, Grid-Search will build a model on each parameter combination possible. It iterates through every parameter combination and stores a model for each combination. Finally, the model that obtained the best result on the validation set will be select.\n",
    "\n",
    "In order to perfrom Grid-Search we will use the GridSearchCV method from scikit-learn."
   ]
  },
  {
   "cell_type": "markdown",
   "metadata": {
    "id": "CPz629YSrDhN"
   },
   "source": [
    "Let's Create a build_model() function that takes two arguments, n_neurons, learning_rate, and builds, compiles and returns a model with the given number of of neurons and the given learning rate.\n",
    "In order to limit the time requirements of the process we will consider only these two hyper-paramters.\n",
    "\n"
   ]
  },
  {
   "cell_type": "code",
   "execution_count": 21,
   "metadata": {
    "id": "oGSKWTTtqxZ4"
   },
   "outputs": [],
   "source": [
    "def build_model(n_units=30, learning_rate=1e-3):\n",
    "    # The function has to build a model similar to the ones we used in previuous execises:\n",
    "    #- a input layer \n",
    "    #- one or two Dense layers composed of n_units and that exploit Relu activation function \n",
    "    #- the output layer that uses the sigmoid activation function\n",
    "    # Then, the model has to be compiled.\n",
    "    model = keras.models.Sequential([\n",
    "                                tf.keras.Input(shape=(num_words,)),\n",
    "                                keras.layers.Dense(n_units, activation=\"relu\"),\n",
    "                                keras.layers.Dense(n_units, activation=\"relu\"),\n",
    "                                keras.layers.Dense(1, activation=\"sigmoid\")\n",
    "                                 ])\n",
    "    model.compile(loss=\"binary_crossentropy\",\n",
    "              optimizer=keras.optimizers.Adam(learning_rate=learning_rate),\n",
    "              metrics=[\"accuracy\"])\n",
    "    \n",
    "    \n",
    "    return model\n",
    "\n",
    "    \n",
    "#Create a keras.wrappers.scikit_learn.KerasRegressor and pass the build_model \n",
    "#function to the constructor. This gives you a Scikit-Learn compatible predictor\n",
    "keras_reg = keras.wrappers.scikit_learn.KerasRegressor(build_model)"
   ]
  },
  {
   "cell_type": "markdown",
   "metadata": {
    "id": "PS6W3A2LxDg5"
   },
   "source": [
    "Let's define the lists of hyper-parameters' values. Also in this case, we use a very limited size lists, but in a real-world scenario a reasonable amount of possible values should be considered (try to add some values and check how much the time required to perform the Grid-Search increases)"
   ]
  },
  {
   "cell_type": "code",
   "execution_count": 22,
   "metadata": {
    "id": "y-uldCW3ru24"
   },
   "outputs": [],
   "source": [
    "param_distribs = {\n",
    "    \"n_units\": [16, 32, 64],\n",
    "    \"learning_rate\": [1e-4, 1e-3, 1e-2] \n",
    "    #Check how the time required to perform GRID search increases when increasing the number of values for each hyper-parameter.\n",
    "}"
   ]
  },
  {
   "cell_type": "markdown",
   "metadata": {
    "id": "bEiBxVYtx_sK"
   },
   "source": [
    "Use a sklearn.model_selection.GridSearchCV to search the hyperparameter space of your KerasRegressor"
   ]
  },
  {
   "cell_type": "code",
   "execution_count": 23,
   "metadata": {
    "id": "iobF2Bvdr9ER"
   },
   "outputs": [],
   "source": [
    "from sklearn.model_selection import GridSearchCV\n",
    "\n",
    "grid_search = GridSearchCV(keras_reg, param_distribs)"
   ]
  },
  {
   "cell_type": "markdown",
   "metadata": {
    "id": "LVGMcZz_yKSX"
   },
   "source": [
    "Run the Grid-Search"
   ]
  },
  {
   "cell_type": "code",
   "execution_count": 24,
   "metadata": {
    "id": "-BA3vgTjr-hw",
    "scrolled": true
   },
   "outputs": [
    {
     "name": "stdout",
     "output_type": "stream",
     "text": [
      "Epoch 1/5\n",
      "625/625 [==============================] - 2s 2ms/step - loss: 0.6700 - accuracy: 0.5916 - val_loss: 0.5158 - val_accuracy: 0.7813\n",
      "Epoch 2/5\n",
      "625/625 [==============================] - 1s 2ms/step - loss: 0.4603 - accuracy: 0.8135 - val_loss: 0.3997 - val_accuracy: 0.8333\n",
      "Epoch 3/5\n",
      "625/625 [==============================] - 1s 2ms/step - loss: 0.3683 - accuracy: 0.8524 - val_loss: 0.3643 - val_accuracy: 0.8462\n",
      "Epoch 4/5\n",
      "625/625 [==============================] - 1s 1ms/step - loss: 0.3344 - accuracy: 0.8610 - val_loss: 0.3497 - val_accuracy: 0.8509\n",
      "Epoch 5/5\n",
      "625/625 [==============================] - 1s 2ms/step - loss: 0.3104 - accuracy: 0.8730 - val_loss: 0.3434 - val_accuracy: 0.8514\n",
      "157/157 [==============================] - 0s 731us/step - loss: 0.3392 - accuracy: 0.8554\n",
      "Epoch 1/5\n",
      "625/625 [==============================] - 1s 2ms/step - loss: 0.6808 - accuracy: 0.5596 - val_loss: 0.5639 - val_accuracy: 0.7535\n",
      "Epoch 2/5\n",
      "625/625 [==============================] - 1s 2ms/step - loss: 0.5113 - accuracy: 0.7930 - val_loss: 0.4308 - val_accuracy: 0.8257\n",
      "Epoch 3/5\n",
      "625/625 [==============================] - 1s 1ms/step - loss: 0.4012 - accuracy: 0.8425 - val_loss: 0.3790 - val_accuracy: 0.8424\n",
      "Epoch 4/5\n",
      "625/625 [==============================] - 1s 1ms/step - loss: 0.3508 - accuracy: 0.8595 - val_loss: 0.3568 - val_accuracy: 0.8497\n",
      "Epoch 5/5\n",
      "625/625 [==============================] - 1s 2ms/step - loss: 0.3236 - accuracy: 0.8696 - val_loss: 0.3468 - val_accuracy: 0.8518\n",
      "157/157 [==============================] - 0s 743us/step - loss: 0.3389 - accuracy: 0.8552\n",
      "Epoch 1/5\n",
      "625/625 [==============================] - 1s 2ms/step - loss: 0.6761 - accuracy: 0.5751 - val_loss: 0.5464 - val_accuracy: 0.7681\n",
      "Epoch 2/5\n",
      "625/625 [==============================] - 1s 1ms/step - loss: 0.4838 - accuracy: 0.8050 - val_loss: 0.4088 - val_accuracy: 0.8294\n",
      "Epoch 3/5\n",
      "625/625 [==============================] - 1s 1ms/step - loss: 0.3806 - accuracy: 0.8476 - val_loss: 0.3656 - val_accuracy: 0.8461\n",
      "Epoch 4/5\n",
      "625/625 [==============================] - 1s 1ms/step - loss: 0.3350 - accuracy: 0.8626 - val_loss: 0.3493 - val_accuracy: 0.8528\n",
      "Epoch 5/5\n",
      "625/625 [==============================] - 1s 1ms/step - loss: 0.3137 - accuracy: 0.8723 - val_loss: 0.3413 - val_accuracy: 0.8558\n",
      "157/157 [==============================] - 0s 639us/step - loss: 0.3400 - accuracy: 0.8570\n",
      "Epoch 1/5\n",
      "625/625 [==============================] - 1s 2ms/step - loss: 0.6766 - accuracy: 0.5720 - val_loss: 0.5245 - val_accuracy: 0.7772\n",
      "Epoch 2/5\n",
      "625/625 [==============================] - 1s 2ms/step - loss: 0.4672 - accuracy: 0.8141 - val_loss: 0.4009 - val_accuracy: 0.8338\n",
      "Epoch 3/5\n",
      "625/625 [==============================] - 1s 1ms/step - loss: 0.3740 - accuracy: 0.8452 - val_loss: 0.3619 - val_accuracy: 0.8461\n",
      "Epoch 4/5\n",
      "625/625 [==============================] - 1s 1ms/step - loss: 0.3386 - accuracy: 0.8593 - val_loss: 0.3470 - val_accuracy: 0.8520\n",
      "Epoch 5/5\n",
      "625/625 [==============================] - 1s 1ms/step - loss: 0.3118 - accuracy: 0.8696 - val_loss: 0.3408 - val_accuracy: 0.8543\n",
      "157/157 [==============================] - 0s 716us/step - loss: 0.3388 - accuracy: 0.8576\n",
      "Epoch 1/5\n",
      "625/625 [==============================] - 2s 2ms/step - loss: 0.6740 - accuracy: 0.5879 - val_loss: 0.5501 - val_accuracy: 0.7613\n",
      "Epoch 2/5\n",
      "625/625 [==============================] - 1s 2ms/step - loss: 0.4926 - accuracy: 0.8027 - val_loss: 0.4127 - val_accuracy: 0.8268\n",
      "Epoch 3/5\n",
      "625/625 [==============================] - 1s 2ms/step - loss: 0.3819 - accuracy: 0.8399 - val_loss: 0.3671 - val_accuracy: 0.8449\n",
      "Epoch 4/5\n",
      "625/625 [==============================] - 1s 2ms/step - loss: 0.3402 - accuracy: 0.8538 - val_loss: 0.3502 - val_accuracy: 0.8526\n",
      "Epoch 5/5\n",
      "625/625 [==============================] - 1s 1ms/step - loss: 0.3179 - accuracy: 0.8678 - val_loss: 0.3435 - val_accuracy: 0.8544\n",
      "157/157 [==============================] - 0s 718us/step - loss: 0.3326 - accuracy: 0.8600\n",
      "Epoch 1/5\n",
      "625/625 [==============================] - 1s 2ms/step - loss: 0.6641 - accuracy: 0.5882 - val_loss: 0.4778 - val_accuracy: 0.7932\n",
      "Epoch 2/5\n",
      "625/625 [==============================] - 1s 1ms/step - loss: 0.4200 - accuracy: 0.8329 - val_loss: 0.3730 - val_accuracy: 0.8401\n",
      "Epoch 3/5\n",
      "625/625 [==============================] - 1s 1ms/step - loss: 0.3454 - accuracy: 0.8579 - val_loss: 0.3496 - val_accuracy: 0.8508\n",
      "Epoch 4/5\n",
      "625/625 [==============================] - 1s 1ms/step - loss: 0.3181 - accuracy: 0.8675 - val_loss: 0.3432 - val_accuracy: 0.8534\n",
      "Epoch 5/5\n",
      "625/625 [==============================] - 1s 1ms/step - loss: 0.2982 - accuracy: 0.8754 - val_loss: 0.3420 - val_accuracy: 0.8554\n",
      "157/157 [==============================] - 0s 565us/step - loss: 0.3401 - accuracy: 0.8600\n",
      "Epoch 1/5\n",
      "625/625 [==============================] - 1s 2ms/step - loss: 0.6493 - accuracy: 0.6141 - val_loss: 0.4592 - val_accuracy: 0.8094\n",
      "Epoch 2/5\n",
      "625/625 [==============================] - 1s 1ms/step - loss: 0.4074 - accuracy: 0.8346 - val_loss: 0.3718 - val_accuracy: 0.8441\n",
      "Epoch 3/5\n",
      "625/625 [==============================] - 1s 1ms/step - loss: 0.3453 - accuracy: 0.8581 - val_loss: 0.3495 - val_accuracy: 0.8518\n",
      "Epoch 4/5\n",
      "625/625 [==============================] - 1s 1ms/step - loss: 0.3154 - accuracy: 0.8678 - val_loss: 0.3420 - val_accuracy: 0.8554\n",
      "Epoch 5/5\n",
      "625/625 [==============================] - 1s 1ms/step - loss: 0.2983 - accuracy: 0.8797 - val_loss: 0.3396 - val_accuracy: 0.8572\n",
      "157/157 [==============================] - 0s 720us/step - loss: 0.3312 - accuracy: 0.8594\n",
      "Epoch 1/5\n",
      "625/625 [==============================] - 1s 2ms/step - loss: 0.6457 - accuracy: 0.6204 - val_loss: 0.4499 - val_accuracy: 0.8070\n",
      "Epoch 2/5\n",
      "625/625 [==============================] - 1s 2ms/step - loss: 0.4016 - accuracy: 0.8359 - val_loss: 0.3637 - val_accuracy: 0.8475\n",
      "Epoch 3/5\n",
      "625/625 [==============================] - 1s 2ms/step - loss: 0.3416 - accuracy: 0.8583 - val_loss: 0.3432 - val_accuracy: 0.8530\n",
      "Epoch 4/5\n",
      "625/625 [==============================] - 1s 2ms/step - loss: 0.3134 - accuracy: 0.8712 - val_loss: 0.3397 - val_accuracy: 0.8546\n",
      "Epoch 5/5\n",
      "625/625 [==============================] - 1s 2ms/step - loss: 0.2964 - accuracy: 0.8782 - val_loss: 0.3354 - val_accuracy: 0.8578\n",
      "157/157 [==============================] - 0s 742us/step - loss: 0.3402 - accuracy: 0.8526\n",
      "Epoch 1/5\n",
      "625/625 [==============================] - 2s 2ms/step - loss: 0.6414 - accuracy: 0.6343 - val_loss: 0.4530 - val_accuracy: 0.8042\n",
      "Epoch 2/5\n",
      "625/625 [==============================] - 1s 1ms/step - loss: 0.3998 - accuracy: 0.8371 - val_loss: 0.3712 - val_accuracy: 0.8404\n",
      "Epoch 3/5\n",
      "625/625 [==============================] - 1s 2ms/step - loss: 0.3403 - accuracy: 0.8566 - val_loss: 0.3450 - val_accuracy: 0.8548\n",
      "Epoch 4/5\n",
      "625/625 [==============================] - 1s 2ms/step - loss: 0.3130 - accuracy: 0.8736 - val_loss: 0.3394 - val_accuracy: 0.8582\n",
      "Epoch 5/5\n",
      "625/625 [==============================] - 1s 2ms/step - loss: 0.2975 - accuracy: 0.8774 - val_loss: 0.3375 - val_accuracy: 0.8551\n",
      "157/157 [==============================] - 0s 749us/step - loss: 0.3344 - accuracy: 0.8574\n",
      "Epoch 1/5\n",
      "625/625 [==============================] - 2s 2ms/step - loss: 0.6428 - accuracy: 0.6311 - val_loss: 0.4492 - val_accuracy: 0.8081\n",
      "Epoch 2/5\n",
      "625/625 [==============================] - 1s 2ms/step - loss: 0.4021 - accuracy: 0.8405 - val_loss: 0.3696 - val_accuracy: 0.8430\n",
      "Epoch 3/5\n",
      "625/625 [==============================] - 1s 2ms/step - loss: 0.3404 - accuracy: 0.8593 - val_loss: 0.3487 - val_accuracy: 0.8520\n",
      "Epoch 4/5\n",
      "625/625 [==============================] - 1s 2ms/step - loss: 0.3163 - accuracy: 0.8674 - val_loss: 0.3420 - val_accuracy: 0.8554\n",
      "Epoch 5/5\n",
      "625/625 [==============================] - 1s 2ms/step - loss: 0.3028 - accuracy: 0.8740 - val_loss: 0.3422 - val_accuracy: 0.8546\n",
      "157/157 [==============================] - 0s 757us/step - loss: 0.3325 - accuracy: 0.8612\n",
      "Epoch 1/5\n",
      "625/625 [==============================] - 1s 2ms/step - loss: 0.6204 - accuracy: 0.6553 - val_loss: 0.4081 - val_accuracy: 0.8270\n",
      "Epoch 2/5\n"
     ]
    },
    {
     "name": "stdout",
     "output_type": "stream",
     "text": [
      "625/625 [==============================] - 1s 2ms/step - loss: 0.3635 - accuracy: 0.8529 - val_loss: 0.3504 - val_accuracy: 0.8490\n",
      "Epoch 3/5\n",
      "625/625 [==============================] - 1s 2ms/step - loss: 0.3215 - accuracy: 0.8697 - val_loss: 0.3409 - val_accuracy: 0.8527\n",
      "Epoch 4/5\n",
      "625/625 [==============================] - 1s 2ms/step - loss: 0.3017 - accuracy: 0.8739 - val_loss: 0.3417 - val_accuracy: 0.8534\n",
      "Epoch 5/5\n",
      "625/625 [==============================] - 1s 2ms/step - loss: 0.2831 - accuracy: 0.8823 - val_loss: 0.3449 - val_accuracy: 0.8525\n",
      "157/157 [==============================] - 0s 805us/step - loss: 0.3431 - accuracy: 0.8590\n",
      "Epoch 1/5\n",
      "625/625 [==============================] - 1s 2ms/step - loss: 0.6280 - accuracy: 0.6504 - val_loss: 0.4068 - val_accuracy: 0.8309\n",
      "Epoch 2/5\n",
      "625/625 [==============================] - 1s 2ms/step - loss: 0.3634 - accuracy: 0.8526 - val_loss: 0.3488 - val_accuracy: 0.8500\n",
      "Epoch 3/5\n",
      "625/625 [==============================] - 1s 2ms/step - loss: 0.3226 - accuracy: 0.8691 - val_loss: 0.3391 - val_accuracy: 0.8537\n",
      "Epoch 4/5\n",
      "625/625 [==============================] - 1s 2ms/step - loss: 0.3027 - accuracy: 0.8778 - val_loss: 0.3384 - val_accuracy: 0.8542\n",
      "Epoch 5/5\n",
      "625/625 [==============================] - 1s 2ms/step - loss: 0.2847 - accuracy: 0.8829 - val_loss: 0.3397 - val_accuracy: 0.8524\n",
      "157/157 [==============================] - 0s 739us/step - loss: 0.3291 - accuracy: 0.8616\n",
      "Epoch 1/5\n",
      "625/625 [==============================] - 2s 2ms/step - loss: 0.6453 - accuracy: 0.6094 - val_loss: 0.4026 - val_accuracy: 0.8294\n",
      "Epoch 2/5\n",
      "625/625 [==============================] - 1s 2ms/step - loss: 0.3592 - accuracy: 0.8522 - val_loss: 0.3456 - val_accuracy: 0.8511\n",
      "Epoch 3/5\n",
      "625/625 [==============================] - 1s 2ms/step - loss: 0.3162 - accuracy: 0.8681 - val_loss: 0.3393 - val_accuracy: 0.8553\n",
      "Epoch 4/5\n",
      "625/625 [==============================] - 1s 2ms/step - loss: 0.2985 - accuracy: 0.8766 - val_loss: 0.3422 - val_accuracy: 0.8522\n",
      "Epoch 5/5\n",
      "625/625 [==============================] - 1s 2ms/step - loss: 0.2844 - accuracy: 0.8845 - val_loss: 0.3392 - val_accuracy: 0.8559\n",
      "157/157 [==============================] - 0s 826us/step - loss: 0.3448 - accuracy: 0.8530\n",
      "Epoch 1/5\n",
      "625/625 [==============================] - 1s 2ms/step - loss: 0.6296 - accuracy: 0.6494 - val_loss: 0.4044 - val_accuracy: 0.8266\n",
      "Epoch 2/5\n",
      "625/625 [==============================] - 1s 2ms/step - loss: 0.3620 - accuracy: 0.8506 - val_loss: 0.3511 - val_accuracy: 0.8514\n",
      "Epoch 3/5\n",
      "625/625 [==============================] - 1s 2ms/step - loss: 0.3208 - accuracy: 0.8639 - val_loss: 0.3388 - val_accuracy: 0.8548\n",
      "Epoch 4/5\n",
      "625/625 [==============================] - 1s 2ms/step - loss: 0.3031 - accuracy: 0.8743 - val_loss: 0.3391 - val_accuracy: 0.8553\n",
      "Epoch 5/5\n",
      "625/625 [==============================] - 1s 2ms/step - loss: 0.2864 - accuracy: 0.8832 - val_loss: 0.3397 - val_accuracy: 0.8534\n",
      "157/157 [==============================] - 0s 780us/step - loss: 0.3358 - accuracy: 0.8592\n",
      "Epoch 1/5\n",
      "625/625 [==============================] - 1s 2ms/step - loss: 0.6379 - accuracy: 0.6386 - val_loss: 0.4163 - val_accuracy: 0.8244\n",
      "Epoch 2/5\n",
      "625/625 [==============================] - 1s 2ms/step - loss: 0.3735 - accuracy: 0.8467 - val_loss: 0.3511 - val_accuracy: 0.8511\n",
      "Epoch 3/5\n",
      "625/625 [==============================] - 1s 2ms/step - loss: 0.3222 - accuracy: 0.8618 - val_loss: 0.3408 - val_accuracy: 0.8542\n",
      "Epoch 4/5\n",
      "625/625 [==============================] - 1s 2ms/step - loss: 0.3044 - accuracy: 0.8741 - val_loss: 0.3392 - val_accuracy: 0.8552\n",
      "Epoch 5/5\n",
      "625/625 [==============================] - 1s 2ms/step - loss: 0.2904 - accuracy: 0.8818 - val_loss: 0.3438 - val_accuracy: 0.8514\n",
      "157/157 [==============================] - 0s 766us/step - loss: 0.3354 - accuracy: 0.8594\n",
      "Epoch 1/5\n",
      "625/625 [==============================] - 1s 2ms/step - loss: 0.4805 - accuracy: 0.7592 - val_loss: 0.3406 - val_accuracy: 0.8532\n",
      "Epoch 2/5\n",
      "625/625 [==============================] - 1s 1ms/step - loss: 0.3078 - accuracy: 0.8734 - val_loss: 0.3396 - val_accuracy: 0.8510\n",
      "Epoch 3/5\n",
      "625/625 [==============================] - 1s 1ms/step - loss: 0.2920 - accuracy: 0.8768 - val_loss: 0.3419 - val_accuracy: 0.8506\n",
      "Epoch 4/5\n",
      "625/625 [==============================] - 1s 2ms/step - loss: 0.2810 - accuracy: 0.8816 - val_loss: 0.3400 - val_accuracy: 0.8504\n",
      "Epoch 5/5\n",
      "625/625 [==============================] - 1s 2ms/step - loss: 0.2496 - accuracy: 0.8954 - val_loss: 0.3622 - val_accuracy: 0.8413\n",
      "157/157 [==============================] - 0s 1ms/step - loss: 0.3623 - accuracy: 0.8478\n",
      "Epoch 1/5\n",
      "625/625 [==============================] - 2s 2ms/step - loss: 0.4916 - accuracy: 0.7558 - val_loss: 0.3408 - val_accuracy: 0.8534\n",
      "Epoch 2/5\n",
      "625/625 [==============================] - 1s 1ms/step - loss: 0.3109 - accuracy: 0.8731 - val_loss: 0.3357 - val_accuracy: 0.8545\n",
      "Epoch 3/5\n",
      "625/625 [==============================] - 1s 1ms/step - loss: 0.2987 - accuracy: 0.8765 - val_loss: 0.3454 - val_accuracy: 0.8471\n",
      "Epoch 4/5\n",
      "625/625 [==============================] - 1s 1ms/step - loss: 0.2791 - accuracy: 0.8823 - val_loss: 0.3395 - val_accuracy: 0.8510\n",
      "Epoch 5/5\n",
      "625/625 [==============================] - 1s 1ms/step - loss: 0.2459 - accuracy: 0.8963 - val_loss: 0.3498 - val_accuracy: 0.8478\n",
      "157/157 [==============================] - 0s 725us/step - loss: 0.3428 - accuracy: 0.8562\n",
      "Epoch 1/5\n",
      "625/625 [==============================] - 1s 2ms/step - loss: 0.5009 - accuracy: 0.7387 - val_loss: 0.3434 - val_accuracy: 0.8518\n",
      "Epoch 2/5\n",
      "625/625 [==============================] - 1s 1ms/step - loss: 0.3144 - accuracy: 0.8684 - val_loss: 0.3383 - val_accuracy: 0.8525\n",
      "Epoch 3/5\n",
      "625/625 [==============================] - 1s 1ms/step - loss: 0.3018 - accuracy: 0.8727 - val_loss: 0.3458 - val_accuracy: 0.8491\n",
      "Epoch 4/5\n",
      "625/625 [==============================] - 1s 1ms/step - loss: 0.2871 - accuracy: 0.8803 - val_loss: 0.3405 - val_accuracy: 0.8517\n",
      "Epoch 5/5\n",
      "625/625 [==============================] - 1s 1ms/step - loss: 0.2605 - accuracy: 0.8908 - val_loss: 0.3415 - val_accuracy: 0.8491\n",
      "157/157 [==============================] - 0s 716us/step - loss: 0.3436 - accuracy: 0.8480\n",
      "Epoch 1/5\n",
      "625/625 [==============================] - 1s 2ms/step - loss: 0.4821 - accuracy: 0.7551 - val_loss: 0.3488 - val_accuracy: 0.8499\n",
      "Epoch 2/5\n",
      "625/625 [==============================] - 1s 1ms/step - loss: 0.3083 - accuracy: 0.8725 - val_loss: 0.3372 - val_accuracy: 0.8550\n",
      "Epoch 3/5\n",
      "625/625 [==============================] - 1s 1ms/step - loss: 0.2897 - accuracy: 0.8763 - val_loss: 0.3454 - val_accuracy: 0.8502\n",
      "Epoch 4/5\n",
      "625/625 [==============================] - 1s 1ms/step - loss: 0.2746 - accuracy: 0.8881 - val_loss: 0.3499 - val_accuracy: 0.8485\n",
      "Epoch 5/5\n",
      "625/625 [==============================] - 1s 1ms/step - loss: 0.2445 - accuracy: 0.8971 - val_loss: 0.3536 - val_accuracy: 0.8473\n",
      "157/157 [==============================] - 0s 695us/step - loss: 0.3515 - accuracy: 0.8472\n",
      "Epoch 1/5\n",
      "625/625 [==============================] - 1s 2ms/step - loss: 0.4936 - accuracy: 0.7495 - val_loss: 0.3537 - val_accuracy: 0.8463\n",
      "Epoch 2/5\n",
      "625/625 [==============================] - 1s 1ms/step - loss: 0.3194 - accuracy: 0.8655 - val_loss: 0.3427 - val_accuracy: 0.8522\n",
      "Epoch 3/5\n",
      "625/625 [==============================] - 1s 1ms/step - loss: 0.3023 - accuracy: 0.8719 - val_loss: 0.3465 - val_accuracy: 0.8481\n",
      "Epoch 4/5\n",
      "625/625 [==============================] - 1s 1ms/step - loss: 0.2862 - accuracy: 0.8812 - val_loss: 0.3403 - val_accuracy: 0.8501\n",
      "Epoch 5/5\n",
      "625/625 [==============================] - 1s 1ms/step - loss: 0.2574 - accuracy: 0.8923 - val_loss: 0.3465 - val_accuracy: 0.8478\n",
      "157/157 [==============================] - 0s 695us/step - loss: 0.3365 - accuracy: 0.8576\n",
      "Epoch 1/5\n",
      "625/625 [==============================] - 1s 2ms/step - loss: 0.4678 - accuracy: 0.7727 - val_loss: 0.3398 - val_accuracy: 0.8537\n",
      "Epoch 2/5\n",
      "625/625 [==============================] - 1s 2ms/step - loss: 0.3034 - accuracy: 0.8721 - val_loss: 0.3369 - val_accuracy: 0.8517\n",
      "Epoch 3/5\n",
      "625/625 [==============================] - 1s 1ms/step - loss: 0.2786 - accuracy: 0.8827 - val_loss: 0.3496 - val_accuracy: 0.8490\n"
     ]
    },
    {
     "name": "stdout",
     "output_type": "stream",
     "text": [
      "Epoch 4/5\n",
      "625/625 [==============================] - 1s 1ms/step - loss: 0.2519 - accuracy: 0.8945 - val_loss: 0.3567 - val_accuracy: 0.8458\n",
      "Epoch 5/5\n",
      "625/625 [==============================] - 1s 2ms/step - loss: 0.2034 - accuracy: 0.9175 - val_loss: 0.3911 - val_accuracy: 0.8386\n",
      "157/157 [==============================] - 0s 796us/step - loss: 0.3799 - accuracy: 0.8476\n",
      "Epoch 1/5\n",
      "625/625 [==============================] - 2s 2ms/step - loss: 0.4790 - accuracy: 0.7668 - val_loss: 0.3393 - val_accuracy: 0.8539\n",
      "Epoch 2/5\n",
      "625/625 [==============================] - 1s 2ms/step - loss: 0.3075 - accuracy: 0.8723 - val_loss: 0.3347 - val_accuracy: 0.8539\n",
      "Epoch 3/5\n",
      "625/625 [==============================] - 1s 2ms/step - loss: 0.2864 - accuracy: 0.8802 - val_loss: 0.3552 - val_accuracy: 0.8442\n",
      "Epoch 4/5\n",
      "625/625 [==============================] - 1s 2ms/step - loss: 0.2485 - accuracy: 0.8972 - val_loss: 0.3571 - val_accuracy: 0.8454\n",
      "Epoch 5/5\n",
      "625/625 [==============================] - 1s 2ms/step - loss: 0.1913 - accuracy: 0.9265 - val_loss: 0.3949 - val_accuracy: 0.8392\n",
      "157/157 [==============================] - 0s 783us/step - loss: 0.3857 - accuracy: 0.8438\n",
      "Epoch 1/5\n",
      "625/625 [==============================] - 2s 2ms/step - loss: 0.4662 - accuracy: 0.7757 - val_loss: 0.3396 - val_accuracy: 0.8531\n",
      "Epoch 2/5\n",
      "625/625 [==============================] - 1s 1ms/step - loss: 0.3070 - accuracy: 0.8705 - val_loss: 0.3320 - val_accuracy: 0.8558\n",
      "Epoch 3/5\n",
      "625/625 [==============================] - 1s 2ms/step - loss: 0.2809 - accuracy: 0.8803 - val_loss: 0.3496 - val_accuracy: 0.8459\n",
      "Epoch 4/5\n",
      "625/625 [==============================] - 1s 2ms/step - loss: 0.2464 - accuracy: 0.8976 - val_loss: 0.3504 - val_accuracy: 0.8505\n",
      "Epoch 5/5\n",
      "625/625 [==============================] - 1s 2ms/step - loss: 0.2004 - accuracy: 0.9192 - val_loss: 0.3825 - val_accuracy: 0.8413\n",
      "157/157 [==============================] - 0s 807us/step - loss: 0.3781 - accuracy: 0.8412\n",
      "Epoch 1/5\n",
      "625/625 [==============================] - 1s 2ms/step - loss: 0.4589 - accuracy: 0.7821 - val_loss: 0.3402 - val_accuracy: 0.8505\n",
      "Epoch 2/5\n",
      "625/625 [==============================] - 1s 2ms/step - loss: 0.3023 - accuracy: 0.8708 - val_loss: 0.3327 - val_accuracy: 0.8518\n",
      "Epoch 3/5\n",
      "625/625 [==============================] - 1s 2ms/step - loss: 0.2802 - accuracy: 0.8796 - val_loss: 0.3428 - val_accuracy: 0.8502\n",
      "Epoch 4/5\n",
      "625/625 [==============================] - 1s 2ms/step - loss: 0.2543 - accuracy: 0.8935 - val_loss: 0.3536 - val_accuracy: 0.8511\n",
      "Epoch 5/5\n",
      "625/625 [==============================] - 1s 2ms/step - loss: 0.2077 - accuracy: 0.9157 - val_loss: 0.3943 - val_accuracy: 0.8407\n",
      "157/157 [==============================] - 0s 761us/step - loss: 0.3855 - accuracy: 0.8502\n",
      "Epoch 1/5\n",
      "625/625 [==============================] - 2s 2ms/step - loss: 0.4725 - accuracy: 0.7711 - val_loss: 0.3646 - val_accuracy: 0.8415\n",
      "Epoch 2/5\n",
      "625/625 [==============================] - 1s 2ms/step - loss: 0.3187 - accuracy: 0.8656 - val_loss: 0.3413 - val_accuracy: 0.8494\n",
      "Epoch 3/5\n",
      "625/625 [==============================] - 1s 2ms/step - loss: 0.2897 - accuracy: 0.8792 - val_loss: 0.3612 - val_accuracy: 0.8439\n",
      "Epoch 4/5\n",
      "625/625 [==============================] - 1s 2ms/step - loss: 0.2538 - accuracy: 0.8952 - val_loss: 0.3544 - val_accuracy: 0.8462\n",
      "Epoch 5/5\n",
      "625/625 [==============================] - 1s 2ms/step - loss: 0.1953 - accuracy: 0.9260 - val_loss: 0.4018 - val_accuracy: 0.8376\n",
      "157/157 [==============================] - 0s 778us/step - loss: 0.3957 - accuracy: 0.8446\n",
      "Epoch 1/5\n",
      "625/625 [==============================] - 2s 2ms/step - loss: 0.4676 - accuracy: 0.7704 - val_loss: 0.3360 - val_accuracy: 0.8522\n",
      "Epoch 2/5\n",
      "625/625 [==============================] - 1s 2ms/step - loss: 0.2962 - accuracy: 0.8747 - val_loss: 0.3376 - val_accuracy: 0.8498\n",
      "Epoch 3/5\n",
      "625/625 [==============================] - 1s 2ms/step - loss: 0.2561 - accuracy: 0.8936 - val_loss: 0.3605 - val_accuracy: 0.8406\n",
      "Epoch 4/5\n",
      "625/625 [==============================] - 1s 2ms/step - loss: 0.2076 - accuracy: 0.9181 - val_loss: 0.3874 - val_accuracy: 0.8406\n",
      "Epoch 5/5\n",
      "625/625 [==============================] - 1s 2ms/step - loss: 0.1255 - accuracy: 0.9556 - val_loss: 0.4833 - val_accuracy: 0.8321\n",
      "157/157 [==============================] - 0s 799us/step - loss: 0.4711 - accuracy: 0.8450\n",
      "Epoch 1/5\n",
      "625/625 [==============================] - 1s 2ms/step - loss: 0.4655 - accuracy: 0.7707 - val_loss: 0.3327 - val_accuracy: 0.8542\n",
      "Epoch 2/5\n",
      "625/625 [==============================] - 1s 2ms/step - loss: 0.2914 - accuracy: 0.8789 - val_loss: 0.3369 - val_accuracy: 0.8538\n",
      "Epoch 3/5\n",
      "625/625 [==============================] - 1s 2ms/step - loss: 0.2443 - accuracy: 0.9031 - val_loss: 0.3707 - val_accuracy: 0.8439\n",
      "Epoch 4/5\n",
      "625/625 [==============================] - 1s 2ms/step - loss: 0.1712 - accuracy: 0.9379 - val_loss: 0.4457 - val_accuracy: 0.8326\n",
      "Epoch 5/5\n",
      "625/625 [==============================] - 1s 2ms/step - loss: 0.0841 - accuracy: 0.9721 - val_loss: 0.5276 - val_accuracy: 0.8298\n",
      "157/157 [==============================] - 0s 886us/step - loss: 0.5103 - accuracy: 0.8368\n",
      "Epoch 1/5\n",
      "625/625 [==============================] - 1s 2ms/step - loss: 0.4568 - accuracy: 0.7797 - val_loss: 0.3420 - val_accuracy: 0.8491\n",
      "Epoch 2/5\n",
      "625/625 [==============================] - 1s 2ms/step - loss: 0.2955 - accuracy: 0.8760 - val_loss: 0.3339 - val_accuracy: 0.8533\n",
      "Epoch 3/5\n",
      "625/625 [==============================] - 1s 2ms/step - loss: 0.2507 - accuracy: 0.8973 - val_loss: 0.3611 - val_accuracy: 0.8418\n",
      "Epoch 4/5\n",
      "625/625 [==============================] - 1s 2ms/step - loss: 0.1761 - accuracy: 0.9334 - val_loss: 0.4254 - val_accuracy: 0.8368\n",
      "Epoch 5/5\n",
      "625/625 [==============================] - 1s 2ms/step - loss: 0.0907 - accuracy: 0.9685 - val_loss: 0.5592 - val_accuracy: 0.8265\n",
      "157/157 [==============================] - 0s 867us/step - loss: 0.5440 - accuracy: 0.8346\n",
      "Epoch 1/5\n",
      "625/625 [==============================] - 2s 2ms/step - loss: 0.4597 - accuracy: 0.7791 - val_loss: 0.3498 - val_accuracy: 0.8438\n",
      "Epoch 2/5\n",
      "625/625 [==============================] - 1s 2ms/step - loss: 0.2963 - accuracy: 0.8765 - val_loss: 0.3298 - val_accuracy: 0.8534\n",
      "Epoch 3/5\n",
      "625/625 [==============================] - 1s 2ms/step - loss: 0.2572 - accuracy: 0.8920 - val_loss: 0.3434 - val_accuracy: 0.8479\n",
      "Epoch 4/5\n",
      "625/625 [==============================] - 1s 2ms/step - loss: 0.1901 - accuracy: 0.9288 - val_loss: 0.4048 - val_accuracy: 0.8399\n",
      "Epoch 5/5\n",
      "625/625 [==============================] - 1s 2ms/step - loss: 0.1032 - accuracy: 0.9654 - val_loss: 0.4857 - val_accuracy: 0.8342\n",
      "157/157 [==============================] - 0s 862us/step - loss: 0.4865 - accuracy: 0.8338\n",
      "Epoch 1/5\n",
      "625/625 [==============================] - 2s 2ms/step - loss: 0.4474 - accuracy: 0.7930 - val_loss: 0.3639 - val_accuracy: 0.8376\n",
      "Epoch 2/5\n",
      "625/625 [==============================] - 1s 2ms/step - loss: 0.3049 - accuracy: 0.8724 - val_loss: 0.3363 - val_accuracy: 0.8485\n",
      "Epoch 3/5\n",
      "625/625 [==============================] - 1s 2ms/step - loss: 0.2581 - accuracy: 0.8902 - val_loss: 0.3619 - val_accuracy: 0.8437\n",
      "Epoch 4/5\n",
      "625/625 [==============================] - 1s 2ms/step - loss: 0.1919 - accuracy: 0.9278 - val_loss: 0.3934 - val_accuracy: 0.8412\n",
      "Epoch 5/5\n",
      "625/625 [==============================] - 1s 2ms/step - loss: 0.1016 - accuracy: 0.9672 - val_loss: 0.4968 - val_accuracy: 0.8333\n",
      "157/157 [==============================] - 0s 800us/step - loss: 0.4809 - accuracy: 0.8326\n",
      "Epoch 1/5\n",
      "625/625 [==============================] - 1s 2ms/step - loss: 0.4313 - accuracy: 0.7925 - val_loss: 0.3358 - val_accuracy: 0.8501\n",
      "Epoch 2/5\n",
      "625/625 [==============================] - 1s 1ms/step - loss: 0.3037 - accuracy: 0.8686 - val_loss: 0.3452 - val_accuracy: 0.8534\n",
      "Epoch 3/5\n",
      "625/625 [==============================] - 1s 1ms/step - loss: 0.2817 - accuracy: 0.8745 - val_loss: 0.3468 - val_accuracy: 0.8473\n",
      "Epoch 4/5\n",
      "625/625 [==============================] - 1s 1ms/step - loss: 0.2637 - accuracy: 0.8835 - val_loss: 0.3623 - val_accuracy: 0.8456\n",
      "Epoch 5/5\n"
     ]
    },
    {
     "name": "stdout",
     "output_type": "stream",
     "text": [
      "625/625 [==============================] - 1s 1ms/step - loss: 0.2381 - accuracy: 0.8942 - val_loss: 0.3682 - val_accuracy: 0.8439\n",
      "157/157 [==============================] - 0s 707us/step - loss: 0.3604 - accuracy: 0.8496\n",
      "Epoch 1/5\n",
      "625/625 [==============================] - 1s 2ms/step - loss: 0.4498 - accuracy: 0.7766 - val_loss: 0.3370 - val_accuracy: 0.8526\n",
      "Epoch 2/5\n",
      "625/625 [==============================] - 1s 2ms/step - loss: 0.3033 - accuracy: 0.8682 - val_loss: 0.3361 - val_accuracy: 0.8525\n",
      "Epoch 3/5\n",
      "625/625 [==============================] - 1s 2ms/step - loss: 0.2921 - accuracy: 0.8741 - val_loss: 0.3531 - val_accuracy: 0.8426\n",
      "Epoch 4/5\n",
      "625/625 [==============================] - 1s 2ms/step - loss: 0.2731 - accuracy: 0.8844 - val_loss: 0.3683 - val_accuracy: 0.8403\n",
      "Epoch 5/5\n",
      "625/625 [==============================] - 1s 2ms/step - loss: 0.2496 - accuracy: 0.8957 - val_loss: 0.3600 - val_accuracy: 0.8462\n",
      "157/157 [==============================] - 0s 751us/step - loss: 0.3465 - accuracy: 0.8490\n",
      "Epoch 1/5\n",
      "625/625 [==============================] - 1s 2ms/step - loss: 0.4165 - accuracy: 0.8051 - val_loss: 0.3397 - val_accuracy: 0.8470\n",
      "Epoch 2/5\n",
      "625/625 [==============================] - 1s 1ms/step - loss: 0.3076 - accuracy: 0.8689 - val_loss: 0.3366 - val_accuracy: 0.8522\n",
      "Epoch 3/5\n",
      "625/625 [==============================] - 1s 1ms/step - loss: 0.2843 - accuracy: 0.8766 - val_loss: 0.3596 - val_accuracy: 0.8436\n",
      "Epoch 4/5\n",
      "625/625 [==============================] - 1s 2ms/step - loss: 0.2623 - accuracy: 0.8888 - val_loss: 0.3733 - val_accuracy: 0.8429\n",
      "Epoch 5/5\n",
      "625/625 [==============================] - 1s 1ms/step - loss: 0.2351 - accuracy: 0.9021 - val_loss: 0.3645 - val_accuracy: 0.8418\n",
      "157/157 [==============================] - 0s 727us/step - loss: 0.3672 - accuracy: 0.8400\n",
      "Epoch 1/5\n",
      "625/625 [==============================] - 2s 2ms/step - loss: 0.4267 - accuracy: 0.7986 - val_loss: 0.3507 - val_accuracy: 0.8436\n",
      "Epoch 2/5\n",
      "625/625 [==============================] - 1s 1ms/step - loss: 0.3050 - accuracy: 0.8675 - val_loss: 0.3381 - val_accuracy: 0.8494\n",
      "Epoch 3/5\n",
      "625/625 [==============================] - 1s 1ms/step - loss: 0.2825 - accuracy: 0.8752 - val_loss: 0.3460 - val_accuracy: 0.8530\n",
      "Epoch 4/5\n",
      "625/625 [==============================] - 1s 2ms/step - loss: 0.2695 - accuracy: 0.8860 - val_loss: 0.3642 - val_accuracy: 0.8485\n",
      "Epoch 5/5\n",
      "625/625 [==============================] - 1s 1ms/step - loss: 0.2440 - accuracy: 0.8954 - val_loss: 0.3611 - val_accuracy: 0.8448\n",
      "157/157 [==============================] - 0s 700us/step - loss: 0.3573 - accuracy: 0.8508\n",
      "Epoch 1/5\n",
      "625/625 [==============================] - 1s 2ms/step - loss: 0.4258 - accuracy: 0.7975 - val_loss: 0.3546 - val_accuracy: 0.8384\n",
      "Epoch 2/5\n",
      "625/625 [==============================] - 1s 1ms/step - loss: 0.3140 - accuracy: 0.8661 - val_loss: 0.3402 - val_accuracy: 0.8472\n",
      "Epoch 3/5\n",
      "625/625 [==============================] - 1s 1ms/step - loss: 0.2832 - accuracy: 0.8779 - val_loss: 0.3603 - val_accuracy: 0.8459\n",
      "Epoch 4/5\n",
      "625/625 [==============================] - 1s 1ms/step - loss: 0.2624 - accuracy: 0.8904 - val_loss: 0.3645 - val_accuracy: 0.8476\n",
      "Epoch 5/5\n",
      "625/625 [==============================] - 1s 1ms/step - loss: 0.2329 - accuracy: 0.9026 - val_loss: 0.3829 - val_accuracy: 0.8382\n",
      "157/157 [==============================] - 0s 726us/step - loss: 0.3655 - accuracy: 0.8506\n",
      "Epoch 1/5\n",
      "625/625 [==============================] - 1s 2ms/step - loss: 0.4406 - accuracy: 0.7885 - val_loss: 0.3358 - val_accuracy: 0.8526\n",
      "Epoch 2/5\n",
      "625/625 [==============================] - 1s 1ms/step - loss: 0.3053 - accuracy: 0.8682 - val_loss: 0.3455 - val_accuracy: 0.8498\n",
      "Epoch 3/5\n",
      "625/625 [==============================] - 1s 1ms/step - loss: 0.2820 - accuracy: 0.8823 - val_loss: 0.3456 - val_accuracy: 0.8477\n",
      "Epoch 4/5\n",
      "625/625 [==============================] - 1s 1ms/step - loss: 0.2714 - accuracy: 0.8821 - val_loss: 0.3580 - val_accuracy: 0.8458\n",
      "Epoch 5/5\n",
      "625/625 [==============================] - 1s 1ms/step - loss: 0.2469 - accuracy: 0.8948 - val_loss: 0.3772 - val_accuracy: 0.8437\n",
      "157/157 [==============================] - 0s 714us/step - loss: 0.3748 - accuracy: 0.8532\n",
      "Epoch 1/5\n",
      "625/625 [==============================] - 1s 2ms/step - loss: 0.4345 - accuracy: 0.7956 - val_loss: 0.3396 - val_accuracy: 0.8509\n",
      "Epoch 2/5\n",
      "625/625 [==============================] - 1s 1ms/step - loss: 0.3050 - accuracy: 0.8700 - val_loss: 0.3399 - val_accuracy: 0.8552\n",
      "Epoch 3/5\n",
      "625/625 [==============================] - 1s 1ms/step - loss: 0.2839 - accuracy: 0.8757 - val_loss: 0.3538 - val_accuracy: 0.8494\n",
      "Epoch 4/5\n",
      "625/625 [==============================] - 1s 1ms/step - loss: 0.2556 - accuracy: 0.8923 - val_loss: 0.3656 - val_accuracy: 0.8411\n",
      "Epoch 5/5\n",
      "625/625 [==============================] - 1s 1ms/step - loss: 0.2326 - accuracy: 0.9042 - val_loss: 0.3689 - val_accuracy: 0.8420\n",
      "157/157 [==============================] - 0s 740us/step - loss: 0.3620 - accuracy: 0.8440\n",
      "Epoch 1/5\n",
      "625/625 [==============================] - 1s 2ms/step - loss: 0.4177 - accuracy: 0.8011 - val_loss: 0.3371 - val_accuracy: 0.8458\n",
      "Epoch 2/5\n",
      "625/625 [==============================] - 1s 2ms/step - loss: 0.3035 - accuracy: 0.8688 - val_loss: 0.3441 - val_accuracy: 0.8505\n",
      "Epoch 3/5\n",
      "625/625 [==============================] - 1s 2ms/step - loss: 0.2754 - accuracy: 0.8831 - val_loss: 0.3535 - val_accuracy: 0.8430\n",
      "Epoch 4/5\n",
      "625/625 [==============================] - 1s 2ms/step - loss: 0.2448 - accuracy: 0.8972 - val_loss: 0.3691 - val_accuracy: 0.8437\n",
      "Epoch 5/5\n",
      "625/625 [==============================] - 1s 2ms/step - loss: 0.2033 - accuracy: 0.9181 - val_loss: 0.3720 - val_accuracy: 0.8409\n",
      "157/157 [==============================] - 0s 736us/step - loss: 0.3760 - accuracy: 0.8350\n",
      "Epoch 1/5\n",
      "625/625 [==============================] - 2s 2ms/step - loss: 0.4172 - accuracy: 0.8060 - val_loss: 0.3433 - val_accuracy: 0.8505\n",
      "Epoch 2/5\n",
      "625/625 [==============================] - 1s 2ms/step - loss: 0.3025 - accuracy: 0.8691 - val_loss: 0.3440 - val_accuracy: 0.8447\n",
      "Epoch 3/5\n",
      "625/625 [==============================] - 1s 2ms/step - loss: 0.2767 - accuracy: 0.8796 - val_loss: 0.3513 - val_accuracy: 0.8480\n",
      "Epoch 4/5\n",
      "625/625 [==============================] - 1s 2ms/step - loss: 0.2549 - accuracy: 0.8933 - val_loss: 0.3774 - val_accuracy: 0.8430\n",
      "Epoch 5/5\n",
      "625/625 [==============================] - 1s 2ms/step - loss: 0.2151 - accuracy: 0.9134 - val_loss: 0.3827 - val_accuracy: 0.8418\n",
      "157/157 [==============================] - 0s 1ms/step - loss: 0.3739 - accuracy: 0.8460\n",
      "Epoch 1/5\n",
      "625/625 [==============================] - 2s 2ms/step - loss: 0.4203 - accuracy: 0.8047 - val_loss: 0.3435 - val_accuracy: 0.8470\n",
      "Epoch 2/5\n",
      "625/625 [==============================] - 1s 2ms/step - loss: 0.3122 - accuracy: 0.8657 - val_loss: 0.3487 - val_accuracy: 0.8458\n",
      "Epoch 3/5\n",
      "625/625 [==============================] - 1s 2ms/step - loss: 0.2819 - accuracy: 0.8777 - val_loss: 0.3798 - val_accuracy: 0.8397\n",
      "Epoch 4/5\n",
      "625/625 [==============================] - 1s 2ms/step - loss: 0.2572 - accuracy: 0.8945 - val_loss: 0.3782 - val_accuracy: 0.8420\n",
      "Epoch 5/5\n",
      "625/625 [==============================] - 1s 2ms/step - loss: 0.2168 - accuracy: 0.9130 - val_loss: 0.4175 - val_accuracy: 0.8326\n",
      "157/157 [==============================] - 0s 740us/step - loss: 0.4059 - accuracy: 0.8416\n",
      "Epoch 1/5\n",
      "625/625 [==============================] - 2s 2ms/step - loss: 0.4435 - accuracy: 0.7937 - val_loss: 0.3396 - val_accuracy: 0.8485\n",
      "Epoch 2/5\n",
      "625/625 [==============================] - 1s 2ms/step - loss: 0.3062 - accuracy: 0.8672 - val_loss: 0.3416 - val_accuracy: 0.8494\n",
      "Epoch 3/5\n",
      "625/625 [==============================] - 1s 2ms/step - loss: 0.2775 - accuracy: 0.8828 - val_loss: 0.3464 - val_accuracy: 0.8474\n",
      "Epoch 4/5\n",
      "625/625 [==============================] - 1s 2ms/step - loss: 0.2536 - accuracy: 0.8921 - val_loss: 0.3923 - val_accuracy: 0.8420\n",
      "Epoch 5/5\n",
      "625/625 [==============================] - 1s 2ms/step - loss: 0.2153 - accuracy: 0.9091 - val_loss: 0.3863 - val_accuracy: 0.8324\n",
      "157/157 [==============================] - 0s 827us/step - loss: 0.3862 - accuracy: 0.8422\n",
      "Epoch 1/5\n"
     ]
    },
    {
     "name": "stdout",
     "output_type": "stream",
     "text": [
      "625/625 [==============================] - 1s 2ms/step - loss: 0.4442 - accuracy: 0.7879 - val_loss: 0.3460 - val_accuracy: 0.8498\n",
      "Epoch 2/5\n",
      "625/625 [==============================] - 1s 2ms/step - loss: 0.3035 - accuracy: 0.8737 - val_loss: 0.3431 - val_accuracy: 0.8541\n",
      "Epoch 3/5\n",
      "625/625 [==============================] - 1s 2ms/step - loss: 0.2788 - accuracy: 0.8812 - val_loss: 0.3559 - val_accuracy: 0.8428\n",
      "Epoch 4/5\n",
      "625/625 [==============================] - 1s 2ms/step - loss: 0.2494 - accuracy: 0.8947 - val_loss: 0.3988 - val_accuracy: 0.8367\n",
      "Epoch 5/5\n",
      "625/625 [==============================] - 1s 2ms/step - loss: 0.2175 - accuracy: 0.9125 - val_loss: 0.4026 - val_accuracy: 0.8402\n",
      "157/157 [==============================] - 0s 794us/step - loss: 0.3844 - accuracy: 0.8506\n",
      "Epoch 1/5\n",
      "625/625 [==============================] - 2s 2ms/step - loss: 0.4215 - accuracy: 0.8025 - val_loss: 0.3492 - val_accuracy: 0.8385\n",
      "Epoch 2/5\n",
      "625/625 [==============================] - 1s 2ms/step - loss: 0.3072 - accuracy: 0.8695 - val_loss: 0.3424 - val_accuracy: 0.8510\n",
      "Epoch 3/5\n",
      "625/625 [==============================] - 1s 2ms/step - loss: 0.2722 - accuracy: 0.8825 - val_loss: 0.3453 - val_accuracy: 0.8462 - loss: 0.2686 - accura - ETA: 0s - loss: 0.2721 - accuracy: 0.88\n",
      "Epoch 4/5\n",
      "625/625 [==============================] - 1s 2ms/step - loss: 0.2378 - accuracy: 0.8980 - val_loss: 0.3880 - val_accuracy: 0.8424\n",
      "Epoch 5/5\n",
      "625/625 [==============================] - 1s 2ms/step - loss: 0.1965 - accuracy: 0.9207 - val_loss: 0.3945 - val_accuracy: 0.8301\n",
      "157/157 [==============================] - 0s 845us/step - loss: 0.3929 - accuracy: 0.8378\n",
      "Epoch 1/5\n",
      "625/625 [==============================] - 2s 2ms/step - loss: 0.4287 - accuracy: 0.7987 - val_loss: 0.3659 - val_accuracy: 0.8358\n",
      "Epoch 2/5\n",
      "625/625 [==============================] - 1s 2ms/step - loss: 0.3023 - accuracy: 0.8695 - val_loss: 0.3434 - val_accuracy: 0.8464\n",
      "Epoch 3/5\n",
      "625/625 [==============================] - 1s 2ms/step - loss: 0.2767 - accuracy: 0.8842 - val_loss: 0.3466 - val_accuracy: 0.8490\n",
      "Epoch 4/5\n",
      "625/625 [==============================] - 1s 2ms/step - loss: 0.2425 - accuracy: 0.9019 - val_loss: 0.4188 - val_accuracy: 0.8365\n",
      "Epoch 5/5\n",
      "625/625 [==============================] - 1s 2ms/step - loss: 0.1933 - accuracy: 0.9219 - val_loss: 0.4373 - val_accuracy: 0.8326\n",
      "157/157 [==============================] - 0s 961us/step - loss: 0.4215 - accuracy: 0.8390\n",
      "Epoch 1/5\n",
      "625/625 [==============================] - 2s 2ms/step - loss: 0.4242 - accuracy: 0.8022 - val_loss: 0.3576 - val_accuracy: 0.8339\n",
      "Epoch 2/5\n",
      "625/625 [==============================] - 1s 2ms/step - loss: 0.3110 - accuracy: 0.8653 - val_loss: 0.3492 - val_accuracy: 0.8427\n",
      "Epoch 3/5\n",
      "625/625 [==============================] - 1s 2ms/step - loss: 0.2777 - accuracy: 0.8786 - val_loss: 0.3630 - val_accuracy: 0.8434\n",
      "Epoch 4/5\n",
      "625/625 [==============================] - 1s 2ms/step - loss: 0.2438 - accuracy: 0.9001 - val_loss: 0.3988 - val_accuracy: 0.8404\n",
      "Epoch 5/5\n",
      "625/625 [==============================] - 1s 2ms/step - loss: 0.2011 - accuracy: 0.9196 - val_loss: 0.4327 - val_accuracy: 0.8354\n",
      "157/157 [==============================] - 0s 840us/step - loss: 0.4071 - accuracy: 0.8470\n",
      "Epoch 1/5\n",
      "782/782 [==============================] - 2s 2ms/step - loss: 0.6359 - accuracy: 0.6358 - val_loss: 0.4176 - val_accuracy: 0.8231\n",
      "Epoch 2/5\n",
      "782/782 [==============================] - 1s 1ms/step - loss: 0.3837 - accuracy: 0.8376 - val_loss: 0.3551 - val_accuracy: 0.8478\n",
      "Epoch 3/5\n",
      "782/782 [==============================] - 1s 1ms/step - loss: 0.3221 - accuracy: 0.8670 - val_loss: 0.3433 - val_accuracy: 0.8540\n",
      "Epoch 4/5\n",
      "782/782 [==============================] - 1s 1ms/step - loss: 0.3098 - accuracy: 0.8685 - val_loss: 0.3407 - val_accuracy: 0.8555\n",
      "Epoch 5/5\n",
      "782/782 [==============================] - 1s 1ms/step - loss: 0.2994 - accuracy: 0.8765 - val_loss: 0.3377 - val_accuracy: 0.8558\n"
     ]
    },
    {
     "data": {
      "text/plain": [
       "GridSearchCV(estimator=<tensorflow.python.keras.wrappers.scikit_learn.KerasRegressor object at 0x0000021822617340>,\n",
       "             param_grid={'learning_rate': [0.0001, 0.001, 0.01],\n",
       "                         'n_units': [16, 32, 64]})"
      ]
     },
     "execution_count": 24,
     "metadata": {},
     "output_type": "execute_result"
    }
   ],
   "source": [
    "\n",
    "grid_search.fit(X_train.numpy(), y_train, epochs=5,#The number of epochs can be modified (check what happens by increasing it)\n",
    "                validation_data=(X_valid.numpy(), y_valid))"
   ]
  },
  {
   "cell_type": "markdown",
   "metadata": {
    "id": "aadmkiOoyM94"
   },
   "source": [
    "Print the best hyper-parameters, and evealuate the best model on the test set."
   ]
  },
  {
   "cell_type": "code",
   "execution_count": 25,
   "metadata": {
    "id": "b0nL5OZkylNX"
   },
   "outputs": [
    {
     "name": "stdout",
     "output_type": "stream",
     "text": [
      "{'learning_rate': 0.0001, 'n_units': 32}\n",
      "391/391 [==============================] - 0s 739us/step - loss: 0.3178 - accuracy: 0.8652\n"
     ]
    },
    {
     "data": {
      "text/plain": [
       "[0.3178088366985321, 0.8651999831199646]"
      ]
     },
     "execution_count": 25,
     "metadata": {},
     "output_type": "execute_result"
    }
   ],
   "source": [
    "print(grid_search.best_params_)\n",
    "\n",
    "model = grid_search.best_estimator_.model\n",
    "model.evaluate(X_test, y_test)"
   ]
  }
 ],
 "metadata": {
  "colab": {
   "collapsed_sections": [],
   "name": "HW2.ipynb",
   "provenance": [],
   "toc_visible": true
  },
  "kernelspec": {
   "display_name": "Python 3",
   "language": "python",
   "name": "python3"
  },
  "language_info": {
   "codemirror_mode": {
    "name": "ipython",
    "version": 3
   },
   "file_extension": ".py",
   "mimetype": "text/x-python",
   "name": "python",
   "nbconvert_exporter": "python",
   "pygments_lexer": "ipython3",
   "version": "3.8.3"
  }
 },
 "nbformat": 4,
 "nbformat_minor": 1
}
